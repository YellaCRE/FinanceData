{
 "cells": [
  {
   "cell_type": "code",
   "execution_count": 1,
   "id": "70f2b605",
   "metadata": {},
   "outputs": [
    {
     "data": {
      "text/plain": [
       "(119535, 93)"
      ]
     },
     "execution_count": 1,
     "metadata": {},
     "output_type": "execute_result"
    }
   ],
   "source": [
    "import pandas as pd\n",
    "import numpy as np\n",
    "\n",
    "data=pd.read_csv(r'C:\\Users\\vmffl\\workspace\\우리은행 데이터경진대회 데이터셋\\우리은행 데이터경진대회 데이터셋.csv',index_col=0)\n",
    "data.shape"
   ]
  },
  {
   "cell_type": "code",
   "execution_count": 2,
   "id": "237d0ff7",
   "metadata": {},
   "outputs": [
    {
     "data": {
      "text/html": [
       "<div>\n",
       "<style scoped>\n",
       "    .dataframe tbody tr th:only-of-type {\n",
       "        vertical-align: middle;\n",
       "    }\n",
       "\n",
       "    .dataframe tbody tr th {\n",
       "        vertical-align: top;\n",
       "    }\n",
       "\n",
       "    .dataframe thead th {\n",
       "        text-align: right;\n",
       "    }\n",
       "</style>\n",
       "<table border=\"1\" class=\"dataframe\">\n",
       "  <thead>\n",
       "    <tr style=\"text-align: right;\">\n",
       "      <th></th>\n",
       "      <th>TARGET</th>\n",
       "      <th>J_F1_LON_RK_3M_CNT_RE</th>\n",
       "      <th>J_F1_OTHER_LON_6M_AVBL_AM_RE</th>\n",
       "      <th>J_F1_OTHER_LON_MAX_3M_AM_RE</th>\n",
       "      <th>J_SHINBO_GIBO_AM_RE</th>\n",
       "      <th>J_TOT_LON_CNT_RE</th>\n",
       "      <th>J_TOT_LON_AGG_AM_RE</th>\n",
       "      <th>J_TOT_LON_MAX_AM_RE</th>\n",
       "      <th>J_DPS_CT_BAL_AM_RE</th>\n",
       "      <th>J_TOT_DPS_1M_AVBL_AM_RE</th>\n",
       "      <th>...</th>\n",
       "      <th>P_BR_CNTC_1M_CNT_RE</th>\n",
       "      <th>P_BR_CNTC_6M_CNT_RE</th>\n",
       "      <th>P_ATM_CNTC_6M_CNT_RE</th>\n",
       "      <th>P_INT_CNTC_6M_CNT_RE</th>\n",
       "      <th>P_TOT_LON_CNT_RE</th>\n",
       "      <th>P_TOT_LON_AGG_AM_RE</th>\n",
       "      <th>P_TOT_TS_6M_CNT_RE</th>\n",
       "      <th>P_TOT_TS_6M_AM_RE</th>\n",
       "      <th>P_OB_TS_6M_CNT_RE</th>\n",
       "      <th>P_OB_TS_6M_AM_RE</th>\n",
       "    </tr>\n",
       "  </thead>\n",
       "  <tbody>\n",
       "    <tr>\n",
       "      <th>1</th>\n",
       "      <td>0</td>\n",
       "      <td>2</td>\n",
       "      <td>3</td>\n",
       "      <td>4</td>\n",
       "      <td>1</td>\n",
       "      <td>2</td>\n",
       "      <td>3</td>\n",
       "      <td>3</td>\n",
       "      <td>1</td>\n",
       "      <td>1</td>\n",
       "      <td>...</td>\n",
       "      <td>1</td>\n",
       "      <td>1</td>\n",
       "      <td>1</td>\n",
       "      <td>1</td>\n",
       "      <td>1</td>\n",
       "      <td>1</td>\n",
       "      <td>1</td>\n",
       "      <td>1</td>\n",
       "      <td>1</td>\n",
       "      <td>1</td>\n",
       "    </tr>\n",
       "    <tr>\n",
       "      <th>2</th>\n",
       "      <td>0</td>\n",
       "      <td>1</td>\n",
       "      <td>2</td>\n",
       "      <td>3</td>\n",
       "      <td>1</td>\n",
       "      <td>1</td>\n",
       "      <td>1</td>\n",
       "      <td>1</td>\n",
       "      <td>3</td>\n",
       "      <td>3</td>\n",
       "      <td>...</td>\n",
       "      <td>1</td>\n",
       "      <td>3</td>\n",
       "      <td>3</td>\n",
       "      <td>1</td>\n",
       "      <td>1</td>\n",
       "      <td>1</td>\n",
       "      <td>3</td>\n",
       "      <td>3</td>\n",
       "      <td>3</td>\n",
       "      <td>3</td>\n",
       "    </tr>\n",
       "    <tr>\n",
       "      <th>3</th>\n",
       "      <td>0</td>\n",
       "      <td>2</td>\n",
       "      <td>3</td>\n",
       "      <td>4</td>\n",
       "      <td>1</td>\n",
       "      <td>1</td>\n",
       "      <td>1</td>\n",
       "      <td>1</td>\n",
       "      <td>1</td>\n",
       "      <td>1</td>\n",
       "      <td>...</td>\n",
       "      <td>1</td>\n",
       "      <td>1</td>\n",
       "      <td>1</td>\n",
       "      <td>1</td>\n",
       "      <td>1</td>\n",
       "      <td>1</td>\n",
       "      <td>1</td>\n",
       "      <td>1</td>\n",
       "      <td>1</td>\n",
       "      <td>1</td>\n",
       "    </tr>\n",
       "    <tr>\n",
       "      <th>4</th>\n",
       "      <td>0</td>\n",
       "      <td>3</td>\n",
       "      <td>3</td>\n",
       "      <td>4</td>\n",
       "      <td>1</td>\n",
       "      <td>4</td>\n",
       "      <td>4</td>\n",
       "      <td>4</td>\n",
       "      <td>1</td>\n",
       "      <td>1</td>\n",
       "      <td>...</td>\n",
       "      <td>3</td>\n",
       "      <td>3</td>\n",
       "      <td>3</td>\n",
       "      <td>1</td>\n",
       "      <td>3</td>\n",
       "      <td>3</td>\n",
       "      <td>1</td>\n",
       "      <td>1</td>\n",
       "      <td>1</td>\n",
       "      <td>1</td>\n",
       "    </tr>\n",
       "    <tr>\n",
       "      <th>5</th>\n",
       "      <td>0</td>\n",
       "      <td>3</td>\n",
       "      <td>3</td>\n",
       "      <td>4</td>\n",
       "      <td>1</td>\n",
       "      <td>1</td>\n",
       "      <td>1</td>\n",
       "      <td>1</td>\n",
       "      <td>1</td>\n",
       "      <td>1</td>\n",
       "      <td>...</td>\n",
       "      <td>1</td>\n",
       "      <td>1</td>\n",
       "      <td>1</td>\n",
       "      <td>1</td>\n",
       "      <td>1</td>\n",
       "      <td>1</td>\n",
       "      <td>1</td>\n",
       "      <td>1</td>\n",
       "      <td>1</td>\n",
       "      <td>1</td>\n",
       "    </tr>\n",
       "  </tbody>\n",
       "</table>\n",
       "<p>5 rows × 93 columns</p>\n",
       "</div>"
      ],
      "text/plain": [
       "   TARGET  J_F1_LON_RK_3M_CNT_RE  J_F1_OTHER_LON_6M_AVBL_AM_RE  \\\n",
       "1       0                      2                             3   \n",
       "2       0                      1                             2   \n",
       "3       0                      2                             3   \n",
       "4       0                      3                             3   \n",
       "5       0                      3                             3   \n",
       "\n",
       "   J_F1_OTHER_LON_MAX_3M_AM_RE  J_SHINBO_GIBO_AM_RE  J_TOT_LON_CNT_RE  \\\n",
       "1                            4                    1                 2   \n",
       "2                            3                    1                 1   \n",
       "3                            4                    1                 1   \n",
       "4                            4                    1                 4   \n",
       "5                            4                    1                 1   \n",
       "\n",
       "   J_TOT_LON_AGG_AM_RE  J_TOT_LON_MAX_AM_RE  J_DPS_CT_BAL_AM_RE  \\\n",
       "1                    3                    3                   1   \n",
       "2                    1                    1                   3   \n",
       "3                    1                    1                   1   \n",
       "4                    4                    4                   1   \n",
       "5                    1                    1                   1   \n",
       "\n",
       "   J_TOT_DPS_1M_AVBL_AM_RE  ...  P_BR_CNTC_1M_CNT_RE  P_BR_CNTC_6M_CNT_RE  \\\n",
       "1                        1  ...                    1                    1   \n",
       "2                        3  ...                    1                    3   \n",
       "3                        1  ...                    1                    1   \n",
       "4                        1  ...                    3                    3   \n",
       "5                        1  ...                    1                    1   \n",
       "\n",
       "   P_ATM_CNTC_6M_CNT_RE  P_INT_CNTC_6M_CNT_RE  P_TOT_LON_CNT_RE  \\\n",
       "1                     1                     1                 1   \n",
       "2                     3                     1                 1   \n",
       "3                     1                     1                 1   \n",
       "4                     3                     1                 3   \n",
       "5                     1                     1                 1   \n",
       "\n",
       "   P_TOT_LON_AGG_AM_RE  P_TOT_TS_6M_CNT_RE  P_TOT_TS_6M_AM_RE  \\\n",
       "1                    1                   1                  1   \n",
       "2                    1                   3                  3   \n",
       "3                    1                   1                  1   \n",
       "4                    3                   1                  1   \n",
       "5                    1                   1                  1   \n",
       "\n",
       "   P_OB_TS_6M_CNT_RE  P_OB_TS_6M_AM_RE  \n",
       "1                  1                 1  \n",
       "2                  3                 3  \n",
       "3                  1                 1  \n",
       "4                  1                 1  \n",
       "5                  1                 1  \n",
       "\n",
       "[5 rows x 93 columns]"
      ]
     },
     "execution_count": 2,
     "metadata": {},
     "output_type": "execute_result"
    }
   ],
   "source": [
    "data.head()"
   ]
  },
  {
   "cell_type": "code",
   "execution_count": 3,
   "id": "e6846391",
   "metadata": {},
   "outputs": [
    {
     "name": "stdout",
     "output_type": "stream",
     "text": [
      "<class 'pandas.core.frame.DataFrame'>\n",
      "Int64Index: 119535 entries, 1 to 119535\n",
      "Data columns (total 93 columns):\n",
      " #   Column                        Non-Null Count   Dtype\n",
      "---  ------                        --------------   -----\n",
      " 0   TARGET                        119535 non-null  int64\n",
      " 1   J_F1_LON_RK_3M_CNT_RE         119535 non-null  int64\n",
      " 2   J_F1_OTHER_LON_6M_AVBL_AM_RE  119535 non-null  int64\n",
      " 3   J_F1_OTHER_LON_MAX_3M_AM_RE   119535 non-null  int64\n",
      " 4   J_SHINBO_GIBO_AM_RE           119535 non-null  int64\n",
      " 5   J_TOT_LON_CNT_RE              119535 non-null  int64\n",
      " 6   J_TOT_LON_AGG_AM_RE           119535 non-null  int64\n",
      " 7   J_TOT_LON_MAX_AM_RE           119535 non-null  int64\n",
      " 8   J_DPS_CT_BAL_AM_RE            119535 non-null  int64\n",
      " 9   J_TOT_DPS_1M_AVBL_AM_RE       119535 non-null  int64\n",
      " 10  J_TOT_DPS_6M_AVBL_AM_RE       119535 non-null  int64\n",
      " 11  J_CORE_DPS_1M_AVBL_AM_RE      119535 non-null  int64\n",
      " 12  J_CORE_DPS_6M_AVBL_AM_RE      119535 non-null  int64\n",
      " 13  J_TOT_DPS_ACC_CNT_RE          119535 non-null  int64\n",
      " 14  J_NRML_DPS_ACC_CNT_RE         119535 non-null  int64\n",
      " 15  J_TOT_SAVING_ACC_CNT_RE       119535 non-null  int64\n",
      " 16  J_NRML_SAVING_ACC_CNT_RE      119535 non-null  int64\n",
      " 17  J_TOT_TS_1M_CNT_RE            119535 non-null  int64\n",
      " 18  J_TOT_TS_6M_CNT_RE            119535 non-null  int64\n",
      " 19  J_TOT_TS_1M_AM_RE             119535 non-null  int64\n",
      " 20  J_TOT_TS_6M_AM_RE             119535 non-null  int64\n",
      " 21  J_OB_TS_1M_CNT_RE             119535 non-null  int64\n",
      " 22  J_OB_TS_6M_CNT_RE             119535 non-null  int64\n",
      " 23  J_OB_TS_1M_AM_RE              119535 non-null  int64\n",
      " 24  J_OB_TS_6M_AM_RE              119535 non-null  int64\n",
      " 25  J_IB_TS_1M_CNT_RE             119535 non-null  int64\n",
      " 26  J_IB_TS_6M_CNT_RE             119535 non-null  int64\n",
      " 27  J_IB_TS_1M_AM_RE              119535 non-null  int64\n",
      " 28  J_IB_TS_6M_AM_RE              119535 non-null  int64\n",
      " 29  J_TOT_TS_3M_AVG_CNT_RE        119535 non-null  int64\n",
      " 30  J_TOT_TS_6M_AVG_CNT_RE        119535 non-null  int64\n",
      " 31  J_TOT_TS_3M_AVG_AM_RE         119535 non-null  int64\n",
      " 32  J_TOT_TS_6M_AVG_AM_RE         119535 non-null  int64\n",
      " 33  J_OB_TS_3M_AVG_CNT_RE         119535 non-null  int64\n",
      " 34  J_OB_TS_6M_AVG_CNT_RE         119535 non-null  int64\n",
      " 35  J_OB_TS_3M_AVG_AM_RE          119535 non-null  int64\n",
      " 36  J_OB_TS_6M_AVG_AM_RE          119535 non-null  int64\n",
      " 37  J_IB_TS_3M_AVG_CNT_RE         119535 non-null  int64\n",
      " 38  J_IB_TS_6M_AVG_CNT_RE         119535 non-null  int64\n",
      " 39  J_IB_TS_3M_AVG_AM_RE          119535 non-null  int64\n",
      " 40  J_IB_TS_6M_AVG_AM_RE          119535 non-null  int64\n",
      " 41  OBK_GRCR_AM_RE                119535 non-null  int64\n",
      " 42  M6L_OBK_GRCR_AM_RE            119535 non-null  int64\n",
      " 43  J_SIC_CD_5_RE                 119535 non-null  int64\n",
      " 44  J_SKIL_GDCD_RE                119535 non-null  int64\n",
      " 45  J_MAIN_LON_BANK_CD_RE         119535 non-null  int64\n",
      " 46  J_CTM_ASET_TOT_AM_RE          119535 non-null  int64\n",
      " 47  J_LBLT_TOT_AM_RE              119535 non-null  int64\n",
      " 48  J_TOT_BRW_AM_RE               119535 non-null  int64\n",
      " 49  J_CTM_CPTS_TOT_AM_RE          119535 non-null  int64\n",
      " 50  J_CTM_SAL_AM_RE               119535 non-null  int64\n",
      " 51  J_SAL_PCS_AM_RE               119535 non-null  int64\n",
      " 52  J_BZ_PFT_AM_RE                119535 non-null  int64\n",
      " 53  J_FNC_COST_AM_RE              119535 non-null  int64\n",
      " 54  J_CTM_NPFT_AM_RE              119535 non-null  int64\n",
      " 55  J_BZ_AFACT_CSFL_AM_RE         119535 non-null  int64\n",
      " 56  J_PFPC_CPMT_AF_CSFL_AM_RE     119535 non-null  int64\n",
      " 57  J_EBIT_VAL_NV_RT_RE           119535 non-null  int64\n",
      " 58  J_EBITDA_VAL_NV_RT_RE         119535 non-null  int64\n",
      " 59  J_LBLT_RT_RE                  119535 non-null  int64\n",
      " 60  J_FNC_COST_CMP_SALEM_RT_RE    119535 non-null  int64\n",
      " 61  J_BRWM_DPIN_RT_RE             119535 non-null  int64\n",
      " 62  J_STM_BRWM_DPIN_RT_RE         119535 non-null  int64\n",
      " 63  J_SALEM_BZ_PFT_RT_RE          119535 non-null  int64\n",
      " 64  P_PRIMARY_CUSTOM_FLG_RE       119535 non-null  int64\n",
      " 65  P_ACT_CUSTOM_FLG_RE           119535 non-null  int64\n",
      " 66  P_TOT_LON_FLG_RE              119535 non-null  int64\n",
      " 67  P_INBK_JNNG_FLG_RE            119535 non-null  int64\n",
      " 68  P_SMPB_JNNG_FLG_RE            119535 non-null  int64\n",
      " 69  P_TOT_DPS_1M_AVBL_AM_RE       119535 non-null  int64\n",
      " 70  P_TOT_DPS_6M_AVBL_AM_RE       119535 non-null  int64\n",
      " 71  P_CORE_DPS_1M_AVBL_AM_RE      119535 non-null  int64\n",
      " 72  P_CORE_DPS_6M_AVBL_AM_RE      119535 non-null  int64\n",
      " 73  P_TOT_DPS_ACC_CNT_RE          119535 non-null  int64\n",
      " 74  P_NRML_DPS_ACC_CNT_RE         119535 non-null  int64\n",
      " 75  P_NRML_SAVING_ACC_CNT_RE      119535 non-null  int64\n",
      " 76  P_TOT_SAVING_ACC_CNT_RE       119535 non-null  int64\n",
      " 77  P_MAX_TRN_1M_AM_RE            119535 non-null  int64\n",
      " 78  P_MAX_TRN_6M_AM_RE            119535 non-null  int64\n",
      " 79  P_AVG_TRN_1M_AM_RE            119535 non-null  int64\n",
      " 80  P_AVG_TRN_6M_AM_RE            119535 non-null  int64\n",
      " 81  P_SUM_TRN_1M_AM_RE            119535 non-null  int64\n",
      " 82  P_SUM_TRN_6M_AM_RE            119535 non-null  int64\n",
      " 83  P_BR_CNTC_1M_CNT_RE           119535 non-null  int64\n",
      " 84  P_BR_CNTC_6M_CNT_RE           119535 non-null  int64\n",
      " 85  P_ATM_CNTC_6M_CNT_RE          119535 non-null  int64\n",
      " 86  P_INT_CNTC_6M_CNT_RE          119535 non-null  int64\n",
      " 87  P_TOT_LON_CNT_RE              119535 non-null  int64\n",
      " 88  P_TOT_LON_AGG_AM_RE           119535 non-null  int64\n",
      " 89  P_TOT_TS_6M_CNT_RE            119535 non-null  int64\n",
      " 90  P_TOT_TS_6M_AM_RE             119535 non-null  int64\n",
      " 91  P_OB_TS_6M_CNT_RE             119535 non-null  int64\n",
      " 92  P_OB_TS_6M_AM_RE              119535 non-null  int64\n",
      "dtypes: int64(93)\n",
      "memory usage: 85.7 MB\n"
     ]
    }
   ],
   "source": [
    "data.info()"
   ]
  },
  {
   "cell_type": "markdown",
   "id": "a4b49756",
   "metadata": {},
   "source": [
    "INT 자료형을 CATEGORICAL 자료형으로 변환. 서열척도라고 판단해서 원핫코딩 및 더미코딩을 진행하지 않았음"
   ]
  },
  {
   "cell_type": "code",
   "execution_count": 4,
   "id": "b0c4db9b",
   "metadata": {},
   "outputs": [],
   "source": [
    "for col_name in data.columns:\n",
    "    data[col_name]=pd.Categorical(data[col_name])"
   ]
  },
  {
   "cell_type": "code",
   "execution_count": 5,
   "id": "252f6b30",
   "metadata": {},
   "outputs": [
    {
     "name": "stdout",
     "output_type": "stream",
     "text": [
      "<class 'pandas.core.frame.DataFrame'>\n",
      "Int64Index: 119535 entries, 1 to 119535\n",
      "Data columns (total 93 columns):\n",
      " #   Column                        Non-Null Count   Dtype   \n",
      "---  ------                        --------------   -----   \n",
      " 0   TARGET                        119535 non-null  category\n",
      " 1   J_F1_LON_RK_3M_CNT_RE         119535 non-null  category\n",
      " 2   J_F1_OTHER_LON_6M_AVBL_AM_RE  119535 non-null  category\n",
      " 3   J_F1_OTHER_LON_MAX_3M_AM_RE   119535 non-null  category\n",
      " 4   J_SHINBO_GIBO_AM_RE           119535 non-null  category\n",
      " 5   J_TOT_LON_CNT_RE              119535 non-null  category\n",
      " 6   J_TOT_LON_AGG_AM_RE           119535 non-null  category\n",
      " 7   J_TOT_LON_MAX_AM_RE           119535 non-null  category\n",
      " 8   J_DPS_CT_BAL_AM_RE            119535 non-null  category\n",
      " 9   J_TOT_DPS_1M_AVBL_AM_RE       119535 non-null  category\n",
      " 10  J_TOT_DPS_6M_AVBL_AM_RE       119535 non-null  category\n",
      " 11  J_CORE_DPS_1M_AVBL_AM_RE      119535 non-null  category\n",
      " 12  J_CORE_DPS_6M_AVBL_AM_RE      119535 non-null  category\n",
      " 13  J_TOT_DPS_ACC_CNT_RE          119535 non-null  category\n",
      " 14  J_NRML_DPS_ACC_CNT_RE         119535 non-null  category\n",
      " 15  J_TOT_SAVING_ACC_CNT_RE       119535 non-null  category\n",
      " 16  J_NRML_SAVING_ACC_CNT_RE      119535 non-null  category\n",
      " 17  J_TOT_TS_1M_CNT_RE            119535 non-null  category\n",
      " 18  J_TOT_TS_6M_CNT_RE            119535 non-null  category\n",
      " 19  J_TOT_TS_1M_AM_RE             119535 non-null  category\n",
      " 20  J_TOT_TS_6M_AM_RE             119535 non-null  category\n",
      " 21  J_OB_TS_1M_CNT_RE             119535 non-null  category\n",
      " 22  J_OB_TS_6M_CNT_RE             119535 non-null  category\n",
      " 23  J_OB_TS_1M_AM_RE              119535 non-null  category\n",
      " 24  J_OB_TS_6M_AM_RE              119535 non-null  category\n",
      " 25  J_IB_TS_1M_CNT_RE             119535 non-null  category\n",
      " 26  J_IB_TS_6M_CNT_RE             119535 non-null  category\n",
      " 27  J_IB_TS_1M_AM_RE              119535 non-null  category\n",
      " 28  J_IB_TS_6M_AM_RE              119535 non-null  category\n",
      " 29  J_TOT_TS_3M_AVG_CNT_RE        119535 non-null  category\n",
      " 30  J_TOT_TS_6M_AVG_CNT_RE        119535 non-null  category\n",
      " 31  J_TOT_TS_3M_AVG_AM_RE         119535 non-null  category\n",
      " 32  J_TOT_TS_6M_AVG_AM_RE         119535 non-null  category\n",
      " 33  J_OB_TS_3M_AVG_CNT_RE         119535 non-null  category\n",
      " 34  J_OB_TS_6M_AVG_CNT_RE         119535 non-null  category\n",
      " 35  J_OB_TS_3M_AVG_AM_RE          119535 non-null  category\n",
      " 36  J_OB_TS_6M_AVG_AM_RE          119535 non-null  category\n",
      " 37  J_IB_TS_3M_AVG_CNT_RE         119535 non-null  category\n",
      " 38  J_IB_TS_6M_AVG_CNT_RE         119535 non-null  category\n",
      " 39  J_IB_TS_3M_AVG_AM_RE          119535 non-null  category\n",
      " 40  J_IB_TS_6M_AVG_AM_RE          119535 non-null  category\n",
      " 41  OBK_GRCR_AM_RE                119535 non-null  category\n",
      " 42  M6L_OBK_GRCR_AM_RE            119535 non-null  category\n",
      " 43  J_SIC_CD_5_RE                 119535 non-null  category\n",
      " 44  J_SKIL_GDCD_RE                119535 non-null  category\n",
      " 45  J_MAIN_LON_BANK_CD_RE         119535 non-null  category\n",
      " 46  J_CTM_ASET_TOT_AM_RE          119535 non-null  category\n",
      " 47  J_LBLT_TOT_AM_RE              119535 non-null  category\n",
      " 48  J_TOT_BRW_AM_RE               119535 non-null  category\n",
      " 49  J_CTM_CPTS_TOT_AM_RE          119535 non-null  category\n",
      " 50  J_CTM_SAL_AM_RE               119535 non-null  category\n",
      " 51  J_SAL_PCS_AM_RE               119535 non-null  category\n",
      " 52  J_BZ_PFT_AM_RE                119535 non-null  category\n",
      " 53  J_FNC_COST_AM_RE              119535 non-null  category\n",
      " 54  J_CTM_NPFT_AM_RE              119535 non-null  category\n",
      " 55  J_BZ_AFACT_CSFL_AM_RE         119535 non-null  category\n",
      " 56  J_PFPC_CPMT_AF_CSFL_AM_RE     119535 non-null  category\n",
      " 57  J_EBIT_VAL_NV_RT_RE           119535 non-null  category\n",
      " 58  J_EBITDA_VAL_NV_RT_RE         119535 non-null  category\n",
      " 59  J_LBLT_RT_RE                  119535 non-null  category\n",
      " 60  J_FNC_COST_CMP_SALEM_RT_RE    119535 non-null  category\n",
      " 61  J_BRWM_DPIN_RT_RE             119535 non-null  category\n",
      " 62  J_STM_BRWM_DPIN_RT_RE         119535 non-null  category\n",
      " 63  J_SALEM_BZ_PFT_RT_RE          119535 non-null  category\n",
      " 64  P_PRIMARY_CUSTOM_FLG_RE       119535 non-null  category\n",
      " 65  P_ACT_CUSTOM_FLG_RE           119535 non-null  category\n",
      " 66  P_TOT_LON_FLG_RE              119535 non-null  category\n",
      " 67  P_INBK_JNNG_FLG_RE            119535 non-null  category\n",
      " 68  P_SMPB_JNNG_FLG_RE            119535 non-null  category\n",
      " 69  P_TOT_DPS_1M_AVBL_AM_RE       119535 non-null  category\n",
      " 70  P_TOT_DPS_6M_AVBL_AM_RE       119535 non-null  category\n",
      " 71  P_CORE_DPS_1M_AVBL_AM_RE      119535 non-null  category\n",
      " 72  P_CORE_DPS_6M_AVBL_AM_RE      119535 non-null  category\n",
      " 73  P_TOT_DPS_ACC_CNT_RE          119535 non-null  category\n",
      " 74  P_NRML_DPS_ACC_CNT_RE         119535 non-null  category\n",
      " 75  P_NRML_SAVING_ACC_CNT_RE      119535 non-null  category\n",
      " 76  P_TOT_SAVING_ACC_CNT_RE       119535 non-null  category\n",
      " 77  P_MAX_TRN_1M_AM_RE            119535 non-null  category\n",
      " 78  P_MAX_TRN_6M_AM_RE            119535 non-null  category\n",
      " 79  P_AVG_TRN_1M_AM_RE            119535 non-null  category\n",
      " 80  P_AVG_TRN_6M_AM_RE            119535 non-null  category\n",
      " 81  P_SUM_TRN_1M_AM_RE            119535 non-null  category\n",
      " 82  P_SUM_TRN_6M_AM_RE            119535 non-null  category\n",
      " 83  P_BR_CNTC_1M_CNT_RE           119535 non-null  category\n",
      " 84  P_BR_CNTC_6M_CNT_RE           119535 non-null  category\n",
      " 85  P_ATM_CNTC_6M_CNT_RE          119535 non-null  category\n",
      " 86  P_INT_CNTC_6M_CNT_RE          119535 non-null  category\n",
      " 87  P_TOT_LON_CNT_RE              119535 non-null  category\n",
      " 88  P_TOT_LON_AGG_AM_RE           119535 non-null  category\n",
      " 89  P_TOT_TS_6M_CNT_RE            119535 non-null  category\n",
      " 90  P_TOT_TS_6M_AM_RE             119535 non-null  category\n",
      " 91  P_OB_TS_6M_CNT_RE             119535 non-null  category\n",
      " 92  P_OB_TS_6M_AM_RE              119535 non-null  category\n",
      "dtypes: category(93)\n",
      "memory usage: 11.5 MB\n"
     ]
    }
   ],
   "source": [
    "data.info()"
   ]
  },
  {
   "cell_type": "markdown",
   "id": "dc5e0376",
   "metadata": {},
   "source": [
    "타겟 변수에 1 비율이 매우 낮음. 데이터의 불균형이 심각함."
   ]
  },
  {
   "cell_type": "code",
   "execution_count": 6,
   "id": "5bd18ac4",
   "metadata": {},
   "outputs": [
    {
     "data": {
      "text/plain": [
       "0    118720\n",
       "1       815\n",
       "Name: TARGET, dtype: int64"
      ]
     },
     "execution_count": 6,
     "metadata": {},
     "output_type": "execute_result"
    }
   ],
   "source": [
    "data['TARGET'].value_counts()"
   ]
  },
  {
   "cell_type": "code",
   "execution_count": 7,
   "id": "b349e2ec",
   "metadata": {},
   "outputs": [
    {
     "data": {
      "text/plain": [
       "0    0.993182\n",
       "1    0.006818\n",
       "Name: TARGET, dtype: float64"
      ]
     },
     "execution_count": 7,
     "metadata": {},
     "output_type": "execute_result"
    }
   ],
   "source": [
    "data['TARGET'].value_counts(normalize = True)"
   ]
  },
  {
   "cell_type": "code",
   "execution_count": 8,
   "id": "28effc05",
   "metadata": {},
   "outputs": [
    {
     "data": {
      "text/plain": [
       "<AxesSubplot:>"
      ]
     },
     "execution_count": 8,
     "metadata": {},
     "output_type": "execute_result"
    },
    {
     "data": {
      "image/png": "[encoded data removed]",
      "text/plain": [
       "<Figure size 432x288 with 1 Axes>"
      ]
     },
     "metadata": {
      "needs_background": "light"
     },
     "output_type": "display_data"
    }
   ],
   "source": [
    "data['TARGET'].value_counts(normalize=True).plot(kind='bar')"
   ]
  },
  {
   "cell_type": "markdown",
   "id": "199953db",
   "metadata": {},
   "source": [
    "train, test 데이터 분할(테스트 데이터 비율 20%)"
   ]
  },
  {
   "cell_type": "code",
   "execution_count": 9,
   "id": "a369ff28",
   "metadata": {},
   "outputs": [
    {
     "name": "stdout",
     "output_type": "stream",
     "text": [
      "(95628, 93)\n",
      "(23907, 93)\n"
     ]
    }
   ],
   "source": [
    "from sklearn.model_selection import train_test_split\n",
    "\n",
    "train_data, test_data = train_test_split(data,test_size=0.2, random_state=100)\n",
    "print(train_data.shape)\n",
    "print(test_data.shape)"
   ]
  },
  {
   "cell_type": "markdown",
   "id": "a0b68820",
   "metadata": {},
   "source": [
    "train, test 데이터 속 target 데이터의 비율 확인"
   ]
  },
  {
   "cell_type": "code",
   "execution_count": 10,
   "id": "ee65520d",
   "metadata": {},
   "outputs": [
    {
     "data": {
      "text/plain": [
       "0    94969\n",
       "1      659\n",
       "Name: TARGET, dtype: int64"
      ]
     },
     "execution_count": 10,
     "metadata": {},
     "output_type": "execute_result"
    }
   ],
   "source": [
    "train_data['TARGET'].value_counts()"
   ]
  },
  {
   "cell_type": "code",
   "execution_count": 11,
   "id": "270c4f21",
   "metadata": {},
   "outputs": [
    {
     "data": {
      "text/plain": [
       "0    23751\n",
       "1      156\n",
       "Name: TARGET, dtype: int64"
      ]
     },
     "execution_count": 11,
     "metadata": {},
     "output_type": "execute_result"
    }
   ],
   "source": [
    "test_data['TARGET'].value_counts()"
   ]
  },
  {
   "cell_type": "code",
   "execution_count": 54,
   "id": "955ef84a",
   "metadata": {},
   "outputs": [
    {
     "name": "stdout",
     "output_type": "stream",
     "text": [
      "0    99.310871\n",
      "1     0.689129\n",
      "Name: TARGET, dtype: float64\n"
     ]
    }
   ],
   "source": [
    "print(train_data['TARGET'].value_counts()/train_data['TARGET'].shape[0]*100)"
   ]
  },
  {
   "cell_type": "code",
   "execution_count": 55,
   "id": "68e13e44",
   "metadata": {},
   "outputs": [
    {
     "name": "stdout",
     "output_type": "stream",
     "text": [
      "0    99.347471\n",
      "1     0.652529\n",
      "Name: TARGET, dtype: float64\n"
     ]
    }
   ],
   "source": [
    "print(test_data['TARGET'].value_counts()/test_data['TARGET'].shape[0]*100)"
   ]
  },
  {
   "cell_type": "code",
   "execution_count": 13,
   "id": "8c5a1cb0",
   "metadata": {},
   "outputs": [],
   "source": [
    "X_trn=train_data.iloc[:,1:]\n",
    "y_trn=train_data['TARGET']\n",
    "X_tes=test_data.iloc[:,1:]\n",
    "y_tes=test_data['TARGET']"
   ]
  },
  {
   "cell_type": "markdown",
   "id": "90961d54",
   "metadata": {},
   "source": [
    "SMOTEN 을 이용해서 TRAINING DATA를 오버샘플링"
   ]
  },
  {
   "cell_type": "code",
   "execution_count": 14,
   "id": "25ed6ce2",
   "metadata": {},
   "outputs": [],
   "source": [
    "from imblearn.over_sampling import SMOTEN\n",
    "smoten = SMOTEN()\n",
    "X_trn_over, y_trn_over = smoten.fit_resample(X_trn,y_trn)"
   ]
  },
  {
   "cell_type": "markdown",
   "id": "d24b2ca2",
   "metadata": {},
   "source": [
    "sampling 된 타겟 데이터의 0과 1의 비율이 같아진 것을 확인할 수 있다."
   ]
  },
  {
   "cell_type": "code",
   "execution_count": 15,
   "id": "f2be9454",
   "metadata": {},
   "outputs": [
    {
     "data": {
      "text/plain": [
       "0    94969\n",
       "1    94969\n",
       "Name: TARGET, dtype: int64"
      ]
     },
     "execution_count": 15,
     "metadata": {},
     "output_type": "execute_result"
    }
   ],
   "source": [
    "y_trn_over.value_counts()"
   ]
  },
  {
   "cell_type": "code",
   "execution_count": 16,
   "id": "62acd5ab",
   "metadata": {},
   "outputs": [
    {
     "data": {
      "text/plain": [
       "(189938, 92)"
      ]
     },
     "execution_count": 16,
     "metadata": {},
     "output_type": "execute_result"
    }
   ],
   "source": [
    "X_trn_over.shape"
   ]
  },
  {
   "cell_type": "code",
   "execution_count": 17,
   "id": "f33a98e3",
   "metadata": {},
   "outputs": [],
   "source": [
    "from sklearn.metrics import accuracy_score, precision_score, recall_score, roc_auc_score, f1_score, confusion_matrix, roc_curve\n",
    " \n",
    "\n",
    "def get_eval(y_test,pred=None):\n",
    "    confusion=confusion_matrix(y_test,pred)\n",
    "    accuracy=accuracy_score(y_test,pred)\n",
    "    precision=precision_score(y_test,pred)\n",
    "    recall=recall_score(y_test, pred)\n",
    "    f1 = f1_score(y_test,pred)\n",
    "    precision2=precision_score(y_test,pred,pos_label=0)\n",
    "    recall2=recall_score(y_test,pred,pos_label=0)\n",
    "    f1_2=f1_score(y_test,pred,pos_label=0)\n",
    "    print(\"confusion matrix\")\n",
    "    print(confusion)\n",
    "    print('accuracy : {0:.4f} , precision : {1:.4f} , recall : {2:.4f}, F1 score : {3:.4f} \\n precision(0) : {4:.4f} , recall(0) : {5:.4f}, f1(0) : {6:.4f}'.format(accuracy,precision, recall,f1,precision2,recall2,f1_2))"
   ]
  },
  {
   "cell_type": "markdown",
   "id": "765f5265",
   "metadata": {},
   "source": [
    "oversampling 되지 않은 데이터로 모델을 학습시켰을때, 데이터의 비율이 큰 0에 관해서는 높은 precision, recall, f1 score 값을\n",
    "보여주지만 데이터의 비율이 적은 1에 대해서는 현저히 적은 precision, recall, f1 score 값을 보여준다."
   ]
  },
  {
   "cell_type": "code",
   "execution_count": 18,
   "id": "5377f683",
   "metadata": {},
   "outputs": [
    {
     "name": "stdout",
     "output_type": "stream",
     "text": [
      "confusion matrix\n",
      "[[23751     0]\n",
      " [  156     0]]\n",
      "accuracy : 0.9935 , precision : 0.0000 , recall : 0.0000, F1 score : 0.0000 \n",
      " precision(0) : 0.9935 , recall(0) : 1.0000, f1(0) : 0.9967\n"
     ]
    },
    {
     "name": "stderr",
     "output_type": "stream",
     "text": [
      "C:\\Users\\vmffl\\python\\lib\\site-packages\\sklearn\\metrics\\_classification.py:1245: UndefinedMetricWarning: Precision is ill-defined and being set to 0.0 due to no predicted samples. Use `zero_division` parameter to control this behavior.\n",
      "  _warn_prf(average, modifier, msg_start, len(result))\n"
     ]
    }
   ],
   "source": [
    "from sklearn.linear_model import LogisticRegression\n",
    "clf=LogisticRegression(max_iter = 1000)\n",
    "clf.fit(X_trn,y_trn)\n",
    "pred=clf.predict(X_tes)\n",
    "get_eval(y_tes,pred)"
   ]
  },
  {
   "cell_type": "markdown",
   "id": "c9bd5300",
   "metadata": {},
   "source": [
    "오버샘플링 된 데이터로 모델을 학습시켰을때, accuracy 값을 소폭 하향되었으나 데이터의 비율이 적은 1에 대해서 recall 값이 크게 상승하였다.\n",
    "하지만 precision, f1 score값에 대해서는 상승폭이 크지 않다"
   ]
  },
  {
   "cell_type": "code",
   "execution_count": 21,
   "id": "b24c272d",
   "metadata": {
    "scrolled": true
   },
   "outputs": [
    {
     "name": "stdout",
     "output_type": "stream",
     "text": [
      "confusion matrix\n",
      "[[20847  2904]\n",
      " [   33   123]]\n",
      "accuracy : 0.8771 , precision : 0.0406 , recall : 0.7885, F1 score : 0.0773 \n",
      " precision(0) : 0.9984 , recall(0) : 0.8777, f1(0) : 0.9342\n"
     ]
    }
   ],
   "source": [
    "clf2=LogisticRegression(max_iter=1000)\n",
    "clf2.fit(X_trn_over,y_trn_over)\n",
    "pred2=clf2.predict(X_tes)\n",
    "get_eval(y_tes,pred2)"
   ]
  },
  {
   "cell_type": "markdown",
   "id": "9b39634b",
   "metadata": {},
   "source": [
    "precision 값을 올리기 위해 임계값(threshold)값을 조정해보자. threshold 값이 올라갈수록 recall 값은 떨어지고 precision 값을 올라감. "
   ]
  },
  {
   "cell_type": "code",
   "execution_count": 22,
   "id": "de9fe86f",
   "metadata": {},
   "outputs": [
    {
     "data": {
      "image/png": "[encoded data removed]",
      "text/plain": [
       "<Figure size 576x432 with 1 Axes>"
      ]
     },
     "metadata": {
      "needs_background": "light"
     },
     "output_type": "display_data"
    }
   ],
   "source": [
    "from sklearn.metrics import precision_recall_curve\n",
    "\n",
    "predict_prob_class1=clf2.predict_proba(X_tes)[:,1]\n",
    "\n",
    "import matplotlib.pyplot as plt\n",
    "import matplotlib.ticker as ticker\n",
    "\n",
    "def precision_recall_curve_plot(y_test, pred_proba_cl):\n",
    "    precisions, recalls, thresholds = precision_recall_curve(y_test, pred_proba_cl)\n",
    "    plt.figure(figsize=(8,6))\n",
    "    threshold_boundary = thresholds.shape[0]\n",
    "    plt.plot(thresholds, precisions[0:threshold_boundary], linestyle='--', label = 'precision')\n",
    "    plt.plot(thresholds, recalls[0:threshold_boundary], label = 'recall')\n",
    "    start, end = plt.xlim()\n",
    "    plt.xticks(np.round(np.arange(start, end, 0.1),2))\n",
    "    plt.xlabel('Threshold value')\n",
    "    plt.ylabel('Precision and Recall value')\n",
    "    plt.legend()\n",
    "    plt.grid()\n",
    "    plt.show()\n",
    "\n",
    "precision_recall_curve_plot(y_tes, predict_prob_class1)"
   ]
  },
  {
   "cell_type": "markdown",
   "id": "b3635ccf",
   "metadata": {},
   "source": [
    "ROC 곡선과 AUC"
   ]
  },
  {
   "cell_type": "code",
   "execution_count": 25,
   "id": "321b9ae4",
   "metadata": {},
   "outputs": [
    {
     "data": {
      "image/png": "[encoded data removed]",
      "text/plain": [
       "<Figure size 432x288 with 1 Axes>"
      ]
     },
     "metadata": {
      "needs_background": "light"
     },
     "output_type": "display_data"
    }
   ],
   "source": [
    "def roc_curve_plot(y_test, pred_proba_c1):\n",
    "    fprs, tprs, thresholds = roc_curve(y_test, pred_proba_c1)\n",
    "    plt.plot(fprs, tprs, label = 'ROC')\n",
    "    plt.plot([0,1],[0,1],'k--',label='Random')\n",
    "    start, end = plt.xlim()\n",
    "    plt.xticks(np.round(np.arange(start,end,0.1),2))\n",
    "    plt.xlim(0,1);plt.ylim(0,1)\n",
    "    plt.xlabel('FPR(1-Sensitivity)');plt.ylabel('TPR(Recall)')\n",
    "    plt.legend()\n",
    "    \n",
    "roc_curve_plot(y_tes, predict_prob_class1)"
   ]
  },
  {
   "cell_type": "code",
   "execution_count": 28,
   "id": "a93f0b3a",
   "metadata": {},
   "outputs": [
    {
     "data": {
      "text/plain": [
       "0.8895934476173203"
      ]
     },
     "execution_count": 28,
     "metadata": {},
     "output_type": "execute_result"
    }
   ],
   "source": [
    "roc_auc_score(y_tes, predict_prob_class1)"
   ]
  }
 ],
 "metadata": {
  "kernelspec": {
   "display_name": "Python 3",
   "language": "python",
   "name": "python3"
  },
  "language_info": {
   "codemirror_mode": {
    "name": "ipython",
    "version": 3
   },
   "file_extension": ".py",
   "mimetype": "text/x-python",
   "name": "python",
   "nbconvert_exporter": "python",
   "pygments_lexer": "ipython3",
   "version": "3.8.3"
  }
 },
 "nbformat": 4,
 "nbformat_minor": 5
}
