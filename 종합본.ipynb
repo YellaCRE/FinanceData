{
 "cells": [
  {
   "cell_type": "code",
   "execution_count": 1,
   "id": "74d657c5",
   "metadata": {},
   "outputs": [],
   "source": [
    "import pandas as pd\n",
    "import numpy as np\n",
    "\n",
    "data=pd.read_csv(r'C:\\Users\\vmffl\\workspace\\우리은행 데이터경진대회 데이터셋\\우리은행 데이터경진대회 데이터셋.csv',index_col=0)\n",
    "\n",
    "for col_name in data.columns:\n",
    "    data[col_name]=pd.Categorical(data[col_name])\n",
    "\n",
    "from sklearn.model_selection import train_test_split\n",
    "\n",
    "train_data, test_data = train_test_split(data,test_size=0.2, random_state=100)\n",
    "\n",
    "X_trn=train_data.iloc[:,1:]\n",
    "y_trn=train_data['TARGET']\n",
    "X_tes=test_data.iloc[:,1:]\n",
    "y_tes=test_data['TARGET']"
   ]
  },
  {
   "cell_type": "code",
   "execution_count": 3,
   "id": "3c98a80f",
   "metadata": {},
   "outputs": [
    {
     "data": {
      "text/html": [
       "<div>\n",
       "<style scoped>\n",
       "    .dataframe tbody tr th:only-of-type {\n",
       "        vertical-align: middle;\n",
       "    }\n",
       "\n",
       "    .dataframe tbody tr th {\n",
       "        vertical-align: top;\n",
       "    }\n",
       "\n",
       "    .dataframe thead th {\n",
       "        text-align: right;\n",
       "    }\n",
       "</style>\n",
       "<table border=\"1\" class=\"dataframe\">\n",
       "  <thead>\n",
       "    <tr style=\"text-align: right;\">\n",
       "      <th></th>\n",
       "      <th>TARGET</th>\n",
       "      <th>J_F1_LON_RK_3M_CNT_RE</th>\n",
       "      <th>J_F1_OTHER_LON_6M_AVBL_AM_RE</th>\n",
       "      <th>J_F1_OTHER_LON_MAX_3M_AM_RE</th>\n",
       "      <th>J_SHINBO_GIBO_AM_RE</th>\n",
       "      <th>J_TOT_LON_CNT_RE</th>\n",
       "      <th>J_TOT_LON_AGG_AM_RE</th>\n",
       "      <th>J_TOT_LON_MAX_AM_RE</th>\n",
       "      <th>J_DPS_CT_BAL_AM_RE</th>\n",
       "      <th>J_TOT_DPS_1M_AVBL_AM_RE</th>\n",
       "      <th>...</th>\n",
       "      <th>P_BR_CNTC_1M_CNT_RE</th>\n",
       "      <th>P_BR_CNTC_6M_CNT_RE</th>\n",
       "      <th>P_ATM_CNTC_6M_CNT_RE</th>\n",
       "      <th>P_INT_CNTC_6M_CNT_RE</th>\n",
       "      <th>P_TOT_LON_CNT_RE</th>\n",
       "      <th>P_TOT_LON_AGG_AM_RE</th>\n",
       "      <th>P_TOT_TS_6M_CNT_RE</th>\n",
       "      <th>P_TOT_TS_6M_AM_RE</th>\n",
       "      <th>P_OB_TS_6M_CNT_RE</th>\n",
       "      <th>P_OB_TS_6M_AM_RE</th>\n",
       "    </tr>\n",
       "  </thead>\n",
       "  <tbody>\n",
       "    <tr>\n",
       "      <th>1</th>\n",
       "      <td>0</td>\n",
       "      <td>2</td>\n",
       "      <td>3</td>\n",
       "      <td>4</td>\n",
       "      <td>1</td>\n",
       "      <td>2</td>\n",
       "      <td>3</td>\n",
       "      <td>3</td>\n",
       "      <td>1</td>\n",
       "      <td>1</td>\n",
       "      <td>...</td>\n",
       "      <td>1</td>\n",
       "      <td>1</td>\n",
       "      <td>1</td>\n",
       "      <td>1</td>\n",
       "      <td>1</td>\n",
       "      <td>1</td>\n",
       "      <td>1</td>\n",
       "      <td>1</td>\n",
       "      <td>1</td>\n",
       "      <td>1</td>\n",
       "    </tr>\n",
       "    <tr>\n",
       "      <th>2</th>\n",
       "      <td>0</td>\n",
       "      <td>1</td>\n",
       "      <td>2</td>\n",
       "      <td>3</td>\n",
       "      <td>1</td>\n",
       "      <td>1</td>\n",
       "      <td>1</td>\n",
       "      <td>1</td>\n",
       "      <td>3</td>\n",
       "      <td>3</td>\n",
       "      <td>...</td>\n",
       "      <td>1</td>\n",
       "      <td>3</td>\n",
       "      <td>3</td>\n",
       "      <td>1</td>\n",
       "      <td>1</td>\n",
       "      <td>1</td>\n",
       "      <td>3</td>\n",
       "      <td>3</td>\n",
       "      <td>3</td>\n",
       "      <td>3</td>\n",
       "    </tr>\n",
       "    <tr>\n",
       "      <th>3</th>\n",
       "      <td>0</td>\n",
       "      <td>2</td>\n",
       "      <td>3</td>\n",
       "      <td>4</td>\n",
       "      <td>1</td>\n",
       "      <td>1</td>\n",
       "      <td>1</td>\n",
       "      <td>1</td>\n",
       "      <td>1</td>\n",
       "      <td>1</td>\n",
       "      <td>...</td>\n",
       "      <td>1</td>\n",
       "      <td>1</td>\n",
       "      <td>1</td>\n",
       "      <td>1</td>\n",
       "      <td>1</td>\n",
       "      <td>1</td>\n",
       "      <td>1</td>\n",
       "      <td>1</td>\n",
       "      <td>1</td>\n",
       "      <td>1</td>\n",
       "    </tr>\n",
       "    <tr>\n",
       "      <th>4</th>\n",
       "      <td>0</td>\n",
       "      <td>3</td>\n",
       "      <td>3</td>\n",
       "      <td>4</td>\n",
       "      <td>1</td>\n",
       "      <td>4</td>\n",
       "      <td>4</td>\n",
       "      <td>4</td>\n",
       "      <td>1</td>\n",
       "      <td>1</td>\n",
       "      <td>...</td>\n",
       "      <td>3</td>\n",
       "      <td>3</td>\n",
       "      <td>3</td>\n",
       "      <td>1</td>\n",
       "      <td>3</td>\n",
       "      <td>3</td>\n",
       "      <td>1</td>\n",
       "      <td>1</td>\n",
       "      <td>1</td>\n",
       "      <td>1</td>\n",
       "    </tr>\n",
       "    <tr>\n",
       "      <th>5</th>\n",
       "      <td>0</td>\n",
       "      <td>3</td>\n",
       "      <td>3</td>\n",
       "      <td>4</td>\n",
       "      <td>1</td>\n",
       "      <td>1</td>\n",
       "      <td>1</td>\n",
       "      <td>1</td>\n",
       "      <td>1</td>\n",
       "      <td>1</td>\n",
       "      <td>...</td>\n",
       "      <td>1</td>\n",
       "      <td>1</td>\n",
       "      <td>1</td>\n",
       "      <td>1</td>\n",
       "      <td>1</td>\n",
       "      <td>1</td>\n",
       "      <td>1</td>\n",
       "      <td>1</td>\n",
       "      <td>1</td>\n",
       "      <td>1</td>\n",
       "    </tr>\n",
       "  </tbody>\n",
       "</table>\n",
       "<p>5 rows × 93 columns</p>\n",
       "</div>"
      ],
      "text/plain": [
       "  TARGET J_F1_LON_RK_3M_CNT_RE J_F1_OTHER_LON_6M_AVBL_AM_RE  \\\n",
       "1      0                     2                            3   \n",
       "2      0                     1                            2   \n",
       "3      0                     2                            3   \n",
       "4      0                     3                            3   \n",
       "5      0                     3                            3   \n",
       "\n",
       "  J_F1_OTHER_LON_MAX_3M_AM_RE J_SHINBO_GIBO_AM_RE J_TOT_LON_CNT_RE  \\\n",
       "1                           4                   1                2   \n",
       "2                           3                   1                1   \n",
       "3                           4                   1                1   \n",
       "4                           4                   1                4   \n",
       "5                           4                   1                1   \n",
       "\n",
       "  J_TOT_LON_AGG_AM_RE J_TOT_LON_MAX_AM_RE J_DPS_CT_BAL_AM_RE  \\\n",
       "1                   3                   3                  1   \n",
       "2                   1                   1                  3   \n",
       "3                   1                   1                  1   \n",
       "4                   4                   4                  1   \n",
       "5                   1                   1                  1   \n",
       "\n",
       "  J_TOT_DPS_1M_AVBL_AM_RE  ... P_BR_CNTC_1M_CNT_RE P_BR_CNTC_6M_CNT_RE  \\\n",
       "1                       1  ...                   1                   1   \n",
       "2                       3  ...                   1                   3   \n",
       "3                       1  ...                   1                   1   \n",
       "4                       1  ...                   3                   3   \n",
       "5                       1  ...                   1                   1   \n",
       "\n",
       "  P_ATM_CNTC_6M_CNT_RE P_INT_CNTC_6M_CNT_RE P_TOT_LON_CNT_RE  \\\n",
       "1                    1                    1                1   \n",
       "2                    3                    1                1   \n",
       "3                    1                    1                1   \n",
       "4                    3                    1                3   \n",
       "5                    1                    1                1   \n",
       "\n",
       "  P_TOT_LON_AGG_AM_RE P_TOT_TS_6M_CNT_RE P_TOT_TS_6M_AM_RE P_OB_TS_6M_CNT_RE  \\\n",
       "1                   1                  1                 1                 1   \n",
       "2                   1                  3                 3                 3   \n",
       "3                   1                  1                 1                 1   \n",
       "4                   3                  1                 1                 1   \n",
       "5                   1                  1                 1                 1   \n",
       "\n",
       "  P_OB_TS_6M_AM_RE  \n",
       "1                1  \n",
       "2                3  \n",
       "3                1  \n",
       "4                1  \n",
       "5                1  \n",
       "\n",
       "[5 rows x 93 columns]"
      ]
     },
     "execution_count": 3,
     "metadata": {},
     "output_type": "execute_result"
    }
   ],
   "source": [
    "data.head()"
   ]
  },
  {
   "cell_type": "code",
   "execution_count": 4,
   "id": "b6833ac3",
   "metadata": {},
   "outputs": [
    {
     "name": "stdout",
     "output_type": "stream",
     "text": [
      "<class 'pandas.core.frame.DataFrame'>\n",
      "Int64Index: 119535 entries, 1 to 119535\n",
      "Data columns (total 93 columns):\n",
      " #   Column                        Non-Null Count   Dtype   \n",
      "---  ------                        --------------   -----   \n",
      " 0   TARGET                        119535 non-null  category\n",
      " 1   J_F1_LON_RK_3M_CNT_RE         119535 non-null  category\n",
      " 2   J_F1_OTHER_LON_6M_AVBL_AM_RE  119535 non-null  category\n",
      " 3   J_F1_OTHER_LON_MAX_3M_AM_RE   119535 non-null  category\n",
      " 4   J_SHINBO_GIBO_AM_RE           119535 non-null  category\n",
      " 5   J_TOT_LON_CNT_RE              119535 non-null  category\n",
      " 6   J_TOT_LON_AGG_AM_RE           119535 non-null  category\n",
      " 7   J_TOT_LON_MAX_AM_RE           119535 non-null  category\n",
      " 8   J_DPS_CT_BAL_AM_RE            119535 non-null  category\n",
      " 9   J_TOT_DPS_1M_AVBL_AM_RE       119535 non-null  category\n",
      " 10  J_TOT_DPS_6M_AVBL_AM_RE       119535 non-null  category\n",
      " 11  J_CORE_DPS_1M_AVBL_AM_RE      119535 non-null  category\n",
      " 12  J_CORE_DPS_6M_AVBL_AM_RE      119535 non-null  category\n",
      " 13  J_TOT_DPS_ACC_CNT_RE          119535 non-null  category\n",
      " 14  J_NRML_DPS_ACC_CNT_RE         119535 non-null  category\n",
      " 15  J_TOT_SAVING_ACC_CNT_RE       119535 non-null  category\n",
      " 16  J_NRML_SAVING_ACC_CNT_RE      119535 non-null  category\n",
      " 17  J_TOT_TS_1M_CNT_RE            119535 non-null  category\n",
      " 18  J_TOT_TS_6M_CNT_RE            119535 non-null  category\n",
      " 19  J_TOT_TS_1M_AM_RE             119535 non-null  category\n",
      " 20  J_TOT_TS_6M_AM_RE             119535 non-null  category\n",
      " 21  J_OB_TS_1M_CNT_RE             119535 non-null  category\n",
      " 22  J_OB_TS_6M_CNT_RE             119535 non-null  category\n",
      " 23  J_OB_TS_1M_AM_RE              119535 non-null  category\n",
      " 24  J_OB_TS_6M_AM_RE              119535 non-null  category\n",
      " 25  J_IB_TS_1M_CNT_RE             119535 non-null  category\n",
      " 26  J_IB_TS_6M_CNT_RE             119535 non-null  category\n",
      " 27  J_IB_TS_1M_AM_RE              119535 non-null  category\n",
      " 28  J_IB_TS_6M_AM_RE              119535 non-null  category\n",
      " 29  J_TOT_TS_3M_AVG_CNT_RE        119535 non-null  category\n",
      " 30  J_TOT_TS_6M_AVG_CNT_RE        119535 non-null  category\n",
      " 31  J_TOT_TS_3M_AVG_AM_RE         119535 non-null  category\n",
      " 32  J_TOT_TS_6M_AVG_AM_RE         119535 non-null  category\n",
      " 33  J_OB_TS_3M_AVG_CNT_RE         119535 non-null  category\n",
      " 34  J_OB_TS_6M_AVG_CNT_RE         119535 non-null  category\n",
      " 35  J_OB_TS_3M_AVG_AM_RE          119535 non-null  category\n",
      " 36  J_OB_TS_6M_AVG_AM_RE          119535 non-null  category\n",
      " 37  J_IB_TS_3M_AVG_CNT_RE         119535 non-null  category\n",
      " 38  J_IB_TS_6M_AVG_CNT_RE         119535 non-null  category\n",
      " 39  J_IB_TS_3M_AVG_AM_RE          119535 non-null  category\n",
      " 40  J_IB_TS_6M_AVG_AM_RE          119535 non-null  category\n",
      " 41  OBK_GRCR_AM_RE                119535 non-null  category\n",
      " 42  M6L_OBK_GRCR_AM_RE            119535 non-null  category\n",
      " 43  J_SIC_CD_5_RE                 119535 non-null  category\n",
      " 44  J_SKIL_GDCD_RE                119535 non-null  category\n",
      " 45  J_MAIN_LON_BANK_CD_RE         119535 non-null  category\n",
      " 46  J_CTM_ASET_TOT_AM_RE          119535 non-null  category\n",
      " 47  J_LBLT_TOT_AM_RE              119535 non-null  category\n",
      " 48  J_TOT_BRW_AM_RE               119535 non-null  category\n",
      " 49  J_CTM_CPTS_TOT_AM_RE          119535 non-null  category\n",
      " 50  J_CTM_SAL_AM_RE               119535 non-null  category\n",
      " 51  J_SAL_PCS_AM_RE               119535 non-null  category\n",
      " 52  J_BZ_PFT_AM_RE                119535 non-null  category\n",
      " 53  J_FNC_COST_AM_RE              119535 non-null  category\n",
      " 54  J_CTM_NPFT_AM_RE              119535 non-null  category\n",
      " 55  J_BZ_AFACT_CSFL_AM_RE         119535 non-null  category\n",
      " 56  J_PFPC_CPMT_AF_CSFL_AM_RE     119535 non-null  category\n",
      " 57  J_EBIT_VAL_NV_RT_RE           119535 non-null  category\n",
      " 58  J_EBITDA_VAL_NV_RT_RE         119535 non-null  category\n",
      " 59  J_LBLT_RT_RE                  119535 non-null  category\n",
      " 60  J_FNC_COST_CMP_SALEM_RT_RE    119535 non-null  category\n",
      " 61  J_BRWM_DPIN_RT_RE             119535 non-null  category\n",
      " 62  J_STM_BRWM_DPIN_RT_RE         119535 non-null  category\n",
      " 63  J_SALEM_BZ_PFT_RT_RE          119535 non-null  category\n",
      " 64  P_PRIMARY_CUSTOM_FLG_RE       119535 non-null  category\n",
      " 65  P_ACT_CUSTOM_FLG_RE           119535 non-null  category\n",
      " 66  P_TOT_LON_FLG_RE              119535 non-null  category\n",
      " 67  P_INBK_JNNG_FLG_RE            119535 non-null  category\n",
      " 68  P_SMPB_JNNG_FLG_RE            119535 non-null  category\n",
      " 69  P_TOT_DPS_1M_AVBL_AM_RE       119535 non-null  category\n",
      " 70  P_TOT_DPS_6M_AVBL_AM_RE       119535 non-null  category\n",
      " 71  P_CORE_DPS_1M_AVBL_AM_RE      119535 non-null  category\n",
      " 72  P_CORE_DPS_6M_AVBL_AM_RE      119535 non-null  category\n",
      " 73  P_TOT_DPS_ACC_CNT_RE          119535 non-null  category\n",
      " 74  P_NRML_DPS_ACC_CNT_RE         119535 non-null  category\n",
      " 75  P_NRML_SAVING_ACC_CNT_RE      119535 non-null  category\n",
      " 76  P_TOT_SAVING_ACC_CNT_RE       119535 non-null  category\n",
      " 77  P_MAX_TRN_1M_AM_RE            119535 non-null  category\n",
      " 78  P_MAX_TRN_6M_AM_RE            119535 non-null  category\n",
      " 79  P_AVG_TRN_1M_AM_RE            119535 non-null  category\n",
      " 80  P_AVG_TRN_6M_AM_RE            119535 non-null  category\n",
      " 81  P_SUM_TRN_1M_AM_RE            119535 non-null  category\n",
      " 82  P_SUM_TRN_6M_AM_RE            119535 non-null  category\n",
      " 83  P_BR_CNTC_1M_CNT_RE           119535 non-null  category\n",
      " 84  P_BR_CNTC_6M_CNT_RE           119535 non-null  category\n",
      " 85  P_ATM_CNTC_6M_CNT_RE          119535 non-null  category\n",
      " 86  P_INT_CNTC_6M_CNT_RE          119535 non-null  category\n",
      " 87  P_TOT_LON_CNT_RE              119535 non-null  category\n",
      " 88  P_TOT_LON_AGG_AM_RE           119535 non-null  category\n",
      " 89  P_TOT_TS_6M_CNT_RE            119535 non-null  category\n",
      " 90  P_TOT_TS_6M_AM_RE             119535 non-null  category\n",
      " 91  P_OB_TS_6M_CNT_RE             119535 non-null  category\n",
      " 92  P_OB_TS_6M_AM_RE              119535 non-null  category\n",
      "dtypes: category(93)\n",
      "memory usage: 11.5 MB\n"
     ]
    }
   ],
   "source": [
    "data.info()"
   ]
  },
  {
   "cell_type": "code",
   "execution_count": 6,
   "id": "ff8e0373",
   "metadata": {},
   "outputs": [
    {
     "data": {
      "text/plain": [
       "0    118720\n",
       "1       815\n",
       "Name: TARGET, dtype: int64"
      ]
     },
     "execution_count": 6,
     "metadata": {},
     "output_type": "execute_result"
    }
   ],
   "source": [
    "data['TARGET'].value_counts()"
   ]
  },
  {
   "cell_type": "code",
   "execution_count": 9,
   "id": "49fd8ef9",
   "metadata": {},
   "outputs": [
    {
     "data": {
      "text/plain": [
       "0    0.993182\n",
       "1    0.006818\n",
       "Name: TARGET, dtype: float64"
      ]
     },
     "execution_count": 9,
     "metadata": {},
     "output_type": "execute_result"
    }
   ],
   "source": [
    "data['TARGET'].value_counts(normalize = True)"
   ]
  },
  {
   "cell_type": "code",
   "execution_count": 7,
   "id": "acbf3900",
   "metadata": {},
   "outputs": [
    {
     "data": {
      "text/plain": [
       "<AxesSubplot:>"
      ]
     },
     "execution_count": 7,
     "metadata": {},
     "output_type": "execute_result"
    },
    {
     "data": {
      "image/png": "[encoded data removed]",
      "text/plain": [
       "<Figure size 432x288 with 1 Axes>"
      ]
     },
     "metadata": {
      "needs_background": "light"
     },
     "output_type": "display_data"
    }
   ],
   "source": [
    "data['TARGET'].value_counts(normalize=True).plot(kind='bar')"
   ]
  },
  {
   "cell_type": "code",
   "execution_count": 13,
   "id": "3ee5eccc",
   "metadata": {},
   "outputs": [
    {
     "name": "stdout",
     "output_type": "stream",
     "text": [
      "(95628, 92)\n",
      "(23907, 92)\n"
     ]
    }
   ],
   "source": [
    "print(X_trn.shape)\n",
    "print(X_tes.shape)"
   ]
  },
  {
   "cell_type": "markdown",
   "id": "fdba631c",
   "metadata": {},
   "source": [
    "### Oversampling Using SMOTE NC"
   ]
  },
  {
   "cell_type": "code",
   "execution_count": 2,
   "id": "4d3b9faf",
   "metadata": {},
   "outputs": [],
   "source": [
    "from imblearn.over_sampling import SMOTENC\n",
    "smotenc=SMOTENC(categorical_features=[42,43,44,63,64,65,66,67],random_state=1000)\n",
    "X_trn_over, y_trn_over = smotenc.fit_resample(X_trn,y_trn)"
   ]
  },
  {
   "cell_type": "code",
   "execution_count": 18,
   "id": "4d267a10",
   "metadata": {},
   "outputs": [
    {
     "data": {
      "text/plain": [
       "(189938, 92)"
      ]
     },
     "execution_count": 18,
     "metadata": {},
     "output_type": "execute_result"
    }
   ],
   "source": [
    "X_trn_over.shape"
   ]
  },
  {
   "cell_type": "code",
   "execution_count": 15,
   "id": "791e9f51",
   "metadata": {},
   "outputs": [
    {
     "data": {
      "text/plain": [
       "0    94969\n",
       "1    94969\n",
       "Name: TARGET, dtype: int64"
      ]
     },
     "execution_count": 15,
     "metadata": {},
     "output_type": "execute_result"
    }
   ],
   "source": [
    "y_trn_over.value_counts()"
   ]
  },
  {
   "cell_type": "code",
   "execution_count": 16,
   "id": "42e82a0b",
   "metadata": {},
   "outputs": [
    {
     "data": {
      "text/plain": [
       "<AxesSubplot:>"
      ]
     },
     "execution_count": 16,
     "metadata": {},
     "output_type": "execute_result"
    },
    {
     "data": {
      "image/png": "[encoded data removed]",
      "text/plain": [
       "<Figure size 432x288 with 1 Axes>"
      ]
     },
     "metadata": {
      "needs_background": "light"
     },
     "output_type": "display_data"
    }
   ],
   "source": [
    "y_trn_over.value_counts(normalize=True).plot(kind='bar')"
   ]
  },
  {
   "cell_type": "markdown",
   "id": "a85d05f6",
   "metadata": {},
   "source": [
    "### Dummy coding for the nominal dataset"
   ]
  },
  {
   "cell_type": "code",
   "execution_count": 3,
   "id": "3d39db68",
   "metadata": {},
   "outputs": [],
   "source": [
    "nominal_col=X_trn_over.columns[[42,43,44,63,64,65,66,67]]\n",
    "X_trn_over_dummy = pd.get_dummies(X_trn_over,columns=nominal_col)\n",
    "X_tes_dummy=pd.get_dummies(X_tes,columns=nominal_col)"
   ]
  },
  {
   "cell_type": "code",
   "execution_count": 21,
   "id": "1976eded",
   "metadata": {},
   "outputs": [
    {
     "name": "stdout",
     "output_type": "stream",
     "text": [
      "92\n",
      "100\n"
     ]
    }
   ],
   "source": [
    "print(X_trn_over.shape[1])\n",
    "print(X_trn_over_dummy.shape[1])"
   ]
  },
  {
   "cell_type": "code",
   "execution_count": 22,
   "id": "a32301f2",
   "metadata": {},
   "outputs": [
    {
     "name": "stdout",
     "output_type": "stream",
     "text": [
      "92\n",
      "100\n"
     ]
    }
   ],
   "source": [
    "print(X_tes.shape[1])\n",
    "print(X_tes_dummy.shape[1])"
   ]
  },
  {
   "cell_type": "code",
   "execution_count": 4,
   "id": "527be9c5",
   "metadata": {},
   "outputs": [],
   "source": [
    "from sklearn.metrics import accuracy_score, precision_score, confusion_matrix, f1_score, recall_score\n",
    "\n",
    "def get_eval(y_test,pred=None):\n",
    "    confusion=confusion_matrix(y_test,pred)\n",
    "    accuracy=accuracy_score(y_test,pred)\n",
    "    precision=precision_score(y_test,pred)\n",
    "    recall=recall_score(y_test, pred)\n",
    "    f1 = f1_score(y_test,pred)\n",
    "    precision2=precision_score(y_test,pred,pos_label=0)\n",
    "    recall2=recall_score(y_test,pred,pos_label=0)\n",
    "    f1_2=f1_score(y_test,pred,pos_label=0)\n",
    "    print(\"confusion matrix\")\n",
    "    print(confusion)\n",
    "    print('accuracy : {0:.4f} , precision : {1:.4f} , recall : {2:.4f}, F1 score : {3:.4f} \\n precision(0) : {4:.4f} , recall(0) : {5:.4f}, f1(0) : {6:.4f}'.format(accuracy,precision, recall,f1,precision2,recall2,f1_2))"
   ]
  },
  {
   "cell_type": "code",
   "execution_count": 26,
   "id": "03e71b62",
   "metadata": {},
   "outputs": [
    {
     "name": "stdout",
     "output_type": "stream",
     "text": [
      "<class 'pandas.core.frame.DataFrame'>\n",
      "RangeIndex: 189938 entries, 0 to 189937\n",
      "Data columns (total 100 columns):\n",
      " #   Column                        Non-Null Count   Dtype   \n",
      "---  ------                        --------------   -----   \n",
      " 0   J_F1_LON_RK_3M_CNT_RE         156958 non-null  category\n",
      " 1   J_F1_OTHER_LON_6M_AVBL_AM_RE  177742 non-null  category\n",
      " 2   J_F1_OTHER_LON_MAX_3M_AM_RE   168528 non-null  category\n",
      " 3   J_SHINBO_GIBO_AM_RE           172204 non-null  category\n",
      " 4   J_TOT_LON_CNT_RE              174746 non-null  category\n",
      " 5   J_TOT_LON_AGG_AM_RE           176704 non-null  category\n",
      " 6   J_TOT_LON_MAX_AM_RE           174007 non-null  category\n",
      " 7   J_DPS_CT_BAL_AM_RE            163305 non-null  category\n",
      " 8   J_TOT_DPS_1M_AVBL_AM_RE       168716 non-null  category\n",
      " 9   J_TOT_DPS_6M_AVBL_AM_RE       169518 non-null  category\n",
      " 10  J_CORE_DPS_1M_AVBL_AM_RE      165330 non-null  category\n",
      " 11  J_CORE_DPS_6M_AVBL_AM_RE      170702 non-null  category\n",
      " 12  J_TOT_DPS_ACC_CNT_RE          170299 non-null  category\n",
      " 13  J_NRML_DPS_ACC_CNT_RE         164574 non-null  category\n",
      " 14  J_TOT_SAVING_ACC_CNT_RE       174575 non-null  category\n",
      " 15  J_NRML_SAVING_ACC_CNT_RE      177853 non-null  category\n",
      " 16  J_TOT_TS_1M_CNT_RE            180316 non-null  category\n",
      " 17  J_TOT_TS_6M_CNT_RE            180243 non-null  category\n",
      " 18  J_TOT_TS_1M_AM_RE             173608 non-null  category\n",
      " 19  J_TOT_TS_6M_AM_RE             177992 non-null  category\n",
      " 20  J_OB_TS_1M_CNT_RE             180953 non-null  category\n",
      " 21  J_OB_TS_6M_CNT_RE             183730 non-null  category\n",
      " 22  J_OB_TS_1M_AM_RE              175044 non-null  category\n",
      " 23  J_OB_TS_6M_AM_RE              170303 non-null  category\n",
      " 24  J_IB_TS_1M_CNT_RE             181043 non-null  category\n",
      " 25  J_IB_TS_6M_CNT_RE             179928 non-null  category\n",
      " 26  J_IB_TS_1M_AM_RE              176345 non-null  category\n",
      " 27  J_IB_TS_6M_AM_RE              178178 non-null  category\n",
      " 28  J_TOT_TS_3M_AVG_CNT_RE        182465 non-null  category\n",
      " 29  J_TOT_TS_6M_AVG_CNT_RE        178804 non-null  category\n",
      " 30  J_TOT_TS_3M_AVG_AM_RE         177041 non-null  category\n",
      " 31  J_TOT_TS_6M_AVG_AM_RE         177992 non-null  category\n",
      " 32  J_OB_TS_3M_AVG_CNT_RE         176345 non-null  category\n",
      " 33  J_OB_TS_6M_AVG_CNT_RE         176657 non-null  category\n",
      " 34  J_OB_TS_3M_AVG_AM_RE          176061 non-null  category\n",
      " 35  J_OB_TS_6M_AVG_AM_RE          176999 non-null  category\n",
      " 36  J_IB_TS_3M_AVG_CNT_RE         182854 non-null  category\n",
      " 37  J_IB_TS_6M_AVG_CNT_RE         183780 non-null  category\n",
      " 38  J_IB_TS_3M_AVG_AM_RE          177364 non-null  category\n",
      " 39  J_IB_TS_6M_AVG_AM_RE          178178 non-null  category\n",
      " 40  OBK_GRCR_AM_RE                178151 non-null  category\n",
      " 41  M6L_OBK_GRCR_AM_RE            153740 non-null  category\n",
      " 42  J_CTM_ASET_TOT_AM_RE          165285 non-null  category\n",
      " 43  J_LBLT_TOT_AM_RE              164069 non-null  category\n",
      " 44  J_TOT_BRW_AM_RE               168596 non-null  category\n",
      " 45  J_CTM_CPTS_TOT_AM_RE          160067 non-null  category\n",
      " 46  J_CTM_SAL_AM_RE               161255 non-null  category\n",
      " 47  J_SAL_PCS_AM_RE               159625 non-null  category\n",
      " 48  J_BZ_PFT_AM_RE                166971 non-null  category\n",
      " 49  J_FNC_COST_AM_RE              171659 non-null  category\n",
      " 50  J_CTM_NPFT_AM_RE              157641 non-null  category\n",
      " 51  J_BZ_AFACT_CSFL_AM_RE         172545 non-null  category\n",
      " 52  J_PFPC_CPMT_AF_CSFL_AM_RE     169440 non-null  category\n",
      " 53  J_EBIT_VAL_NV_RT_RE           166439 non-null  category\n",
      " 54  J_EBITDA_VAL_NV_RT_RE         172994 non-null  category\n",
      " 55  J_LBLT_RT_RE                  160271 non-null  category\n",
      " 56  J_FNC_COST_CMP_SALEM_RT_RE    165199 non-null  category\n",
      " 57  J_BRWM_DPIN_RT_RE             163519 non-null  category\n",
      " 58  J_STM_BRWM_DPIN_RT_RE         169155 non-null  category\n",
      " 59  J_SALEM_BZ_PFT_RT_RE          166212 non-null  category\n",
      " 60  P_TOT_DPS_1M_AVBL_AM_RE       167839 non-null  category\n",
      " 61  P_TOT_DPS_6M_AVBL_AM_RE       173130 non-null  category\n",
      " 62  P_CORE_DPS_1M_AVBL_AM_RE      177450 non-null  category\n",
      " 63  P_CORE_DPS_6M_AVBL_AM_RE      167399 non-null  category\n",
      " 64  P_TOT_DPS_ACC_CNT_RE          171239 non-null  category\n",
      " 65  P_NRML_DPS_ACC_CNT_RE         173408 non-null  category\n",
      " 66  P_NRML_SAVING_ACC_CNT_RE      176205 non-null  category\n",
      " 67  P_TOT_SAVING_ACC_CNT_RE       170608 non-null  category\n",
      " 68  P_MAX_TRN_1M_AM_RE            179133 non-null  category\n",
      " 69  P_MAX_TRN_6M_AM_RE            177911 non-null  category\n",
      " 70  P_AVG_TRN_1M_AM_RE            177697 non-null  category\n",
      " 71  P_AVG_TRN_6M_AM_RE            176020 non-null  category\n",
      " 72  P_SUM_TRN_1M_AM_RE            179206 non-null  category\n",
      " 73  P_SUM_TRN_6M_AM_RE            180628 non-null  category\n",
      " 74  P_BR_CNTC_1M_CNT_RE           163096 non-null  category\n",
      " 75  P_BR_CNTC_6M_CNT_RE           163845 non-null  category\n",
      " 76  P_ATM_CNTC_6M_CNT_RE          176721 non-null  category\n",
      " 77  P_INT_CNTC_6M_CNT_RE          179030 non-null  category\n",
      " 78  P_TOT_LON_CNT_RE              171375 non-null  category\n",
      " 79  P_TOT_LON_AGG_AM_RE           171507 non-null  category\n",
      " 80  P_TOT_TS_6M_CNT_RE            179376 non-null  category\n",
      " 81  P_TOT_TS_6M_AM_RE             180631 non-null  category\n",
      " 82  P_OB_TS_6M_CNT_RE             179315 non-null  category\n",
      " 83  P_OB_TS_6M_AM_RE              179180 non-null  category\n",
      " 84  J_SIC_CD_5_RE_1               189938 non-null  uint8   \n",
      " 85  J_SIC_CD_5_RE_2               189938 non-null  uint8   \n",
      " 86  J_SKIL_GDCD_RE_1              189938 non-null  uint8   \n",
      " 87  J_SKIL_GDCD_RE_2              189938 non-null  uint8   \n",
      " 88  J_MAIN_LON_BANK_CD_RE_1       189938 non-null  uint8   \n",
      " 89  J_MAIN_LON_BANK_CD_RE_2       189938 non-null  uint8   \n",
      " 90  P_PRIMARY_CUSTOM_FLG_RE_1     189938 non-null  uint8   \n",
      " 91  P_PRIMARY_CUSTOM_FLG_RE_2     189938 non-null  uint8   \n",
      " 92  P_ACT_CUSTOM_FLG_RE_1         189938 non-null  uint8   \n",
      " 93  P_ACT_CUSTOM_FLG_RE_2         189938 non-null  uint8   \n",
      " 94  P_TOT_LON_FLG_RE_1            189938 non-null  uint8   \n",
      " 95  P_TOT_LON_FLG_RE_2            189938 non-null  uint8   \n",
      " 96  P_INBK_JNNG_FLG_RE_1          189938 non-null  uint8   \n",
      " 97  P_INBK_JNNG_FLG_RE_2          189938 non-null  uint8   \n",
      " 98  P_SMPB_JNNG_FLG_RE_1          189938 non-null  uint8   \n",
      " 99  P_SMPB_JNNG_FLG_RE_2          189938 non-null  uint8   \n",
      "dtypes: category(84), uint8(16)\n",
      "memory usage: 18.1 MB\n"
     ]
    }
   ],
   "source": [
    "X_trn_over_dummy.info()"
   ]
  },
  {
   "cell_type": "markdown",
   "id": "89302382",
   "metadata": {},
   "source": [
    "### Logistic Regression "
   ]
  },
  {
   "cell_type": "code",
   "execution_count": 5,
   "id": "768a8731",
   "metadata": {},
   "outputs": [
    {
     "name": "stdout",
     "output_type": "stream",
     "text": [
      "confusion matrix\n",
      "[[23751     0]\n",
      " [  156     0]]\n",
      "accuracy : 0.9935 , precision : 0.0000 , recall : 0.0000, F1 score : 0.0000 \n",
      " precision(0) : 0.9935 , recall(0) : 1.0000, f1(0) : 0.9967\n"
     ]
    },
    {
     "name": "stderr",
     "output_type": "stream",
     "text": [
      "C:\\Users\\vmffl\\python\\lib\\site-packages\\sklearn\\metrics\\_classification.py:1248: UndefinedMetricWarning: Precision is ill-defined and being set to 0.0 due to no predicted samples. Use `zero_division` parameter to control this behavior.\n",
      "  _warn_prf(average, modifier, msg_start, len(result))\n"
     ]
    }
   ],
   "source": [
    "from sklearn.linear_model import LogisticRegression\n",
    "clf=LogisticRegression(solver='liblinear',max_iter = 1000)\n",
    "clf.fit(X_trn_over_dummy,y_trn_over)\n",
    "pred=clf.predict(X_tes_dummy)\n",
    "get_eval(y_tes,pred)"
   ]
  },
  {
   "cell_type": "markdown",
   "id": "1d22450e",
   "metadata": {},
   "source": [
    "### Naive Bayes"
   ]
  },
  {
   "cell_type": "code",
   "execution_count": 6,
   "id": "15520eee",
   "metadata": {},
   "outputs": [
    {
     "name": "stdout",
     "output_type": "stream",
     "text": [
      "confusion matrix\n",
      "[[22708  1043]\n",
      " [  123    33]]\n",
      "accuracy : 0.9512 , precision : 0.0307 , recall : 0.2115, F1 score : 0.0536 \n",
      " precision(0) : 0.9946 , recall(0) : 0.9561, f1(0) : 0.9750\n"
     ]
    }
   ],
   "source": [
    "from sklearn.naive_bayes import CategoricalNB\n",
    "catNB=CategoricalNB(fit_prior=False)\n",
    "catNB.fit(X_trn_over_dummy,y_trn_over)\n",
    "pred2=catNB.predict(X_tes_dummy)\n",
    "get_eval(y_tes,pred2)"
   ]
  },
  {
   "cell_type": "markdown",
   "id": "07a77edc",
   "metadata": {},
   "source": [
    "### Decision Tree"
   ]
  },
  {
   "cell_type": "code",
   "execution_count": 75,
   "id": "ba0b4b54",
   "metadata": {},
   "outputs": [
    {
     "name": "stdout",
     "output_type": "stream",
     "text": [
      "confusion matrix\n",
      "[[23668    83]\n",
      " [   60    96]]\n",
      "accuracy : 0.9940 , precision : 0.5363 , recall : 0.6154, F1 score : 0.5731 \n",
      " precision(0) : 0.9975 , recall(0) : 0.9965, f1(0) : 0.9970\n"
     ]
    }
   ],
   "source": [
    "from sklearn.tree import DecisionTreeClassifier\n",
    "from sklearn.model_selection import GridSearchCV\n",
    "\n",
    "tree=DecisionTreeClassifier(random_state=1000)\n",
    "tree.fit(X_trn_dummy,y_trn)\n",
    "pred3=tree.predict(X_tes_dummy)\n",
    "get_eval(y_tes,pred3)"
   ]
  },
  {
   "cell_type": "markdown",
   "id": "0d7ebba0",
   "metadata": {},
   "source": [
    "### Grid Search"
   ]
  },
  {
   "cell_type": "code",
   "execution_count": 69,
   "id": "f931299f",
   "metadata": {},
   "outputs": [
    {
     "name": "stderr",
     "output_type": "stream",
     "text": [
      "C:\\Users\\vmffl\\python\\lib\\site-packages\\sklearn\\model_selection\\_search.py:922: UserWarning: One or more of the test scores are non-finite: [       nan        nan 0.99305642 0.99307735 0.99295186        nan\n",
      "        nan 0.99319237 0.99327603 0.99303552        nan        nan\n",
      " 0.99324466 0.99333878 0.99282637        nan        nan 0.99298323\n",
      " 0.99312963 0.99295186        nan        nan 0.9930878  0.99311917\n",
      " 0.99275316        nan        nan 0.99327602 0.99320284 0.99294139\n",
      "        nan        nan 0.99322374 0.99317146 0.9929414         nan\n",
      "        nan 0.99327603 0.99309826 0.99287865        nan        nan\n",
      " 0.9933074  0.99315054 0.99283682        nan        nan 0.99380934\n",
      " 0.99366295 0.99370477        nan        nan 0.9936734  0.99386164\n",
      " 0.99370477        nan        nan 0.99353746 0.99362111 0.99369431\n",
      "        nan        nan 0.9936734  0.99372569 0.9937257         nan\n",
      "        nan 0.99381981 0.99375706 0.99381981        nan        nan\n",
      " 0.99375706 0.99376752 0.99378843        nan        nan 0.99376752\n",
      " 0.99378844 0.99350609        nan        nan 0.99358975 0.99398712\n",
      " 0.99380934        nan        nan 0.99373615 0.99375707 0.99385117]\n",
      "  warnings.warn(\n"
     ]
    },
    {
     "data": {
      "text/plain": [
       "{'criterion': 'entropy', 'max_depth': 22, 'min_samples_split': 3}"
      ]
     },
     "execution_count": 69,
     "metadata": {},
     "output_type": "execute_result"
    }
   ],
   "source": [
    "dt=DecisionTreeClassifier(random_state=1000)\n",
    "parm_dict={\"criterion\":['gini','entropy'],'max_depth':[15,16,17,18,19,20,21,22,23],'min_samples_split':range(0,5)}\n",
    "grid=GridSearchCV(dt,param_grid=parm_dict,cv=10,n_jobs=-1)\n",
    "grid.fit(X_trn_dummy,y_trn)\n",
    "grid.best_params_"
   ]
  },
  {
   "cell_type": "code",
   "execution_count": 70,
   "id": "c412372c",
   "metadata": {},
   "outputs": [
    {
     "name": "stdout",
     "output_type": "stream",
     "text": [
      "confusion matrix\n",
      "[[23677    74]\n",
      " [   70    86]]\n",
      "accuracy : 0.9940 , precision : 0.5375 , recall : 0.5513, F1 score : 0.5443 \n",
      " precision(0) : 0.9971 , recall(0) : 0.9969, f1(0) : 0.9970\n"
     ]
    }
   ],
   "source": [
    "pred3=grid.best_estimator_.predict(X_tes_dummy)\n",
    "get_eval(y_tes,pred3)"
   ]
  },
  {
   "cell_type": "markdown",
   "id": "e59af68c",
   "metadata": {},
   "source": [
    "### Random Forest"
   ]
  },
  {
   "cell_type": "code",
   "execution_count": 7,
   "id": "f4ba5a5c",
   "metadata": {},
   "outputs": [
    {
     "name": "stdout",
     "output_type": "stream",
     "text": [
      "confusion matrix\n",
      "[[23738    13]\n",
      " [   79    77]]\n",
      "accuracy : 0.9962 , precision : 0.8556 , recall : 0.4936, F1 score : 0.6260 \n",
      " precision(0) : 0.9967 , recall(0) : 0.9995, f1(0) : 0.9981\n"
     ]
    }
   ],
   "source": [
    "from sklearn.ensemble import RandomForestClassifier\n",
    "\n",
    "rdf_clf=RandomForestClassifier(random_state=1000)\n",
    "rdf_clf.fit(X_trn_over_dummy,y_trn_over)\n",
    "pred4=rdf_clf.predict(X_tes_dummy)\n",
    "get_eval(y_tes,pred4)"
   ]
  },
  {
   "cell_type": "markdown",
   "id": "88008cbf",
   "metadata": {},
   "source": [
    "### KNN"
   ]
  },
  {
   "cell_type": "code",
   "execution_count": 8,
   "id": "6c9f066f",
   "metadata": {},
   "outputs": [
    {
     "name": "stdout",
     "output_type": "stream",
     "text": [
      "confusion matrix\n",
      "[[23722    29]\n",
      " [   73    83]]\n",
      "accuracy : 0.9957 , precision : 0.7411 , recall : 0.5321, F1 score : 0.6194 \n",
      " precision(0) : 0.9969 , recall(0) : 0.9988, f1(0) : 0.9979\n"
     ]
    }
   ],
   "source": [
    "from sklearn.neighbors import KNeighborsClassifier\n",
    "\n",
    "knn_clf=KNeighborsClassifier(n_neighbors=3)\n",
    "knn_clf.fit(X_trn_over_dummy,y_trn_over)\n",
    "pred5=knn_clf.predict(X_tes_dummy)\n",
    "get_eval(y_tes,pred5)"
   ]
  },
  {
   "cell_type": "code",
   "execution_count": 18,
   "id": "bdbbe578",
   "metadata": {},
   "outputs": [],
   "source": [
    "X_trn_dummy= pd.get_dummies(X_trn,columns=nominal_col)"
   ]
  },
  {
   "cell_type": "markdown",
   "id": "047dadb4",
   "metadata": {},
   "source": [
    "### XG Boost"
   ]
  },
  {
   "cell_type": "code",
   "execution_count": 19,
   "id": "b7c8f06b",
   "metadata": {},
   "outputs": [],
   "source": [
    "import xgboost as xgb\n",
    "from xgboost import plot_importance\n",
    "\n",
    "dtrain=xgb.DMatrix(data=X_trn_dummy.values, label=y_trn)\n",
    "dtest=xgb.DMatrix(data=X_tes_dummy.values, label = y_tes)"
   ]
  },
  {
   "cell_type": "code",
   "execution_count": 20,
   "id": "4554f480",
   "metadata": {},
   "outputs": [
    {
     "name": "stdout",
     "output_type": "stream",
     "text": [
      "[16:28:08] WARNING: ..\\src\\learner.cc:541: \n",
      "Parameters: { early_stopping } might not be used.\n",
      "\n",
      "  This may not be accurate due to some parameters are only used in language bindings but\n",
      "  passed down to XGBoost core.  Or some parameters are not used but slip through this\n",
      "  verification. Please open an issue if you find above cases.\n",
      "\n",
      "\n",
      "[0]\ttrain-logloss:0.60061\teval-logloss:0.60051\n",
      "[1]\ttrain-logloss:0.52456\teval-logloss:0.52470\n",
      "[2]\ttrain-logloss:0.46130\teval-logloss:0.46144\n",
      "[3]\ttrain-logloss:0.40788\teval-logloss:0.40807\n",
      "[4]\ttrain-logloss:0.36224\teval-logloss:0.36251\n",
      "[5]\ttrain-logloss:0.32310\teval-logloss:0.32329\n",
      "[6]\ttrain-logloss:0.28904\teval-logloss:0.28935\n",
      "[7]\ttrain-logloss:0.25948\teval-logloss:0.25976\n",
      "[8]\ttrain-logloss:0.23360\teval-logloss:0.23389\n",
      "[9]\ttrain-logloss:0.21088\teval-logloss:0.21113\n",
      "[10]\ttrain-logloss:0.19079\teval-logloss:0.19112\n",
      "[11]\ttrain-logloss:0.17310\teval-logloss:0.17339\n",
      "[12]\ttrain-logloss:0.15740\teval-logloss:0.15766\n",
      "[13]\ttrain-logloss:0.14347\teval-logloss:0.14377\n",
      "[14]\ttrain-logloss:0.13109\teval-logloss:0.13141\n",
      "[15]\ttrain-logloss:0.12000\teval-logloss:0.12036\n",
      "[16]\ttrain-logloss:0.11017\teval-logloss:0.11054\n",
      "[17]\ttrain-logloss:0.10135\teval-logloss:0.10177\n",
      "[18]\ttrain-logloss:0.09348\teval-logloss:0.09393\n",
      "[19]\ttrain-logloss:0.08644\teval-logloss:0.08693\n",
      "[20]\ttrain-logloss:0.08012\teval-logloss:0.08065\n",
      "[21]\ttrain-logloss:0.07450\teval-logloss:0.07503\n",
      "[22]\ttrain-logloss:0.06943\teval-logloss:0.07000\n",
      "[23]\ttrain-logloss:0.06487\teval-logloss:0.06552\n",
      "[24]\ttrain-logloss:0.06079\teval-logloss:0.06146\n",
      "[25]\ttrain-logloss:0.05708\teval-logloss:0.05778\n",
      "[26]\ttrain-logloss:0.05374\teval-logloss:0.05450\n",
      "[27]\ttrain-logloss:0.05076\teval-logloss:0.05160\n",
      "[28]\ttrain-logloss:0.04809\teval-logloss:0.04900\n",
      "[29]\ttrain-logloss:0.04567\teval-logloss:0.04661\n",
      "[30]\ttrain-logloss:0.04345\teval-logloss:0.04443\n",
      "[31]\ttrain-logloss:0.04148\teval-logloss:0.04251\n",
      "[32]\ttrain-logloss:0.03970\teval-logloss:0.04083\n",
      "[33]\ttrain-logloss:0.03811\teval-logloss:0.03927\n",
      "[34]\ttrain-logloss:0.03666\teval-logloss:0.03786\n",
      "[35]\ttrain-logloss:0.03532\teval-logloss:0.03661\n",
      "[36]\ttrain-logloss:0.03408\teval-logloss:0.03542\n",
      "[37]\ttrain-logloss:0.03297\teval-logloss:0.03439\n",
      "[38]\ttrain-logloss:0.03198\teval-logloss:0.03345\n",
      "[39]\ttrain-logloss:0.03104\teval-logloss:0.03256\n",
      "[40]\ttrain-logloss:0.03021\teval-logloss:0.03180\n",
      "[41]\ttrain-logloss:0.02945\teval-logloss:0.03112\n",
      "[42]\ttrain-logloss:0.02873\teval-logloss:0.03047\n",
      "[43]\ttrain-logloss:0.02811\teval-logloss:0.02990\n",
      "[44]\ttrain-logloss:0.02751\teval-logloss:0.02935\n",
      "[45]\ttrain-logloss:0.02699\teval-logloss:0.02889\n",
      "[46]\ttrain-logloss:0.02652\teval-logloss:0.02844\n",
      "[47]\ttrain-logloss:0.02605\teval-logloss:0.02803\n",
      "[48]\ttrain-logloss:0.02563\teval-logloss:0.02765\n",
      "[49]\ttrain-logloss:0.02523\teval-logloss:0.02731\n",
      "[50]\ttrain-logloss:0.02484\teval-logloss:0.02695\n",
      "[51]\ttrain-logloss:0.02441\teval-logloss:0.02662\n",
      "[52]\ttrain-logloss:0.02413\teval-logloss:0.02637\n",
      "[53]\ttrain-logloss:0.02378\teval-logloss:0.02611\n",
      "[54]\ttrain-logloss:0.02354\teval-logloss:0.02592\n",
      "[55]\ttrain-logloss:0.02325\teval-logloss:0.02571\n",
      "[56]\ttrain-logloss:0.02295\teval-logloss:0.02545\n",
      "[57]\ttrain-logloss:0.02263\teval-logloss:0.02521\n",
      "[58]\ttrain-logloss:0.02238\teval-logloss:0.02499\n",
      "[59]\ttrain-logloss:0.02216\teval-logloss:0.02483\n",
      "[60]\ttrain-logloss:0.02191\teval-logloss:0.02464\n",
      "[61]\ttrain-logloss:0.02167\teval-logloss:0.02447\n",
      "[62]\ttrain-logloss:0.02143\teval-logloss:0.02433\n",
      "[63]\ttrain-logloss:0.02120\teval-logloss:0.02413\n",
      "[64]\ttrain-logloss:0.02101\teval-logloss:0.02398\n",
      "[65]\ttrain-logloss:0.02082\teval-logloss:0.02384\n",
      "[66]\ttrain-logloss:0.02061\teval-logloss:0.02371\n",
      "[67]\ttrain-logloss:0.02044\teval-logloss:0.02364\n",
      "[68]\ttrain-logloss:0.02029\teval-logloss:0.02357\n",
      "[69]\ttrain-logloss:0.02010\teval-logloss:0.02342\n",
      "[70]\ttrain-logloss:0.01994\teval-logloss:0.02332\n",
      "[71]\ttrain-logloss:0.01979\teval-logloss:0.02323\n",
      "[72]\ttrain-logloss:0.01963\teval-logloss:0.02311\n",
      "[73]\ttrain-logloss:0.01951\teval-logloss:0.02306\n",
      "[74]\ttrain-logloss:0.01939\teval-logloss:0.02296\n",
      "[75]\ttrain-logloss:0.01928\teval-logloss:0.02288\n",
      "[76]\ttrain-logloss:0.01919\teval-logloss:0.02280\n",
      "[77]\ttrain-logloss:0.01900\teval-logloss:0.02269\n",
      "[78]\ttrain-logloss:0.01889\teval-logloss:0.02262\n",
      "[79]\ttrain-logloss:0.01867\teval-logloss:0.02244\n",
      "[80]\ttrain-logloss:0.01854\teval-logloss:0.02234\n",
      "[81]\ttrain-logloss:0.01840\teval-logloss:0.02225\n",
      "[82]\ttrain-logloss:0.01822\teval-logloss:0.02217\n",
      "[83]\ttrain-logloss:0.01814\teval-logloss:0.02210\n",
      "[84]\ttrain-logloss:0.01802\teval-logloss:0.02204\n",
      "[85]\ttrain-logloss:0.01790\teval-logloss:0.02197\n",
      "[86]\ttrain-logloss:0.01777\teval-logloss:0.02189\n",
      "[87]\ttrain-logloss:0.01772\teval-logloss:0.02185\n",
      "[88]\ttrain-logloss:0.01762\teval-logloss:0.02184\n",
      "[89]\ttrain-logloss:0.01749\teval-logloss:0.02175\n",
      "[90]\ttrain-logloss:0.01744\teval-logloss:0.02172\n",
      "[91]\ttrain-logloss:0.01732\teval-logloss:0.02160\n",
      "[92]\ttrain-logloss:0.01708\teval-logloss:0.02139\n",
      "[93]\ttrain-logloss:0.01690\teval-logloss:0.02122\n",
      "[94]\ttrain-logloss:0.01680\teval-logloss:0.02116\n",
      "[95]\ttrain-logloss:0.01672\teval-logloss:0.02112\n",
      "[96]\ttrain-logloss:0.01666\teval-logloss:0.02108\n",
      "[97]\ttrain-logloss:0.01657\teval-logloss:0.02096\n",
      "[98]\ttrain-logloss:0.01643\teval-logloss:0.02084\n",
      "[99]\ttrain-logloss:0.01634\teval-logloss:0.02074\n",
      "[100]\ttrain-logloss:0.01619\teval-logloss:0.02065\n",
      "[101]\ttrain-logloss:0.01605\teval-logloss:0.02054\n",
      "[102]\ttrain-logloss:0.01596\teval-logloss:0.02049\n",
      "[103]\ttrain-logloss:0.01590\teval-logloss:0.02044\n",
      "[104]\ttrain-logloss:0.01570\teval-logloss:0.02027\n",
      "[105]\ttrain-logloss:0.01559\teval-logloss:0.02018\n",
      "[106]\ttrain-logloss:0.01556\teval-logloss:0.02016\n",
      "[107]\ttrain-logloss:0.01528\teval-logloss:0.01994\n",
      "[108]\ttrain-logloss:0.01521\teval-logloss:0.01989\n",
      "[109]\ttrain-logloss:0.01509\teval-logloss:0.01983\n",
      "[110]\ttrain-logloss:0.01499\teval-logloss:0.01976\n",
      "[111]\ttrain-logloss:0.01485\teval-logloss:0.01967\n",
      "[112]\ttrain-logloss:0.01474\teval-logloss:0.01958\n",
      "[113]\ttrain-logloss:0.01461\teval-logloss:0.01947\n",
      "[114]\ttrain-logloss:0.01454\teval-logloss:0.01940\n",
      "[115]\ttrain-logloss:0.01429\teval-logloss:0.01919\n",
      "[116]\ttrain-logloss:0.01417\teval-logloss:0.01912\n",
      "[117]\ttrain-logloss:0.01403\teval-logloss:0.01900\n",
      "[118]\ttrain-logloss:0.01393\teval-logloss:0.01891\n",
      "[119]\ttrain-logloss:0.01387\teval-logloss:0.01885\n",
      "[120]\ttrain-logloss:0.01380\teval-logloss:0.01881\n",
      "[121]\ttrain-logloss:0.01376\teval-logloss:0.01878\n",
      "[122]\ttrain-logloss:0.01363\teval-logloss:0.01868\n",
      "[123]\ttrain-logloss:0.01354\teval-logloss:0.01859\n",
      "[124]\ttrain-logloss:0.01343\teval-logloss:0.01848\n",
      "[125]\ttrain-logloss:0.01328\teval-logloss:0.01837\n",
      "[126]\ttrain-logloss:0.01324\teval-logloss:0.01835\n",
      "[127]\ttrain-logloss:0.01311\teval-logloss:0.01824\n",
      "[128]\ttrain-logloss:0.01298\teval-logloss:0.01814\n",
      "[129]\ttrain-logloss:0.01291\teval-logloss:0.01807\n",
      "[130]\ttrain-logloss:0.01283\teval-logloss:0.01801\n",
      "[131]\ttrain-logloss:0.01270\teval-logloss:0.01789\n",
      "[132]\ttrain-logloss:0.01264\teval-logloss:0.01784\n",
      "[133]\ttrain-logloss:0.01258\teval-logloss:0.01779\n",
      "[134]\ttrain-logloss:0.01246\teval-logloss:0.01773\n",
      "[135]\ttrain-logloss:0.01240\teval-logloss:0.01770\n",
      "[136]\ttrain-logloss:0.01233\teval-logloss:0.01767\n",
      "[137]\ttrain-logloss:0.01219\teval-logloss:0.01755\n",
      "[138]\ttrain-logloss:0.01215\teval-logloss:0.01754\n",
      "[139]\ttrain-logloss:0.01211\teval-logloss:0.01751\n",
      "[140]\ttrain-logloss:0.01204\teval-logloss:0.01749\n",
      "[141]\ttrain-logloss:0.01199\teval-logloss:0.01746\n",
      "[142]\ttrain-logloss:0.01187\teval-logloss:0.01736\n",
      "[143]\ttrain-logloss:0.01178\teval-logloss:0.01730\n",
      "[144]\ttrain-logloss:0.01167\teval-logloss:0.01720\n",
      "[145]\ttrain-logloss:0.01161\teval-logloss:0.01713\n",
      "[146]\ttrain-logloss:0.01156\teval-logloss:0.01710\n",
      "[147]\ttrain-logloss:0.01149\teval-logloss:0.01706\n",
      "[148]\ttrain-logloss:0.01142\teval-logloss:0.01705\n",
      "[149]\ttrain-logloss:0.01132\teval-logloss:0.01699\n",
      "[150]\ttrain-logloss:0.01119\teval-logloss:0.01690\n",
      "[151]\ttrain-logloss:0.01108\teval-logloss:0.01683\n",
      "[152]\ttrain-logloss:0.01100\teval-logloss:0.01677\n",
      "[153]\ttrain-logloss:0.01095\teval-logloss:0.01675\n",
      "[154]\ttrain-logloss:0.01090\teval-logloss:0.01672\n",
      "[155]\ttrain-logloss:0.01082\teval-logloss:0.01667\n",
      "[156]\ttrain-logloss:0.01075\teval-logloss:0.01659\n",
      "[157]\ttrain-logloss:0.01070\teval-logloss:0.01656\n",
      "[158]\ttrain-logloss:0.01056\teval-logloss:0.01646\n",
      "[159]\ttrain-logloss:0.01051\teval-logloss:0.01645\n",
      "[160]\ttrain-logloss:0.01045\teval-logloss:0.01642\n",
      "[161]\ttrain-logloss:0.01038\teval-logloss:0.01639\n",
      "[162]\ttrain-logloss:0.01034\teval-logloss:0.01637\n"
     ]
    },
    {
     "name": "stdout",
     "output_type": "stream",
     "text": [
      "[163]\ttrain-logloss:0.01029\teval-logloss:0.01633\n",
      "[164]\ttrain-logloss:0.01026\teval-logloss:0.01629\n",
      "[165]\ttrain-logloss:0.01022\teval-logloss:0.01626\n",
      "[166]\ttrain-logloss:0.01017\teval-logloss:0.01622\n",
      "[167]\ttrain-logloss:0.01007\teval-logloss:0.01613\n",
      "[168]\ttrain-logloss:0.01001\teval-logloss:0.01608\n",
      "[169]\ttrain-logloss:0.00995\teval-logloss:0.01604\n",
      "[170]\ttrain-logloss:0.00989\teval-logloss:0.01599\n",
      "[171]\ttrain-logloss:0.00985\teval-logloss:0.01596\n",
      "[172]\ttrain-logloss:0.00976\teval-logloss:0.01590\n",
      "[173]\ttrain-logloss:0.00972\teval-logloss:0.01588\n",
      "[174]\ttrain-logloss:0.00965\teval-logloss:0.01582\n",
      "[175]\ttrain-logloss:0.00958\teval-logloss:0.01576\n",
      "[176]\ttrain-logloss:0.00954\teval-logloss:0.01575\n",
      "[177]\ttrain-logloss:0.00949\teval-logloss:0.01573\n",
      "[178]\ttrain-logloss:0.00945\teval-logloss:0.01572\n",
      "[179]\ttrain-logloss:0.00940\teval-logloss:0.01569\n",
      "[180]\ttrain-logloss:0.00933\teval-logloss:0.01565\n",
      "[181]\ttrain-logloss:0.00924\teval-logloss:0.01558\n",
      "[182]\ttrain-logloss:0.00920\teval-logloss:0.01555\n",
      "[183]\ttrain-logloss:0.00914\teval-logloss:0.01551\n",
      "[184]\ttrain-logloss:0.00901\teval-logloss:0.01541\n",
      "[185]\ttrain-logloss:0.00893\teval-logloss:0.01533\n",
      "[186]\ttrain-logloss:0.00884\teval-logloss:0.01525\n",
      "[187]\ttrain-logloss:0.00881\teval-logloss:0.01523\n",
      "[188]\ttrain-logloss:0.00877\teval-logloss:0.01521\n",
      "[189]\ttrain-logloss:0.00868\teval-logloss:0.01515\n",
      "[190]\ttrain-logloss:0.00863\teval-logloss:0.01513\n",
      "[191]\ttrain-logloss:0.00854\teval-logloss:0.01508\n",
      "[192]\ttrain-logloss:0.00846\teval-logloss:0.01501\n",
      "[193]\ttrain-logloss:0.00843\teval-logloss:0.01499\n",
      "[194]\ttrain-logloss:0.00836\teval-logloss:0.01494\n",
      "[195]\ttrain-logloss:0.00829\teval-logloss:0.01488\n",
      "[196]\ttrain-logloss:0.00823\teval-logloss:0.01483\n",
      "[197]\ttrain-logloss:0.00818\teval-logloss:0.01479\n",
      "[198]\ttrain-logloss:0.00812\teval-logloss:0.01475\n",
      "[199]\ttrain-logloss:0.00807\teval-logloss:0.01469\n",
      "[200]\ttrain-logloss:0.00801\teval-logloss:0.01466\n",
      "[201]\ttrain-logloss:0.00795\teval-logloss:0.01463\n",
      "[202]\ttrain-logloss:0.00786\teval-logloss:0.01452\n",
      "[203]\ttrain-logloss:0.00780\teval-logloss:0.01448\n",
      "[204]\ttrain-logloss:0.00778\teval-logloss:0.01447\n",
      "[205]\ttrain-logloss:0.00771\teval-logloss:0.01445\n",
      "[206]\ttrain-logloss:0.00763\teval-logloss:0.01437\n",
      "[207]\ttrain-logloss:0.00756\teval-logloss:0.01433\n",
      "[208]\ttrain-logloss:0.00749\teval-logloss:0.01427\n",
      "[209]\ttrain-logloss:0.00743\teval-logloss:0.01423\n",
      "[210]\ttrain-logloss:0.00740\teval-logloss:0.01423\n",
      "[211]\ttrain-logloss:0.00734\teval-logloss:0.01419\n",
      "[212]\ttrain-logloss:0.00727\teval-logloss:0.01413\n",
      "[213]\ttrain-logloss:0.00720\teval-logloss:0.01409\n",
      "[214]\ttrain-logloss:0.00718\teval-logloss:0.01406\n",
      "[215]\ttrain-logloss:0.00715\teval-logloss:0.01405\n",
      "[216]\ttrain-logloss:0.00713\teval-logloss:0.01404\n",
      "[217]\ttrain-logloss:0.00705\teval-logloss:0.01396\n",
      "[218]\ttrain-logloss:0.00701\teval-logloss:0.01390\n",
      "[219]\ttrain-logloss:0.00699\teval-logloss:0.01389\n",
      "[220]\ttrain-logloss:0.00693\teval-logloss:0.01386\n",
      "[221]\ttrain-logloss:0.00685\teval-logloss:0.01380\n",
      "[222]\ttrain-logloss:0.00682\teval-logloss:0.01378\n",
      "[223]\ttrain-logloss:0.00676\teval-logloss:0.01373\n",
      "[224]\ttrain-logloss:0.00670\teval-logloss:0.01369\n",
      "[225]\ttrain-logloss:0.00666\teval-logloss:0.01365\n",
      "[226]\ttrain-logloss:0.00660\teval-logloss:0.01362\n",
      "[227]\ttrain-logloss:0.00652\teval-logloss:0.01357\n",
      "[228]\ttrain-logloss:0.00646\teval-logloss:0.01352\n",
      "[229]\ttrain-logloss:0.00641\teval-logloss:0.01350\n",
      "[230]\ttrain-logloss:0.00638\teval-logloss:0.01348\n",
      "[231]\ttrain-logloss:0.00634\teval-logloss:0.01346\n",
      "[232]\ttrain-logloss:0.00631\teval-logloss:0.01346\n",
      "[233]\ttrain-logloss:0.00628\teval-logloss:0.01345\n",
      "[234]\ttrain-logloss:0.00627\teval-logloss:0.01344\n",
      "[235]\ttrain-logloss:0.00625\teval-logloss:0.01342\n",
      "[236]\ttrain-logloss:0.00622\teval-logloss:0.01340\n",
      "[237]\ttrain-logloss:0.00618\teval-logloss:0.01336\n",
      "[238]\ttrain-logloss:0.00613\teval-logloss:0.01332\n",
      "[239]\ttrain-logloss:0.00611\teval-logloss:0.01330\n",
      "[240]\ttrain-logloss:0.00605\teval-logloss:0.01328\n",
      "[241]\ttrain-logloss:0.00602\teval-logloss:0.01325\n",
      "[242]\ttrain-logloss:0.00600\teval-logloss:0.01323\n",
      "[243]\ttrain-logloss:0.00598\teval-logloss:0.01320\n",
      "[244]\ttrain-logloss:0.00596\teval-logloss:0.01317\n",
      "[245]\ttrain-logloss:0.00593\teval-logloss:0.01314\n",
      "[246]\ttrain-logloss:0.00591\teval-logloss:0.01312\n",
      "[247]\ttrain-logloss:0.00586\teval-logloss:0.01309\n",
      "[248]\ttrain-logloss:0.00583\teval-logloss:0.01307\n",
      "[249]\ttrain-logloss:0.00581\teval-logloss:0.01306\n",
      "[250]\ttrain-logloss:0.00579\teval-logloss:0.01304\n",
      "[251]\ttrain-logloss:0.00578\teval-logloss:0.01302\n",
      "[252]\ttrain-logloss:0.00576\teval-logloss:0.01302\n",
      "[253]\ttrain-logloss:0.00572\teval-logloss:0.01299\n",
      "[254]\ttrain-logloss:0.00571\teval-logloss:0.01298\n",
      "[255]\ttrain-logloss:0.00567\teval-logloss:0.01295\n",
      "[256]\ttrain-logloss:0.00562\teval-logloss:0.01290\n",
      "[257]\ttrain-logloss:0.00558\teval-logloss:0.01284\n",
      "[258]\ttrain-logloss:0.00553\teval-logloss:0.01280\n",
      "[259]\ttrain-logloss:0.00550\teval-logloss:0.01278\n",
      "[260]\ttrain-logloss:0.00547\teval-logloss:0.01275\n",
      "[261]\ttrain-logloss:0.00544\teval-logloss:0.01272\n",
      "[262]\ttrain-logloss:0.00541\teval-logloss:0.01271\n",
      "[263]\ttrain-logloss:0.00539\teval-logloss:0.01269\n",
      "[264]\ttrain-logloss:0.00536\teval-logloss:0.01269\n",
      "[265]\ttrain-logloss:0.00534\teval-logloss:0.01268\n",
      "[266]\ttrain-logloss:0.00532\teval-logloss:0.01267\n",
      "[267]\ttrain-logloss:0.00528\teval-logloss:0.01265\n",
      "[268]\ttrain-logloss:0.00525\teval-logloss:0.01263\n",
      "[269]\ttrain-logloss:0.00521\teval-logloss:0.01260\n",
      "[270]\ttrain-logloss:0.00519\teval-logloss:0.01259\n",
      "[271]\ttrain-logloss:0.00515\teval-logloss:0.01256\n",
      "[272]\ttrain-logloss:0.00512\teval-logloss:0.01253\n",
      "[273]\ttrain-logloss:0.00510\teval-logloss:0.01252\n",
      "[274]\ttrain-logloss:0.00508\teval-logloss:0.01250\n",
      "[275]\ttrain-logloss:0.00506\teval-logloss:0.01247\n",
      "[276]\ttrain-logloss:0.00503\teval-logloss:0.01245\n",
      "[277]\ttrain-logloss:0.00499\teval-logloss:0.01243\n",
      "[278]\ttrain-logloss:0.00497\teval-logloss:0.01242\n",
      "[279]\ttrain-logloss:0.00494\teval-logloss:0.01240\n",
      "[280]\ttrain-logloss:0.00492\teval-logloss:0.01239\n",
      "[281]\ttrain-logloss:0.00488\teval-logloss:0.01235\n",
      "[282]\ttrain-logloss:0.00487\teval-logloss:0.01235\n",
      "[283]\ttrain-logloss:0.00484\teval-logloss:0.01231\n",
      "[284]\ttrain-logloss:0.00482\teval-logloss:0.01228\n",
      "[285]\ttrain-logloss:0.00480\teval-logloss:0.01225\n",
      "[286]\ttrain-logloss:0.00478\teval-logloss:0.01222\n",
      "[287]\ttrain-logloss:0.00477\teval-logloss:0.01221\n",
      "[288]\ttrain-logloss:0.00474\teval-logloss:0.01219\n",
      "[289]\ttrain-logloss:0.00472\teval-logloss:0.01218\n",
      "[290]\ttrain-logloss:0.00470\teval-logloss:0.01215\n",
      "[291]\ttrain-logloss:0.00467\teval-logloss:0.01214\n",
      "[292]\ttrain-logloss:0.00466\teval-logloss:0.01213\n",
      "[293]\ttrain-logloss:0.00463\teval-logloss:0.01211\n",
      "[294]\ttrain-logloss:0.00461\teval-logloss:0.01211\n",
      "[295]\ttrain-logloss:0.00459\teval-logloss:0.01210\n",
      "[296]\ttrain-logloss:0.00457\teval-logloss:0.01208\n",
      "[297]\ttrain-logloss:0.00455\teval-logloss:0.01208\n",
      "[298]\ttrain-logloss:0.00453\teval-logloss:0.01206\n",
      "[299]\ttrain-logloss:0.00451\teval-logloss:0.01203\n",
      "[300]\ttrain-logloss:0.00450\teval-logloss:0.01202\n",
      "[301]\ttrain-logloss:0.00449\teval-logloss:0.01201\n",
      "[302]\ttrain-logloss:0.00447\teval-logloss:0.01200\n",
      "[303]\ttrain-logloss:0.00446\teval-logloss:0.01200\n",
      "[304]\ttrain-logloss:0.00444\teval-logloss:0.01198\n",
      "[305]\ttrain-logloss:0.00443\teval-logloss:0.01196\n",
      "[306]\ttrain-logloss:0.00441\teval-logloss:0.01193\n",
      "[307]\ttrain-logloss:0.00440\teval-logloss:0.01193\n",
      "[308]\ttrain-logloss:0.00439\teval-logloss:0.01193\n",
      "[309]\ttrain-logloss:0.00437\teval-logloss:0.01192\n",
      "[310]\ttrain-logloss:0.00435\teval-logloss:0.01190\n",
      "[311]\ttrain-logloss:0.00434\teval-logloss:0.01189\n",
      "[312]\ttrain-logloss:0.00433\teval-logloss:0.01188\n",
      "[313]\ttrain-logloss:0.00432\teval-logloss:0.01188\n",
      "[314]\ttrain-logloss:0.00430\teval-logloss:0.01187\n",
      "[315]\ttrain-logloss:0.00427\teval-logloss:0.01186\n",
      "[316]\ttrain-logloss:0.00425\teval-logloss:0.01185\n",
      "[317]\ttrain-logloss:0.00422\teval-logloss:0.01182\n",
      "[318]\ttrain-logloss:0.00421\teval-logloss:0.01180\n",
      "[319]\ttrain-logloss:0.00419\teval-logloss:0.01181\n",
      "[320]\ttrain-logloss:0.00418\teval-logloss:0.01182\n",
      "[321]\ttrain-logloss:0.00416\teval-logloss:0.01179\n",
      "[322]\ttrain-logloss:0.00415\teval-logloss:0.01180\n",
      "[323]\ttrain-logloss:0.00413\teval-logloss:0.01179\n",
      "[324]\ttrain-logloss:0.00412\teval-logloss:0.01178\n",
      "[325]\ttrain-logloss:0.00411\teval-logloss:0.01178\n",
      "[326]\ttrain-logloss:0.00408\teval-logloss:0.01176\n",
      "[327]\ttrain-logloss:0.00406\teval-logloss:0.01174\n",
      "[328]\ttrain-logloss:0.00404\teval-logloss:0.01175\n",
      "[329]\ttrain-logloss:0.00402\teval-logloss:0.01172\n",
      "[330]\ttrain-logloss:0.00401\teval-logloss:0.01172\n"
     ]
    },
    {
     "name": "stdout",
     "output_type": "stream",
     "text": [
      "[331]\ttrain-logloss:0.00398\teval-logloss:0.01170\n",
      "[332]\ttrain-logloss:0.00397\teval-logloss:0.01169\n",
      "[333]\ttrain-logloss:0.00396\teval-logloss:0.01169\n",
      "[334]\ttrain-logloss:0.00394\teval-logloss:0.01166\n",
      "[335]\ttrain-logloss:0.00393\teval-logloss:0.01165\n",
      "[336]\ttrain-logloss:0.00392\teval-logloss:0.01164\n",
      "[337]\ttrain-logloss:0.00390\teval-logloss:0.01161\n",
      "[338]\ttrain-logloss:0.00389\teval-logloss:0.01159\n",
      "[339]\ttrain-logloss:0.00388\teval-logloss:0.01159\n",
      "[340]\ttrain-logloss:0.00386\teval-logloss:0.01158\n",
      "[341]\ttrain-logloss:0.00385\teval-logloss:0.01156\n",
      "[342]\ttrain-logloss:0.00384\teval-logloss:0.01155\n",
      "[343]\ttrain-logloss:0.00381\teval-logloss:0.01153\n",
      "[344]\ttrain-logloss:0.00380\teval-logloss:0.01153\n",
      "[345]\ttrain-logloss:0.00379\teval-logloss:0.01153\n",
      "[346]\ttrain-logloss:0.00377\teval-logloss:0.01151\n",
      "[347]\ttrain-logloss:0.00375\teval-logloss:0.01151\n",
      "[348]\ttrain-logloss:0.00373\teval-logloss:0.01150\n",
      "[349]\ttrain-logloss:0.00371\teval-logloss:0.01148\n",
      "[350]\ttrain-logloss:0.00370\teval-logloss:0.01148\n",
      "[351]\ttrain-logloss:0.00368\teval-logloss:0.01148\n",
      "[352]\ttrain-logloss:0.00367\teval-logloss:0.01147\n",
      "[353]\ttrain-logloss:0.00366\teval-logloss:0.01146\n",
      "[354]\ttrain-logloss:0.00364\teval-logloss:0.01145\n",
      "[355]\ttrain-logloss:0.00363\teval-logloss:0.01145\n",
      "[356]\ttrain-logloss:0.00360\teval-logloss:0.01144\n",
      "[357]\ttrain-logloss:0.00359\teval-logloss:0.01141\n",
      "[358]\ttrain-logloss:0.00356\teval-logloss:0.01139\n",
      "[359]\ttrain-logloss:0.00355\teval-logloss:0.01138\n",
      "[360]\ttrain-logloss:0.00352\teval-logloss:0.01136\n",
      "[361]\ttrain-logloss:0.00350\teval-logloss:0.01136\n",
      "[362]\ttrain-logloss:0.00349\teval-logloss:0.01134\n",
      "[363]\ttrain-logloss:0.00349\teval-logloss:0.01133\n",
      "[364]\ttrain-logloss:0.00347\teval-logloss:0.01132\n",
      "[365]\ttrain-logloss:0.00347\teval-logloss:0.01131\n",
      "[366]\ttrain-logloss:0.00345\teval-logloss:0.01130\n",
      "[367]\ttrain-logloss:0.00344\teval-logloss:0.01129\n",
      "[368]\ttrain-logloss:0.00343\teval-logloss:0.01128\n",
      "[369]\ttrain-logloss:0.00343\teval-logloss:0.01129\n",
      "[370]\ttrain-logloss:0.00341\teval-logloss:0.01129\n",
      "[371]\ttrain-logloss:0.00340\teval-logloss:0.01128\n",
      "[372]\ttrain-logloss:0.00339\teval-logloss:0.01127\n",
      "[373]\ttrain-logloss:0.00338\teval-logloss:0.01126\n",
      "[374]\ttrain-logloss:0.00338\teval-logloss:0.01125\n",
      "[375]\ttrain-logloss:0.00337\teval-logloss:0.01125\n",
      "[376]\ttrain-logloss:0.00336\teval-logloss:0.01124\n",
      "[377]\ttrain-logloss:0.00336\teval-logloss:0.01124\n",
      "[378]\ttrain-logloss:0.00335\teval-logloss:0.01124\n",
      "[379]\ttrain-logloss:0.00334\teval-logloss:0.01124\n",
      "[380]\ttrain-logloss:0.00334\teval-logloss:0.01125\n",
      "[381]\ttrain-logloss:0.00333\teval-logloss:0.01123\n",
      "[382]\ttrain-logloss:0.00332\teval-logloss:0.01123\n",
      "[383]\ttrain-logloss:0.00331\teval-logloss:0.01122\n",
      "[384]\ttrain-logloss:0.00329\teval-logloss:0.01119\n",
      "[385]\ttrain-logloss:0.00327\teval-logloss:0.01117\n",
      "[386]\ttrain-logloss:0.00325\teval-logloss:0.01116\n",
      "[387]\ttrain-logloss:0.00325\teval-logloss:0.01117\n",
      "[388]\ttrain-logloss:0.00324\teval-logloss:0.01115\n",
      "[389]\ttrain-logloss:0.00322\teval-logloss:0.01114\n",
      "[390]\ttrain-logloss:0.00321\teval-logloss:0.01112\n",
      "[391]\ttrain-logloss:0.00318\teval-logloss:0.01112\n",
      "[392]\ttrain-logloss:0.00317\teval-logloss:0.01110\n",
      "[393]\ttrain-logloss:0.00316\teval-logloss:0.01108\n",
      "[394]\ttrain-logloss:0.00315\teval-logloss:0.01107\n",
      "[395]\ttrain-logloss:0.00314\teval-logloss:0.01105\n",
      "[396]\ttrain-logloss:0.00313\teval-logloss:0.01105\n",
      "[397]\ttrain-logloss:0.00311\teval-logloss:0.01106\n",
      "[398]\ttrain-logloss:0.00310\teval-logloss:0.01105\n",
      "[399]\ttrain-logloss:0.00309\teval-logloss:0.01104\n",
      "[400]\ttrain-logloss:0.00309\teval-logloss:0.01103\n",
      "[401]\ttrain-logloss:0.00308\teval-logloss:0.01103\n",
      "[402]\ttrain-logloss:0.00307\teval-logloss:0.01101\n",
      "[403]\ttrain-logloss:0.00307\teval-logloss:0.01101\n",
      "[404]\ttrain-logloss:0.00306\teval-logloss:0.01101\n",
      "[405]\ttrain-logloss:0.00305\teval-logloss:0.01100\n",
      "[406]\ttrain-logloss:0.00303\teval-logloss:0.01101\n",
      "[407]\ttrain-logloss:0.00303\teval-logloss:0.01099\n",
      "[408]\ttrain-logloss:0.00302\teval-logloss:0.01100\n",
      "[409]\ttrain-logloss:0.00302\teval-logloss:0.01100\n",
      "[410]\ttrain-logloss:0.00300\teval-logloss:0.01100\n",
      "[411]\ttrain-logloss:0.00299\teval-logloss:0.01099\n",
      "[412]\ttrain-logloss:0.00297\teval-logloss:0.01098\n",
      "[413]\ttrain-logloss:0.00296\teval-logloss:0.01097\n",
      "[414]\ttrain-logloss:0.00295\teval-logloss:0.01097\n",
      "[415]\ttrain-logloss:0.00293\teval-logloss:0.01097\n",
      "[416]\ttrain-logloss:0.00292\teval-logloss:0.01096\n",
      "[417]\ttrain-logloss:0.00291\teval-logloss:0.01096\n",
      "[418]\ttrain-logloss:0.00290\teval-logloss:0.01094\n",
      "[419]\ttrain-logloss:0.00290\teval-logloss:0.01093\n",
      "[420]\ttrain-logloss:0.00289\teval-logloss:0.01093\n",
      "[421]\ttrain-logloss:0.00288\teval-logloss:0.01092\n",
      "[422]\ttrain-logloss:0.00287\teval-logloss:0.01092\n",
      "[423]\ttrain-logloss:0.00286\teval-logloss:0.01092\n",
      "[424]\ttrain-logloss:0.00285\teval-logloss:0.01092\n",
      "[425]\ttrain-logloss:0.00284\teval-logloss:0.01091\n",
      "[426]\ttrain-logloss:0.00284\teval-logloss:0.01090\n",
      "[427]\ttrain-logloss:0.00282\teval-logloss:0.01091\n",
      "[428]\ttrain-logloss:0.00281\teval-logloss:0.01092\n",
      "[429]\ttrain-logloss:0.00281\teval-logloss:0.01092\n",
      "[430]\ttrain-logloss:0.00279\teval-logloss:0.01091\n",
      "[431]\ttrain-logloss:0.00279\teval-logloss:0.01091\n",
      "[432]\ttrain-logloss:0.00278\teval-logloss:0.01091\n",
      "[433]\ttrain-logloss:0.00277\teval-logloss:0.01091\n",
      "[434]\ttrain-logloss:0.00277\teval-logloss:0.01091\n",
      "[435]\ttrain-logloss:0.00276\teval-logloss:0.01092\n",
      "[436]\ttrain-logloss:0.00276\teval-logloss:0.01092\n",
      "[437]\ttrain-logloss:0.00275\teval-logloss:0.01092\n",
      "[438]\ttrain-logloss:0.00275\teval-logloss:0.01092\n",
      "[439]\ttrain-logloss:0.00274\teval-logloss:0.01091\n",
      "[440]\ttrain-logloss:0.00271\teval-logloss:0.01089\n",
      "[441]\ttrain-logloss:0.00270\teval-logloss:0.01089\n",
      "[442]\ttrain-logloss:0.00269\teval-logloss:0.01087\n",
      "[443]\ttrain-logloss:0.00269\teval-logloss:0.01086\n",
      "[444]\ttrain-logloss:0.00267\teval-logloss:0.01085\n",
      "[445]\ttrain-logloss:0.00266\teval-logloss:0.01084\n",
      "[446]\ttrain-logloss:0.00265\teval-logloss:0.01083\n",
      "[447]\ttrain-logloss:0.00264\teval-logloss:0.01082\n",
      "[448]\ttrain-logloss:0.00262\teval-logloss:0.01080\n",
      "[449]\ttrain-logloss:0.00261\teval-logloss:0.01080\n",
      "[450]\ttrain-logloss:0.00260\teval-logloss:0.01078\n",
      "[451]\ttrain-logloss:0.00260\teval-logloss:0.01077\n",
      "[452]\ttrain-logloss:0.00258\teval-logloss:0.01078\n",
      "[453]\ttrain-logloss:0.00257\teval-logloss:0.01077\n",
      "[454]\ttrain-logloss:0.00255\teval-logloss:0.01077\n",
      "[455]\ttrain-logloss:0.00255\teval-logloss:0.01076\n",
      "[456]\ttrain-logloss:0.00254\teval-logloss:0.01076\n",
      "[457]\ttrain-logloss:0.00253\teval-logloss:0.01073\n",
      "[458]\ttrain-logloss:0.00252\teval-logloss:0.01073\n",
      "[459]\ttrain-logloss:0.00251\teval-logloss:0.01072\n",
      "[460]\ttrain-logloss:0.00251\teval-logloss:0.01071\n",
      "[461]\ttrain-logloss:0.00250\teval-logloss:0.01071\n",
      "[462]\ttrain-logloss:0.00249\teval-logloss:0.01071\n",
      "[463]\ttrain-logloss:0.00248\teval-logloss:0.01071\n",
      "[464]\ttrain-logloss:0.00248\teval-logloss:0.01070\n",
      "[465]\ttrain-logloss:0.00248\teval-logloss:0.01071\n",
      "[466]\ttrain-logloss:0.00247\teval-logloss:0.01069\n",
      "[467]\ttrain-logloss:0.00246\teval-logloss:0.01068\n",
      "[468]\ttrain-logloss:0.00245\teval-logloss:0.01067\n",
      "[469]\ttrain-logloss:0.00244\teval-logloss:0.01068\n",
      "[470]\ttrain-logloss:0.00243\teval-logloss:0.01069\n",
      "[471]\ttrain-logloss:0.00242\teval-logloss:0.01069\n",
      "[472]\ttrain-logloss:0.00242\teval-logloss:0.01069\n",
      "[473]\ttrain-logloss:0.00241\teval-logloss:0.01069\n",
      "[474]\ttrain-logloss:0.00240\teval-logloss:0.01068\n",
      "[475]\ttrain-logloss:0.00239\teval-logloss:0.01068\n",
      "[476]\ttrain-logloss:0.00239\teval-logloss:0.01069\n",
      "[477]\ttrain-logloss:0.00238\teval-logloss:0.01068\n",
      "[478]\ttrain-logloss:0.00238\teval-logloss:0.01068\n",
      "[479]\ttrain-logloss:0.00237\teval-logloss:0.01068\n",
      "[480]\ttrain-logloss:0.00237\teval-logloss:0.01068\n",
      "[481]\ttrain-logloss:0.00236\teval-logloss:0.01067\n",
      "[482]\ttrain-logloss:0.00236\teval-logloss:0.01067\n",
      "[483]\ttrain-logloss:0.00236\teval-logloss:0.01068\n",
      "[484]\ttrain-logloss:0.00235\teval-logloss:0.01068\n",
      "[485]\ttrain-logloss:0.00235\teval-logloss:0.01068\n",
      "[486]\ttrain-logloss:0.00234\teval-logloss:0.01068\n",
      "[487]\ttrain-logloss:0.00234\teval-logloss:0.01068\n",
      "[488]\ttrain-logloss:0.00233\teval-logloss:0.01067\n",
      "[489]\ttrain-logloss:0.00233\teval-logloss:0.01067\n",
      "[490]\ttrain-logloss:0.00232\teval-logloss:0.01068\n",
      "[491]\ttrain-logloss:0.00232\teval-logloss:0.01067\n",
      "[492]\ttrain-logloss:0.00231\teval-logloss:0.01066\n",
      "[493]\ttrain-logloss:0.00230\teval-logloss:0.01065\n",
      "[494]\ttrain-logloss:0.00230\teval-logloss:0.01066\n",
      "[495]\ttrain-logloss:0.00229\teval-logloss:0.01066\n",
      "[496]\ttrain-logloss:0.00229\teval-logloss:0.01065\n",
      "[497]\ttrain-logloss:0.00228\teval-logloss:0.01064\n",
      "[498]\ttrain-logloss:0.00228\teval-logloss:0.01064\n"
     ]
    },
    {
     "name": "stdout",
     "output_type": "stream",
     "text": [
      "[499]\ttrain-logloss:0.00228\teval-logloss:0.01064\n",
      "[500]\ttrain-logloss:0.00227\teval-logloss:0.01063\n",
      "[501]\ttrain-logloss:0.00226\teval-logloss:0.01063\n",
      "[502]\ttrain-logloss:0.00226\teval-logloss:0.01063\n",
      "[503]\ttrain-logloss:0.00225\teval-logloss:0.01062\n",
      "[504]\ttrain-logloss:0.00224\teval-logloss:0.01062\n",
      "[505]\ttrain-logloss:0.00224\teval-logloss:0.01062\n",
      "[506]\ttrain-logloss:0.00223\teval-logloss:0.01061\n",
      "[507]\ttrain-logloss:0.00222\teval-logloss:0.01060\n",
      "[508]\ttrain-logloss:0.00222\teval-logloss:0.01060\n",
      "[509]\ttrain-logloss:0.00221\teval-logloss:0.01060\n",
      "[510]\ttrain-logloss:0.00221\teval-logloss:0.01060\n",
      "[511]\ttrain-logloss:0.00220\teval-logloss:0.01060\n",
      "[512]\ttrain-logloss:0.00219\teval-logloss:0.01060\n",
      "[513]\ttrain-logloss:0.00219\teval-logloss:0.01060\n",
      "[514]\ttrain-logloss:0.00218\teval-logloss:0.01061\n",
      "[515]\ttrain-logloss:0.00217\teval-logloss:0.01061\n",
      "[516]\ttrain-logloss:0.00217\teval-logloss:0.01060\n",
      "[517]\ttrain-logloss:0.00216\teval-logloss:0.01061\n",
      "[518]\ttrain-logloss:0.00215\teval-logloss:0.01060\n",
      "[519]\ttrain-logloss:0.00215\teval-logloss:0.01060\n",
      "[520]\ttrain-logloss:0.00214\teval-logloss:0.01060\n",
      "[521]\ttrain-logloss:0.00214\teval-logloss:0.01060\n",
      "[522]\ttrain-logloss:0.00214\teval-logloss:0.01059\n",
      "[523]\ttrain-logloss:0.00213\teval-logloss:0.01059\n",
      "[524]\ttrain-logloss:0.00213\teval-logloss:0.01059\n",
      "[525]\ttrain-logloss:0.00212\teval-logloss:0.01059\n",
      "[526]\ttrain-logloss:0.00212\teval-logloss:0.01059\n",
      "[527]\ttrain-logloss:0.00212\teval-logloss:0.01060\n",
      "[528]\ttrain-logloss:0.00211\teval-logloss:0.01060\n",
      "[529]\ttrain-logloss:0.00211\teval-logloss:0.01060\n",
      "[530]\ttrain-logloss:0.00210\teval-logloss:0.01061\n",
      "[531]\ttrain-logloss:0.00210\teval-logloss:0.01062\n",
      "[532]\ttrain-logloss:0.00209\teval-logloss:0.01062\n",
      "[533]\ttrain-logloss:0.00209\teval-logloss:0.01061\n",
      "[534]\ttrain-logloss:0.00209\teval-logloss:0.01061\n",
      "[535]\ttrain-logloss:0.00208\teval-logloss:0.01061\n",
      "[536]\ttrain-logloss:0.00208\teval-logloss:0.01061\n",
      "[537]\ttrain-logloss:0.00208\teval-logloss:0.01061\n",
      "[538]\ttrain-logloss:0.00208\teval-logloss:0.01061\n",
      "[539]\ttrain-logloss:0.00207\teval-logloss:0.01061\n",
      "[540]\ttrain-logloss:0.00207\teval-logloss:0.01062\n",
      "[541]\ttrain-logloss:0.00207\teval-logloss:0.01062\n",
      "[542]\ttrain-logloss:0.00207\teval-logloss:0.01061\n",
      "[543]\ttrain-logloss:0.00206\teval-logloss:0.01062\n",
      "[544]\ttrain-logloss:0.00206\teval-logloss:0.01061\n",
      "[545]\ttrain-logloss:0.00205\teval-logloss:0.01061\n",
      "[546]\ttrain-logloss:0.00204\teval-logloss:0.01061\n",
      "[547]\ttrain-logloss:0.00203\teval-logloss:0.01061\n",
      "[548]\ttrain-logloss:0.00203\teval-logloss:0.01062\n",
      "[549]\ttrain-logloss:0.00203\teval-logloss:0.01062\n",
      "[550]\ttrain-logloss:0.00202\teval-logloss:0.01061\n",
      "[551]\ttrain-logloss:0.00201\teval-logloss:0.01060\n",
      "[552]\ttrain-logloss:0.00201\teval-logloss:0.01060\n",
      "[553]\ttrain-logloss:0.00200\teval-logloss:0.01060\n",
      "[554]\ttrain-logloss:0.00200\teval-logloss:0.01060\n",
      "[555]\ttrain-logloss:0.00200\teval-logloss:0.01060\n",
      "[556]\ttrain-logloss:0.00199\teval-logloss:0.01060\n",
      "[557]\ttrain-logloss:0.00198\teval-logloss:0.01059\n",
      "[558]\ttrain-logloss:0.00198\teval-logloss:0.01059\n",
      "[559]\ttrain-logloss:0.00198\teval-logloss:0.01059\n",
      "[560]\ttrain-logloss:0.00198\teval-logloss:0.01059\n",
      "[561]\ttrain-logloss:0.00198\teval-logloss:0.01059\n",
      "[562]\ttrain-logloss:0.00197\teval-logloss:0.01059\n",
      "[563]\ttrain-logloss:0.00197\teval-logloss:0.01059\n",
      "[564]\ttrain-logloss:0.00197\teval-logloss:0.01059\n",
      "[565]\ttrain-logloss:0.00197\teval-logloss:0.01059\n",
      "[566]\ttrain-logloss:0.00196\teval-logloss:0.01059\n",
      "[567]\ttrain-logloss:0.00196\teval-logloss:0.01059\n",
      "[568]\ttrain-logloss:0.00196\teval-logloss:0.01059\n",
      "[569]\ttrain-logloss:0.00195\teval-logloss:0.01058\n",
      "[570]\ttrain-logloss:0.00195\teval-logloss:0.01058\n",
      "[571]\ttrain-logloss:0.00194\teval-logloss:0.01057\n",
      "[572]\ttrain-logloss:0.00194\teval-logloss:0.01057\n",
      "[573]\ttrain-logloss:0.00194\teval-logloss:0.01057\n",
      "[574]\ttrain-logloss:0.00193\teval-logloss:0.01056\n",
      "[575]\ttrain-logloss:0.00193\teval-logloss:0.01056\n",
      "[576]\ttrain-logloss:0.00192\teval-logloss:0.01056\n",
      "[577]\ttrain-logloss:0.00192\teval-logloss:0.01056\n",
      "[578]\ttrain-logloss:0.00192\teval-logloss:0.01056\n",
      "[579]\ttrain-logloss:0.00191\teval-logloss:0.01056\n",
      "[580]\ttrain-logloss:0.00191\teval-logloss:0.01056\n",
      "[581]\ttrain-logloss:0.00190\teval-logloss:0.01055\n",
      "[582]\ttrain-logloss:0.00190\teval-logloss:0.01056\n",
      "[583]\ttrain-logloss:0.00190\teval-logloss:0.01055\n",
      "[584]\ttrain-logloss:0.00189\teval-logloss:0.01055\n",
      "[585]\ttrain-logloss:0.00188\teval-logloss:0.01055\n",
      "[586]\ttrain-logloss:0.00188\teval-logloss:0.01054\n",
      "[587]\ttrain-logloss:0.00187\teval-logloss:0.01054\n",
      "[588]\ttrain-logloss:0.00187\teval-logloss:0.01054\n",
      "[589]\ttrain-logloss:0.00187\teval-logloss:0.01053\n",
      "[590]\ttrain-logloss:0.00186\teval-logloss:0.01054\n",
      "[591]\ttrain-logloss:0.00186\teval-logloss:0.01053\n",
      "[592]\ttrain-logloss:0.00186\teval-logloss:0.01053\n",
      "[593]\ttrain-logloss:0.00186\teval-logloss:0.01053\n",
      "[594]\ttrain-logloss:0.00186\teval-logloss:0.01053\n",
      "[595]\ttrain-logloss:0.00185\teval-logloss:0.01052\n",
      "[596]\ttrain-logloss:0.00185\teval-logloss:0.01053\n",
      "[597]\ttrain-logloss:0.00185\teval-logloss:0.01053\n",
      "[598]\ttrain-logloss:0.00185\teval-logloss:0.01053\n",
      "[599]\ttrain-logloss:0.00184\teval-logloss:0.01053\n"
     ]
    }
   ],
   "source": [
    "params={'max_depth':6,'eta':0.1,'objective':'binary:logistic','eval_metric':'logloss','early_stopping':100}\n",
    "wlist=[(dtrain,'train'),(dtest,'eval')]\n",
    "xgb_model=xgb.train(params=params,dtrain=dtrain,num_boost_round=600,early_stopping_rounds=100,evals=wlist)"
   ]
  },
  {
   "cell_type": "code",
   "execution_count": 21,
   "id": "7ff4088f",
   "metadata": {},
   "outputs": [
    {
     "name": "stdout",
     "output_type": "stream",
     "text": [
      "confusion matrix\n",
      "[[23739    12]\n",
      " [   62    94]]\n",
      "accuracy : 0.9969 , precision : 0.8868 , recall : 0.6026, F1 score : 0.7176 \n",
      " precision(0) : 0.9974 , recall(0) : 0.9995, f1(0) : 0.9984\n"
     ]
    }
   ],
   "source": [
    "pred_probs=xgb_model.predict(dtest)\n",
    "pred6=[1 if x>0.5 else 0 for x in pred_probs]\n",
    "get_eval(y_tes,pred6)"
   ]
  },
  {
   "cell_type": "markdown",
   "id": "b3556756",
   "metadata": {},
   "source": [
    "### Model Comparison"
   ]
  },
  {
   "cell_type": "code",
   "execution_count": 28,
   "id": "55052bfc",
   "metadata": {},
   "outputs": [],
   "source": [
    "def get_eval_list(y_test,pred_value):\n",
    "    pred_list=[]\n",
    "    pred_list.append(np.round(accuracy_score(y_test,pred_value),4))\n",
    "    pred_list.append(np.round(precision_score(y_test,pred_value),4))\n",
    "    pred_list.append(np.round(recall_score(y_test,pred_value),4))\n",
    "    pred_list.append(np.round(f1_score(y_test,pred_value),4))\n",
    "    return pred_list"
   ]
  },
  {
   "cell_type": "code",
   "execution_count": 71,
   "id": "4e493cf8",
   "metadata": {},
   "outputs": [
    {
     "name": "stdout",
     "output_type": "stream",
     "text": [
      "[0.9935, 0.0, 0.0, 0.0] \n",
      " [0.9512, 0.0307, 0.2115, 0.0536] \n",
      " [0.9957, 0.7411, 0.5321, 0.6194] \n",
      " [0.9962, 0.8556, 0.4936, 0.626] \n",
      " [0.9969, 0.8868, 0.6026, 0.7176] \n",
      " [0.994, 0.5375, 0.5513, 0.5443]\n"
     ]
    },
    {
     "name": "stderr",
     "output_type": "stream",
     "text": [
      "C:\\Users\\vmffl\\python\\lib\\site-packages\\sklearn\\metrics\\_classification.py:1248: UndefinedMetricWarning: Precision is ill-defined and being set to 0.0 due to no predicted samples. Use `zero_division` parameter to control this behavior.\n",
      "  _warn_prf(average, modifier, msg_start, len(result))\n"
     ]
    }
   ],
   "source": [
    "logistic=get_eval_list(y_tes,pred)\n",
    "nb=get_eval_list(y_tes,pred2)\n",
    "knn=get_eval_list(y_tes,pred5)\n",
    "rf=get_eval_list(y_tes,pred4)\n",
    "xg=get_eval_list(y_tes,pred6)\n",
    "tree=get_eval_list(y_tes,pred3)\n",
    "print(logistic,'\\n',nb,'\\n',knn,'\\n',rf,'\\n',xg,'\\n',tree)"
   ]
  },
  {
   "cell_type": "code",
   "execution_count": 72,
   "id": "cb28ff12",
   "metadata": {},
   "outputs": [
    {
     "data": {
      "text/html": [
       "<div>\n",
       "<style scoped>\n",
       "    .dataframe tbody tr th:only-of-type {\n",
       "        vertical-align: middle;\n",
       "    }\n",
       "\n",
       "    .dataframe tbody tr th {\n",
       "        vertical-align: top;\n",
       "    }\n",
       "\n",
       "    .dataframe thead th {\n",
       "        text-align: right;\n",
       "    }\n",
       "</style>\n",
       "<table border=\"1\" class=\"dataframe\">\n",
       "  <thead>\n",
       "    <tr style=\"text-align: right;\">\n",
       "      <th></th>\n",
       "      <th>Logistic</th>\n",
       "      <th>NB</th>\n",
       "      <th>KNN</th>\n",
       "      <th>DT</th>\n",
       "      <th>RF</th>\n",
       "      <th>XG</th>\n",
       "    </tr>\n",
       "  </thead>\n",
       "  <tbody>\n",
       "    <tr>\n",
       "      <th>Accuracy</th>\n",
       "      <td>0.9935</td>\n",
       "      <td>0.9512</td>\n",
       "      <td>0.9957</td>\n",
       "      <td>0.9940</td>\n",
       "      <td>0.9962</td>\n",
       "      <td>0.9969</td>\n",
       "    </tr>\n",
       "    <tr>\n",
       "      <th>Precision(1)</th>\n",
       "      <td>0.0000</td>\n",
       "      <td>0.0307</td>\n",
       "      <td>0.7411</td>\n",
       "      <td>0.5375</td>\n",
       "      <td>0.8556</td>\n",
       "      <td>0.8868</td>\n",
       "    </tr>\n",
       "    <tr>\n",
       "      <th>Recall(1)</th>\n",
       "      <td>0.0000</td>\n",
       "      <td>0.2115</td>\n",
       "      <td>0.5321</td>\n",
       "      <td>0.5513</td>\n",
       "      <td>0.4936</td>\n",
       "      <td>0.6026</td>\n",
       "    </tr>\n",
       "    <tr>\n",
       "      <th>F1_Score(1)</th>\n",
       "      <td>0.0000</td>\n",
       "      <td>0.0536</td>\n",
       "      <td>0.6194</td>\n",
       "      <td>0.5443</td>\n",
       "      <td>0.6260</td>\n",
       "      <td>0.7176</td>\n",
       "    </tr>\n",
       "  </tbody>\n",
       "</table>\n",
       "</div>"
      ],
      "text/plain": [
       "              Logistic      NB     KNN      DT      RF      XG\n",
       "Accuracy        0.9935  0.9512  0.9957  0.9940  0.9962  0.9969\n",
       "Precision(1)    0.0000  0.0307  0.7411  0.5375  0.8556  0.8868\n",
       "Recall(1)       0.0000  0.2115  0.5321  0.5513  0.4936  0.6026\n",
       "F1_Score(1)     0.0000  0.0536  0.6194  0.5443  0.6260  0.7176"
      ]
     },
     "execution_count": 72,
     "metadata": {},
     "output_type": "execute_result"
    }
   ],
   "source": [
    "eval_matrix=pd.DataFrame(columns=['Logistic','NB','KNN','DT','RF','XG'],index=['Accuracy','Precision(1)','Recall(1)','F1_Score(1)'])\n",
    "eval_matrix['Logistic']=logistic\n",
    "eval_matrix['NB']=nb\n",
    "eval_matrix['KNN']=knn\n",
    "eval_matrix['RF']=rf\n",
    "eval_matrix['XG']=xg\n",
    "eval_matrix['DT']=tree\n",
    "eval_matrix"
   ]
  },
  {
   "cell_type": "code",
   "execution_count": 73,
   "id": "6c8a0b75",
   "metadata": {},
   "outputs": [
    {
     "data": {
      "image/png": "[encoded data removed]",
      "text/plain": [
       "<Figure size 800x600 with 1 Axes>"
      ]
     },
     "metadata": {},
     "output_type": "display_data"
    }
   ],
   "source": [
    "eval_matrix.plot(kind='bar',figsize=(8,6),rot=0)\n",
    "plt.show()"
   ]
  },
  {
   "cell_type": "code",
   "execution_count": 77,
   "id": "c4fc466a",
   "metadata": {},
   "outputs": [
    {
     "data": {
      "image/png": "[encoded data removed]",
      "text/plain": [
       "<Figure size 700x500 with 1 Axes>"
      ]
     },
     "metadata": {},
     "output_type": "display_data"
    }
   ],
   "source": [
    "from sklearn.metrics import precision_recall_curve\n",
    "from sklearn.metrics import plot_precision_recall_curve\n",
    "import matplotlib.pyplot as plt\n",
    "\n",
    "plt.figure(figsize=(7,5))\n",
    "plot_precision_recall_curve(clf, X_tes_dummy, y_tes, ax = plt.gca(), name = \"Logistic\")\n",
    "plot_precision_recall_curve(catNB, X_tes_dummy, y_tes,ax = plt.gca(),name = \"NaiveBayes\")\n",
    "plot_precision_recall_curve(rdf_clf, X_tes_dummy, y_tes,ax = plt.gca(),name = \"RandomForest\")\n",
    "plot_precision_recall_curve(tree, X_tes_dummy, y_tes,ax = plt.gca(),name = \"DecisionTree\")\n",
    "plot_precision_recall_curve(knn_clf, X_tes_dummy, y_tes,ax = plt.gca(),name = \"KNN\")\n",
    "plt.show()"
   ]
  }
 ],
 "metadata": {
  "kernelspec": {
   "display_name": "Python 3",
   "language": "python",
   "name": "python3"
  },
  "language_info": {
   "codemirror_mode": {
    "name": "ipython",
    "version": 3
   },
   "file_extension": ".py",
   "mimetype": "text/x-python",
   "name": "python",
   "nbconvert_exporter": "python",
   "pygments_lexer": "ipython3",
   "version": "3.8.3"
  }
 },
 "nbformat": 4,
 "nbformat_minor": 5
}
