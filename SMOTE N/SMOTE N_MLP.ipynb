{
 "cells": [
  {
   "cell_type": "code",
   "execution_count": 2,
   "id": "e3d38c4f",
   "metadata": {},
   "outputs": [],
   "source": [
    "import pandas as pd\n",
    "import numpy as np\n",
    "import matplotlib.pyplot as plt\n",
    "import matplotlib.ticker as ticker\n",
    "from sklearn.model_selection import train_test_split\n",
    "from imblearn.over_sampling import SMOTEN\n",
    "from sklearn.metrics import accuracy_score, precision_score, recall_score, roc_auc_score, f1_score, confusion_matrix, roc_curve\n",
    "from sklearn.metrics import classification_report\n",
    "from sklearn.metrics import precision_recall_curve, auc\n",
    "from sklearn.metrics import plot_precision_recall_curve\n",
    "from sklearn.ensemble import RandomForestClassifier\n",
    "from sklearn.model_selection import GridSearchCV \n",
    "from sklearn.model_selection import StratifiedKFold\n",
    "from imblearn.pipeline import Pipeline, make_pipeline\n",
    "from sklearn.neural_network import MLPClassifier\n",
    "from sklearn.preprocessing import StandardScaler"
   ]
  },
  {
   "cell_type": "code",
   "execution_count": 3,
   "id": "6609c661",
   "metadata": {},
   "outputs": [
    {
     "name": "stdout",
     "output_type": "stream",
     "text": [
      "(119535, 93)\n"
     ]
    }
   ],
   "source": [
    "data=pd.read_csv('C:/Users/HCJ/Desktop/2021_Summer/Finance_data/bank.csv',index_col=0)\n",
    "print(data.shape)"
   ]
  },
  {
   "cell_type": "code",
   "execution_count": 4,
   "id": "f2a26bd6",
   "metadata": {},
   "outputs": [],
   "source": [
    "for col_name in data.columns:\n",
    "    data[col_name]=pd.Categorical(data[col_name])"
   ]
  },
  {
   "cell_type": "code",
   "execution_count": 5,
   "id": "5d662264",
   "metadata": {},
   "outputs": [
    {
     "name": "stdout",
     "output_type": "stream",
     "text": [
      "(95628, 93)\n",
      "(23907, 93)\n"
     ]
    }
   ],
   "source": [
    "train_data, test_data = train_test_split(data,test_size=0.2, random_state=100)\n",
    "print(train_data.shape)\n",
    "print(test_data.shape)"
   ]
  },
  {
   "cell_type": "code",
   "execution_count": 6,
   "id": "7f2a97c7",
   "metadata": {},
   "outputs": [],
   "source": [
    "X_train = train_data.iloc[:,1:]\n",
    "y_train = train_data['TARGET']\n",
    "X_test = test_data.iloc[:,1:]\n",
    "y_test = test_data['TARGET']"
   ]
  },
  {
   "cell_type": "code",
   "execution_count": 7,
   "id": "60ba815d",
   "metadata": {},
   "outputs": [],
   "source": [
    "smoten = SMOTEN()\n",
    "X_train_samp, y_train_samp = smoten.fit_resample(X_train,y_train)"
   ]
  },
  {
   "cell_type": "code",
   "execution_count": 8,
   "id": "4159d6b6",
   "metadata": {},
   "outputs": [],
   "source": [
    "def get_eval(y_test,pred=None):\n",
    "    confusion=confusion_matrix(y_test,pred)\n",
    "    accuracy=accuracy_score(y_test,pred)\n",
    "    precision=precision_score(y_test,pred)\n",
    "    recall=recall_score(y_test, pred)\n",
    "    f1 = f1_score(y_test,pred)\n",
    "    precision2=precision_score(y_test,pred,pos_label=0)\n",
    "    recall2=recall_score(y_test,pred,pos_label=0)\n",
    "    f1_2=f1_score(y_test,pred,pos_label=0)\n",
    "    print(\"confusion matrix\")\n",
    "    print(confusion)\n",
    "    print('accuracy : {0:.4f} , precision : {1:.4f} , recall : {2:.4f}, F1 score : {3:.4f} \\n precision(0) : {4:.4f} , recall(0) : {5:.4f}, f1(0) : {6:.4f}'.format(accuracy,precision, recall,f1,precision2,recall2,f1_2))\n",
    "    \n",
    "def precision_recall_curve_plot(y_test, pred_proba_cl):\n",
    "    precisions, recalls, thresholds = precision_recall_curve(y_test, pred_proba_cl)\n",
    "    plt.figure(figsize=(8,6))\n",
    "    threshold_boundary = thresholds.shape[0]\n",
    "    plt.plot(thresholds, precisions[0:threshold_boundary], linestyle='--', label = 'precision')\n",
    "    plt.plot(thresholds, recalls[0:threshold_boundary], label = 'recall')\n",
    "    start, end = plt.xlim()\n",
    "    plt.xticks(np.round(np.arange(start, end, 0.1),2))\n",
    "    plt.xlabel('Threshold value')\n",
    "    plt.ylabel('Precision and Recall value')\n",
    "    plt.legend()\n",
    "    plt.grid()\n",
    "    plt.show()\n",
    "\n",
    "def roc_curve_plot(y_test, pred_proba_c1):\n",
    "    fprs, tprs, thresholds = roc_curve(y_test, pred_proba_c1)\n",
    "    plt.plot(fprs, tprs, label = 'ROC')\n",
    "    plt.plot([0,1],[0,1],'k--',label='Random')\n",
    "    start, end = plt.xlim()\n",
    "    plt.xticks(np.round(np.arange(start,end,0.1),2))\n",
    "    plt.xlim(0,1);plt.ylim(0,1)\n",
    "    plt.xlabel('FPR(1-Sensitivity)');plt.ylabel('TPR(Recall)')\n",
    "    plt.legend()"
   ]
  },
  {
   "cell_type": "markdown",
   "id": "d8247a03",
   "metadata": {},
   "source": [
    "# 사이킷런을 이용한 MLP 모델 "
   ]
  },
  {
   "cell_type": "code",
   "execution_count": 10,
   "id": "c0fb6a20",
   "metadata": {
    "scrolled": true
   },
   "outputs": [
    {
     "name": "stdout",
     "output_type": "stream",
     "text": [
      "confusion matrix\n",
      "[[23751     0]\n",
      " [  156     0]]\n",
      "accuracy : 0.9935 , precision : 0.0000 , recall : 0.0000, F1 score : 0.0000 \n",
      " precision(0) : 0.9935 , recall(0) : 1.0000, f1(0) : 0.9967\n"
     ]
    },
    {
     "name": "stderr",
     "output_type": "stream",
     "text": [
      "C:\\Users\\HCJ\\anaconda3\\envs\\HCJ\\lib\\site-packages\\sklearn\\metrics\\_classification.py:1248: UndefinedMetricWarning: Precision is ill-defined and being set to 0.0 due to no predicted samples. Use `zero_division` parameter to control this behavior.\n",
      "  _warn_prf(average, modifier, msg_start, len(result))\n"
     ]
    }
   ],
   "source": [
    "# 샘플링 없을 때\n",
    "scaler = StandardScaler()   # 객체 만들기\n",
    "scaler.fit(X_train)     # 변환 규칙을 익히기\n",
    "x_train_scaled = scaler.transform(X_train)  # 데이터를 표준화 전처리\n",
    " \n",
    "mlp0 = MLPClassifier(hidden_layer_sizes=(10,), activation='logistic', solver='sgd', alpha=0.01, batch_size=32,learning_rate_init=0.1, max_iter=500)  # 객체 생성\n",
    " \n",
    "mlp0.fit(x_train_scaled, y_train)    # 훈련하기\n",
    "pred0 = mlp0.predict(X_test)\n",
    "get_eval(y_test,pred0)      # 정확도 평가"
   ]
  },
  {
   "cell_type": "code",
   "execution_count": 11,
   "id": "cd17f375",
   "metadata": {},
   "outputs": [
    {
     "name": "stdout",
     "output_type": "stream",
     "text": [
      "confusion matrix\n",
      "[[22570  1181]\n",
      " [  137    19]]\n",
      "accuracy : 0.9449 , precision : 0.0158 , recall : 0.1218, F1 score : 0.0280 \n",
      " precision(0) : 0.9940 , recall(0) : 0.9503, f1(0) : 0.9716\n"
     ]
    }
   ],
   "source": [
    "# 샘플링 없을 때\n",
    "scaler = StandardScaler()   # 객체 만들기\n",
    "scaler.fit(X_train)     # 변환 규칙을 익히기\n",
    "x_train_samp_scaled = scaler.transform(X_train_samp)  # 데이터를 표준화 전처리\n",
    "\n",
    "mlp = MLPClassifier(hidden_layer_sizes=(10,), activation='logistic', solver='sgd', alpha=0.01, batch_size=32,learning_rate_init=0.1, max_iter=500)  # 객체 생성\n",
    " \n",
    "mlp.fit(x_train_samp_scaled, y_train_samp)    # 훈련하기\n",
    "pred = mlp.predict(X_test)\n",
    "get_eval(y_test,pred)      # 정확도 평가"
   ]
  },
  {
   "cell_type": "code",
   "execution_count": 12,
   "id": "2f692b2b",
   "metadata": {},
   "outputs": [
    {
     "name": "stdout",
     "output_type": "stream",
     "text": [
      "confusion matrix\n",
      "[[17829  5922]\n",
      " [   94    62]]\n",
      "accuracy : 0.7484 , precision : 0.0104 , recall : 0.3974, F1 score : 0.0202 \n",
      " precision(0) : 0.9948 , recall(0) : 0.7507, f1(0) : 0.8556\n"
     ]
    }
   ],
   "source": [
    "# ReLU activation function을 이용 \n",
    "mlp1 = MLPClassifier(activation='relu')  # 객체 생성\n",
    " \n",
    "mlp1.fit(x_train_samp_scaled, y_train_samp)    # 훈련하기\n",
    "pred1 = mlp1.predict(X_test)\n",
    "get_eval(y_test,pred1)      # 정확도 평가"
   ]
  },
  {
   "cell_type": "code",
   "execution_count": 13,
   "id": "2c0da639",
   "metadata": {},
   "outputs": [
    {
     "name": "stdout",
     "output_type": "stream",
     "text": [
      "confusion matrix\n",
      "[[ 8806 14945]\n",
      " [   26   130]]\n",
      "accuracy : 0.3738 , precision : 0.0086 , recall : 0.8333, F1 score : 0.0171 \n",
      " precision(0) : 0.9971 , recall(0) : 0.3708, f1(0) : 0.5405\n"
     ]
    }
   ],
   "source": [
    "mlp2 = MLPClassifier(hidden_layer_sizes=(10,), activation='relu', solver='sgd', alpha=0.01, batch_size=32,learning_rate_init=0.1, max_iter=500)  # 객체 생성\n",
    " \n",
    "mlp2.fit(x_train_samp_scaled, y_train_samp)    # 훈련하기\n",
    "pred2 = mlp2.predict(X_test)\n",
    "get_eval(y_test,pred2)      # 정확도 평가"
   ]
  },
  {
   "cell_type": "code",
   "execution_count": 15,
   "id": "b425295a",
   "metadata": {},
   "outputs": [
    {
     "data": {
      "image/png": "[encoded data removed]",
      "text/plain": [
       "<Figure size 640x480 with 1 Axes>"
      ]
     },
     "metadata": {},
     "output_type": "display_data"
    }
   ],
   "source": [
    "plot_precision_recall_curve(mlp0, X_test, y_test, ax = plt.gca(), name = \"No Sampling\")\n",
    "plot_precision_recall_curve(mlp, X_test, y_test, ax = plt.gca(), name = \"Logistic MLP\")\n",
    "plot_precision_recall_curve(mlp1, X_test, y_test,ax = plt.gca(),name = \"ReLU MLP\")\n",
    "plot_precision_recall_curve(mlp2, X_test, y_test, ax = plt.gca(), name = \"ReLU MLP with param\")"
   ]
  },
  {
   "cell_type": "markdown",
   "id": "f3bfbe09",
   "metadata": {},
   "source": [
    "parameter_space = {\n",
    "    'hidden_layer_sizes': [(50,50,50), (50,100,50), (100,)],\n",
    "    'activation': ['tanh', 'relu'],\n",
    "    'solver': ['sgd', 'adam'],\n",
    "    'alpha': [0.0001, 0.05],\n",
    "    'learning_rate': ['constant','adaptive'],\n",
    "}"
   ]
  },
  {
   "cell_type": "markdown",
   "id": "c8a81bd7",
   "metadata": {},
   "source": [
    "grid_cv = GridSearchCV(mlp, parameter_space, n_jobs=-1, cv=3, verbose = 2)\n",
    "grid_cv.fit(x_train_samp_scaled, y_train_samp)\n",
    "\n",
    "print('최적 하이퍼 파라미터: ', grid_cv.best_params_)\n",
    "print('최고 예측 정확도: {:.4f}'.format(grid_cv.best_score_))"
   ]
  },
  {
   "cell_type": "code",
   "execution_count": null,
   "id": "b19669d2",
   "metadata": {},
   "outputs": [],
   "source": []
  }
 ],
 "metadata": {
  "kernelspec": {
   "display_name": "Python 3",
   "language": "python",
   "name": "python3"
  },
  "language_info": {
   "codemirror_mode": {
    "name": "ipython",
    "version": 3
   },
   "file_extension": ".py",
   "mimetype": "text/x-python",
   "name": "python",
   "nbconvert_exporter": "python",
   "pygments_lexer": "ipython3",
   "version": "3.8.8"
  }
 },
 "nbformat": 4,
 "nbformat_minor": 5
}
