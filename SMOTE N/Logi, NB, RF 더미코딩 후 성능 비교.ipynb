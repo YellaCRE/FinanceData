{
 "cells": [
  {
   "cell_type": "code",
   "execution_count": 1,
   "id": "543cc2dd",
   "metadata": {},
   "outputs": [],
   "source": [
    "import pandas as pd\n",
    "import numpy as np\n",
    "\n",
    "data=pd.read_csv(r'C:\\Users\\vmffl\\workspace\\우리은행 데이터경진대회 데이터셋\\우리은행 데이터경진대회 데이터셋.csv',index_col=0)\n",
    "\n",
    "for col_name in data.columns:\n",
    "    data[col_name]=pd.Categorical(data[col_name])\n",
    "\n",
    "from sklearn.model_selection import train_test_split\n",
    "\n",
    "train_data, test_data = train_test_split(data,test_size=0.2, random_state=100)\n",
    "\n",
    "X_trn=train_data.iloc[:,1:]\n",
    "y_trn=train_data['TARGET']\n",
    "X_tes=test_data.iloc[:,1:]\n",
    "y_tes=test_data['TARGET']"
   ]
  },
  {
   "cell_type": "markdown",
   "id": "c476ba5b",
   "metadata": {},
   "source": [
    "### SMOTEN을 이용한 Oversampling"
   ]
  },
  {
   "cell_type": "code",
   "execution_count": 2,
   "id": "16af620a",
   "metadata": {},
   "outputs": [],
   "source": [
    "from imblearn.over_sampling import SMOTEN\n",
    "smoten = SMOTEN(random_state=1000)\n",
    "X_trn_over, y_trn_over = smoten.fit_resample(X_trn,y_trn)"
   ]
  },
  {
   "cell_type": "markdown",
   "id": "b74c0843",
   "metadata": {},
   "source": [
    "### 명목형 데이터에 대해서 더미코딩"
   ]
  },
  {
   "cell_type": "code",
   "execution_count": 4,
   "id": "01e4696e",
   "metadata": {},
   "outputs": [],
   "source": [
    "nominal_col=X_trn_over.columns[[42,43,44,63,64,65,66,67]]\n",
    "X_trn_over_dummy = pd.get_dummies(X_trn_over,columns=nominal_col)"
   ]
  },
  {
   "cell_type": "code",
   "execution_count": 13,
   "id": "9b17f66f",
   "metadata": {},
   "outputs": [],
   "source": [
    "X_tes_dummy=pd.get_dummies(X_tes,columns=nominal_col)"
   ]
  },
  {
   "cell_type": "code",
   "execution_count": 6,
   "id": "e8baccde",
   "metadata": {},
   "outputs": [
    {
     "data": {
      "text/plain": [
       "Index(['J_F1_LON_RK_3M_CNT_RE', 'J_F1_OTHER_LON_6M_AVBL_AM_RE',\n",
       "       'J_F1_OTHER_LON_MAX_3M_AM_RE', 'J_SHINBO_GIBO_AM_RE',\n",
       "       'J_TOT_LON_CNT_RE', 'J_TOT_LON_AGG_AM_RE', 'J_TOT_LON_MAX_AM_RE',\n",
       "       'J_DPS_CT_BAL_AM_RE', 'J_TOT_DPS_1M_AVBL_AM_RE',\n",
       "       'J_TOT_DPS_6M_AVBL_AM_RE', 'J_CORE_DPS_1M_AVBL_AM_RE',\n",
       "       'J_CORE_DPS_6M_AVBL_AM_RE', 'J_TOT_DPS_ACC_CNT_RE',\n",
       "       'J_NRML_DPS_ACC_CNT_RE', 'J_TOT_SAVING_ACC_CNT_RE',\n",
       "       'J_NRML_SAVING_ACC_CNT_RE', 'J_TOT_TS_1M_CNT_RE', 'J_TOT_TS_6M_CNT_RE',\n",
       "       'J_TOT_TS_1M_AM_RE', 'J_TOT_TS_6M_AM_RE', 'J_OB_TS_1M_CNT_RE',\n",
       "       'J_OB_TS_6M_CNT_RE', 'J_OB_TS_1M_AM_RE', 'J_OB_TS_6M_AM_RE',\n",
       "       'J_IB_TS_1M_CNT_RE', 'J_IB_TS_6M_CNT_RE', 'J_IB_TS_1M_AM_RE',\n",
       "       'J_IB_TS_6M_AM_RE', 'J_TOT_TS_3M_AVG_CNT_RE', 'J_TOT_TS_6M_AVG_CNT_RE',\n",
       "       'J_TOT_TS_3M_AVG_AM_RE', 'J_TOT_TS_6M_AVG_AM_RE',\n",
       "       'J_OB_TS_3M_AVG_CNT_RE', 'J_OB_TS_6M_AVG_CNT_RE',\n",
       "       'J_OB_TS_3M_AVG_AM_RE', 'J_OB_TS_6M_AVG_AM_RE', 'J_IB_TS_3M_AVG_CNT_RE',\n",
       "       'J_IB_TS_6M_AVG_CNT_RE', 'J_IB_TS_3M_AVG_AM_RE', 'J_IB_TS_6M_AVG_AM_RE',\n",
       "       'OBK_GRCR_AM_RE', 'M6L_OBK_GRCR_AM_RE', 'J_CTM_ASET_TOT_AM_RE',\n",
       "       'J_LBLT_TOT_AM_RE', 'J_TOT_BRW_AM_RE', 'J_CTM_CPTS_TOT_AM_RE',\n",
       "       'J_CTM_SAL_AM_RE', 'J_SAL_PCS_AM_RE', 'J_BZ_PFT_AM_RE',\n",
       "       'J_FNC_COST_AM_RE', 'J_CTM_NPFT_AM_RE', 'J_BZ_AFACT_CSFL_AM_RE',\n",
       "       'J_PFPC_CPMT_AF_CSFL_AM_RE', 'J_EBIT_VAL_NV_RT_RE',\n",
       "       'J_EBITDA_VAL_NV_RT_RE', 'J_LBLT_RT_RE', 'J_FNC_COST_CMP_SALEM_RT_RE',\n",
       "       'J_BRWM_DPIN_RT_RE', 'J_STM_BRWM_DPIN_RT_RE', 'J_SALEM_BZ_PFT_RT_RE',\n",
       "       'P_TOT_DPS_1M_AVBL_AM_RE', 'P_TOT_DPS_6M_AVBL_AM_RE',\n",
       "       'P_CORE_DPS_1M_AVBL_AM_RE', 'P_CORE_DPS_6M_AVBL_AM_RE',\n",
       "       'P_TOT_DPS_ACC_CNT_RE', 'P_NRML_DPS_ACC_CNT_RE',\n",
       "       'P_NRML_SAVING_ACC_CNT_RE', 'P_TOT_SAVING_ACC_CNT_RE',\n",
       "       'P_MAX_TRN_1M_AM_RE', 'P_MAX_TRN_6M_AM_RE', 'P_AVG_TRN_1M_AM_RE',\n",
       "       'P_AVG_TRN_6M_AM_RE', 'P_SUM_TRN_1M_AM_RE', 'P_SUM_TRN_6M_AM_RE',\n",
       "       'P_BR_CNTC_1M_CNT_RE', 'P_BR_CNTC_6M_CNT_RE', 'P_ATM_CNTC_6M_CNT_RE',\n",
       "       'P_INT_CNTC_6M_CNT_RE', 'P_TOT_LON_CNT_RE', 'P_TOT_LON_AGG_AM_RE',\n",
       "       'P_TOT_TS_6M_CNT_RE', 'P_TOT_TS_6M_AM_RE', 'P_OB_TS_6M_CNT_RE',\n",
       "       'P_OB_TS_6M_AM_RE', 'J_SIC_CD_5_RE_1', 'J_SIC_CD_5_RE_2',\n",
       "       'J_SKIL_GDCD_RE_1', 'J_SKIL_GDCD_RE_2', 'J_MAIN_LON_BANK_CD_RE_1',\n",
       "       'J_MAIN_LON_BANK_CD_RE_2', 'P_PRIMARY_CUSTOM_FLG_RE_1',\n",
       "       'P_PRIMARY_CUSTOM_FLG_RE_2', 'P_ACT_CUSTOM_FLG_RE_1',\n",
       "       'P_ACT_CUSTOM_FLG_RE_2', 'P_TOT_LON_FLG_RE_1', 'P_TOT_LON_FLG_RE_2',\n",
       "       'P_INBK_JNNG_FLG_RE_1', 'P_INBK_JNNG_FLG_RE_2', 'P_SMPB_JNNG_FLG_RE_1',\n",
       "       'P_SMPB_JNNG_FLG_RE_2'],\n",
       "      dtype='object')"
      ]
     },
     "execution_count": 6,
     "metadata": {},
     "output_type": "execute_result"
    }
   ],
   "source": [
    "X_trn_over_dummy.columns"
   ]
  },
  {
   "cell_type": "code",
   "execution_count": 8,
   "id": "db0aa499",
   "metadata": {},
   "outputs": [
    {
     "data": {
      "text/plain": [
       "92"
      ]
     },
     "execution_count": 8,
     "metadata": {},
     "output_type": "execute_result"
    }
   ],
   "source": [
    "X_trn_over.shape[1]"
   ]
  },
  {
   "cell_type": "code",
   "execution_count": 9,
   "id": "7332619e",
   "metadata": {},
   "outputs": [
    {
     "data": {
      "text/plain": [
       "100"
      ]
     },
     "execution_count": 9,
     "metadata": {},
     "output_type": "execute_result"
    }
   ],
   "source": [
    "X_trn_over_dummy.shape[1]"
   ]
  },
  {
   "cell_type": "code",
   "execution_count": 10,
   "id": "1baf7df4",
   "metadata": {},
   "outputs": [],
   "source": [
    "from sklearn.metrics import accuracy_score, precision_score, recall_score, roc_auc_score\n",
    "from sklearn.metrics import f1_score, confusion_matrix, precision_recall_curve, roc_curve\n",
    "\n",
    "def get_eval(y_test,pred=None):\n",
    "    confusion=confusion_matrix(y_test,pred)\n",
    "    accuracy=accuracy_score(y_test,pred)\n",
    "    precision=precision_score(y_test,pred)\n",
    "    recall=recall_score(y_test, pred)\n",
    "    f1 = f1_score(y_test,pred)\n",
    "    precision2=precision_score(y_test,pred,pos_label=0)\n",
    "    recall2=recall_score(y_test,pred,pos_label=0)\n",
    "    f1_2=f1_score(y_test,pred,pos_label=0)\n",
    "    print(\"confusion matrix\")\n",
    "    print(confusion)\n",
    "    print('accuracy : {0:.4f} , precision : {1:.4f} , recall : {2:.4f}, F1 score : {3:.4f} \\n precision(0) : {4:.4f} , recall(0) : {5:.4f}, f1(0) : {6:.4f}'.format(accuracy,precision, recall,f1,precision2,recall2,f1_2))"
   ]
  },
  {
   "cell_type": "markdown",
   "id": "ed8531fe",
   "metadata": {},
   "source": [
    "### logistic regression 성능비교"
   ]
  },
  {
   "cell_type": "code",
   "execution_count": 11,
   "id": "b5535e6c",
   "metadata": {},
   "outputs": [
    {
     "name": "stdout",
     "output_type": "stream",
     "text": [
      "confusion matrix\n",
      "[[20862  2889]\n",
      " [   35   121]]\n",
      "accuracy : 0.8777 , precision : 0.0402 , recall : 0.7756, F1 score : 0.0764 \n",
      " precision(0) : 0.9983 , recall(0) : 0.8784, f1(0) : 0.9345\n"
     ]
    }
   ],
   "source": [
    "from sklearn.linear_model import LogisticRegression\n",
    "clf=LogisticRegression(max_iter = 1000)\n",
    "clf.fit(X_trn_over,y_trn_over)\n",
    "pred=clf.predict(X_tes)\n",
    "get_eval(y_tes,pred)"
   ]
  },
  {
   "cell_type": "code",
   "execution_count": 14,
   "id": "6331d8e2",
   "metadata": {},
   "outputs": [
    {
     "name": "stdout",
     "output_type": "stream",
     "text": [
      "confusion matrix\n",
      "[[20862  2889]\n",
      " [   35   121]]\n",
      "accuracy : 0.8777 , precision : 0.0402 , recall : 0.7756, F1 score : 0.0764 \n",
      " precision(0) : 0.9983 , recall(0) : 0.8784, f1(0) : 0.9345\n"
     ]
    }
   ],
   "source": [
    "clf2=LogisticRegression(max_iter=1000)\n",
    "clf2.fit(X_trn_over_dummy,y_trn_over)\n",
    "pred2=clf2.predict(X_tes_dummy)\n",
    "get_eval(y_tes,pred2)"
   ]
  },
  {
   "cell_type": "markdown",
   "id": "64858992",
   "metadata": {},
   "source": [
    "### Naive bayes 성능비교"
   ]
  },
  {
   "cell_type": "code",
   "execution_count": 17,
   "id": "cbe4b567",
   "metadata": {},
   "outputs": [
    {
     "name": "stdout",
     "output_type": "stream",
     "text": [
      "confusion matrix\n",
      "[[19408  4343]\n",
      " [   59    97]]\n",
      "accuracy : 0.8159 , precision : 0.0218 , recall : 0.6218, F1 score : 0.0422 \n",
      " precision(0) : 0.9970 , recall(0) : 0.8171, f1(0) : 0.8981\n"
     ]
    }
   ],
   "source": [
    "from sklearn.naive_bayes import CategoricalNB\n",
    "catNB=CategoricalNB(fit_prior=False)\n",
    "catNB.fit(X_trn_over,y_trn_over)\n",
    "pred3=catNB.predict(X_tes)\n",
    "get_eval(y_tes,pred3)"
   ]
  },
  {
   "cell_type": "code",
   "execution_count": 18,
   "id": "c80a68b0",
   "metadata": {},
   "outputs": [
    {
     "name": "stdout",
     "output_type": "stream",
     "text": [
      "confusion matrix\n",
      "[[19337  4414]\n",
      " [   57    99]]\n",
      "accuracy : 0.8130 , precision : 0.0219 , recall : 0.6346, F1 score : 0.0424 \n",
      " precision(0) : 0.9971 , recall(0) : 0.8142, f1(0) : 0.8964\n"
     ]
    }
   ],
   "source": [
    "catNB2=CategoricalNB(fit_prior=False)\n",
    "catNB2.fit(X_trn_over_dummy,y_trn_over)\n",
    "pred4=catNB2.predict(X_tes_dummy)\n",
    "get_eval(y_tes,pred4)"
   ]
  },
  {
   "cell_type": "markdown",
   "id": "513d5234",
   "metadata": {},
   "source": [
    "### Random Forest 성능비교"
   ]
  },
  {
   "cell_type": "code",
   "execution_count": 19,
   "id": "7349e11a",
   "metadata": {},
   "outputs": [
    {
     "name": "stdout",
     "output_type": "stream",
     "text": [
      "confusion matrix\n",
      "[[23739    12]\n",
      " [   80    76]]\n",
      "accuracy : 0.9962 , precision : 0.8636 , recall : 0.4872, F1 score : 0.6230 \n",
      " precision(0) : 0.9966 , recall(0) : 0.9995, f1(0) : 0.9981\n"
     ]
    }
   ],
   "source": [
    "from sklearn.ensemble import RandomForestClassifier\n",
    "\n",
    "rdf_clf = RandomForestClassifier(random_state=1000)\n",
    "rdf_clf.fit(X_trn_over, y_trn_over)\n",
    "pred5 = rdf_clf.predict(X_tes)\n",
    "get_eval(y_tes,pred5)"
   ]
  },
  {
   "cell_type": "code",
   "execution_count": 20,
   "id": "5ca0e02c",
   "metadata": {},
   "outputs": [
    {
     "name": "stdout",
     "output_type": "stream",
     "text": [
      "confusion matrix\n",
      "[[23738    13]\n",
      " [   81    75]]\n",
      "accuracy : 0.9961 , precision : 0.8523 , recall : 0.4808, F1 score : 0.6148 \n",
      " precision(0) : 0.9966 , recall(0) : 0.9995, f1(0) : 0.9980\n"
     ]
    }
   ],
   "source": [
    "rdf_clf2=RandomForestClassifier(random_state=1000)\n",
    "rdf_clf2.fit(X_trn_over_dummy,y_trn_over)\n",
    "pred6 = rdf_clf2.predict(X_tes_dummy)\n",
    "get_eval(y_tes,pred6)"
   ]
  }
 ],
 "metadata": {
  "kernelspec": {
   "display_name": "Python 3",
   "language": "python",
   "name": "python3"
  },
  "language_info": {
   "codemirror_mode": {
    "name": "ipython",
    "version": 3
   },
   "file_extension": ".py",
   "mimetype": "text/x-python",
   "name": "python",
   "nbconvert_exporter": "python",
   "pygments_lexer": "ipython3",
   "version": "3.8.3"
  }
 },
 "nbformat": 4,
 "nbformat_minor": 5
}
