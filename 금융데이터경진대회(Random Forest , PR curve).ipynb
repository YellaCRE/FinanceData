{
 "cells": [
  {
   "cell_type": "code",
   "execution_count": 2,
   "id": "de13db3a",
   "metadata": {},
   "outputs": [],
   "source": [
    "import pandas as pd\n",
    "import numpy as np\n",
    "\n",
    "data=pd.read_csv(r'C:\\Users\\vmffl\\workspace\\우리은행 데이터경진대회 데이터셋\\우리은행 데이터경진대회 데이터셋.csv',index_col=0)\n",
    "\n",
    "for col_name in data.columns:\n",
    "    data[col_name]=pd.Categorical(data[col_name])\n",
    "\n",
    "from sklearn.model_selection import train_test_split\n",
    "\n",
    "train_data, test_data = train_test_split(data,test_size=0.2, random_state=100)\n",
    "\n",
    "X_trn=train_data.iloc[:,1:]\n",
    "y_trn=train_data['TARGET']\n",
    "X_tes=test_data.iloc[:,1:]\n",
    "y_tes=test_data['TARGET']\n",
    "\n",
    "from imblearn.over_sampling import SMOTEN\n",
    "smoten = SMOTEN(random_state=1000)\n",
    "X_trn_over, y_trn_over = smoten.fit_resample(X_trn,y_trn)\n",
    "\n",
    "from sklearn.metrics import accuracy_score, precision_score, recall_score, roc_auc_score\n",
    "from sklearn.metrics import f1_score, confusion_matrix, roc_curve\n",
    "\n",
    "def get_eval(y_test,pred=None):\n",
    "    confusion=confusion_matrix(y_test,pred)\n",
    "    accuracy=accuracy_score(y_test,pred)\n",
    "    precision=precision_score(y_test,pred)\n",
    "    recall=recall_score(y_test, pred)\n",
    "    f1 = f1_score(y_test,pred)\n",
    "    precision2=precision_score(y_test,pred,pos_label=0)\n",
    "    recall2=recall_score(y_test,pred,pos_label=0)\n",
    "    f1_2=f1_score(y_test,pred,pos_label=0)\n",
    "    print(\"confusion matrix\")\n",
    "    print(confusion)\n",
    "    print('accuracy : {0:.4f} , precision : {1:.4f} , recall : {2:.4f}, F1 score : {3:.4f} \\n precision(0) : {4:.4f} , recall(0) : {5:.4f}, f1(0) : {6:.4f}'.format(accuracy,precision, recall,f1,precision2,recall2,f1_2))\n"
   ]
  },
  {
   "cell_type": "code",
   "execution_count": 3,
   "id": "d0baf114",
   "metadata": {},
   "outputs": [
    {
     "name": "stdout",
     "output_type": "stream",
     "text": [
      "confusion matrix\n",
      "[[23742     9]\n",
      " [   83    73]]\n",
      "accuracy : 0.9962 , precision : 0.8902 , recall : 0.4679, F1 score : 0.6134 \n",
      " precision(0) : 0.9965 , recall(0) : 0.9996, f1(0) : 0.9981\n"
     ]
    }
   ],
   "source": [
    "from sklearn.ensemble import RandomForestClassifier\n",
    "\n",
    "rdf_clf = RandomForestClassifier(random_state=1000)\n",
    "rdf_clf.fit(X_trn, y_trn)\n",
    "pred = rdf_clf.predict(X_tes)\n",
    "get_eval(y_tes,pred)"
   ]
  },
  {
   "cell_type": "code",
   "execution_count": 4,
   "id": "1961e5f5",
   "metadata": {},
   "outputs": [
    {
     "name": "stdout",
     "output_type": "stream",
     "text": [
      "confusion matrix\n",
      "[[23739    12]\n",
      " [   80    76]]\n",
      "accuracy : 0.9962 , precision : 0.8636 , recall : 0.4872, F1 score : 0.6230 \n",
      " precision(0) : 0.9966 , recall(0) : 0.9995, f1(0) : 0.9981\n"
     ]
    }
   ],
   "source": [
    "rdf_clf2 = RandomForestClassifier(random_state=1000)\n",
    "rdf_clf2.fit(X_trn_over, y_trn_over)\n",
    "pred2 = rdf_clf2.predict(X_tes)\n",
    "get_eval(y_tes,pred2)"
   ]
  },
  {
   "cell_type": "code",
   "execution_count": 5,
   "id": "a7946614",
   "metadata": {},
   "outputs": [
    {
     "data": {
      "text/plain": [
       "<sklearn.metrics._plot.precision_recall_curve.PrecisionRecallDisplay at 0x18602847d00>"
      ]
     },
     "execution_count": 5,
     "metadata": {},
     "output_type": "execute_result"
    },
    {
     "data": {
      "image/png": "[encoded data removed]",
      "text/plain": [
       "<Figure size 432x288 with 1 Axes>"
      ]
     },
     "metadata": {
      "needs_background": "light"
     },
     "output_type": "display_data"
    }
   ],
   "source": [
    "from sklearn.metrics import precision_recall_curve\n",
    "from sklearn.metrics import plot_precision_recall_curve\n",
    "import matplotlib.pyplot as plt\n",
    "\n",
    "plot_precision_recall_curve(rdf_clf2, X_tes, y_tes, ax = plt.gca(), name = \"over_RandomForest\")\n",
    "plot_precision_recall_curve(rdf_clf, X_tes, y_tes,ax = plt.gca(),name = \"RandomForest\")"
   ]
  },
  {
   "cell_type": "markdown",
   "id": "a1a15699",
   "metadata": {},
   "source": [
    "### 이전까지 해보았던 Naive Bayes, Logistic Regression에 비해 좋은 성능을 보임. 오버샘플링을 한 데이터와 하지 않은 데이터 간의 성능차이가 거의 없음."
   ]
  }
 ],
 "metadata": {
  "kernelspec": {
   "display_name": "Python 3",
   "language": "python",
   "name": "python3"
  },
  "language_info": {
   "codemirror_mode": {
    "name": "ipython",
    "version": 3
   },
   "file_extension": ".py",
   "mimetype": "text/x-python",
   "name": "python",
   "nbconvert_exporter": "python",
   "pygments_lexer": "ipython3",
   "version": "3.8.3"
  }
 },
 "nbformat": 4,
 "nbformat_minor": 5
}
