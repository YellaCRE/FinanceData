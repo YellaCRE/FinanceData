{
 "cells": [
  {
   "cell_type": "code",
   "execution_count": 26,
   "id": "6c4e88aa",
   "metadata": {},
   "outputs": [
    {
     "data": {
      "text/plain": [
       "(119535, 93)"
      ]
     },
     "execution_count": 26,
     "metadata": {},
     "output_type": "execute_result"
    }
   ],
   "source": [
    "import pandas as pd\n",
    "import numpy as np\n",
    "from sklearn.linear_model import LogisticRegression\n",
    "\n",
    "data=pd.read_csv(r'C:\\Users\\vmffl\\workspace\\우리은행 데이터경진대회 데이터셋\\우리은행 데이터경진대회 데이터셋.csv',index_col=0)\n",
    "data.shape\n"
   ]
  },
  {
   "cell_type": "code",
   "execution_count": 15,
   "id": "a91ec432",
   "metadata": {},
   "outputs": [
    {
     "data": {
      "text/html": [
       "<div>\n",
       "<style scoped>\n",
       "    .dataframe tbody tr th:only-of-type {\n",
       "        vertical-align: middle;\n",
       "    }\n",
       "\n",
       "    .dataframe tbody tr th {\n",
       "        vertical-align: top;\n",
       "    }\n",
       "\n",
       "    .dataframe thead th {\n",
       "        text-align: right;\n",
       "    }\n",
       "</style>\n",
       "<table border=\"1\" class=\"dataframe\">\n",
       "  <thead>\n",
       "    <tr style=\"text-align: right;\">\n",
       "      <th></th>\n",
       "      <th>TARGET</th>\n",
       "      <th>J_F1_LON_RK_3M_CNT_RE</th>\n",
       "      <th>J_F1_OTHER_LON_6M_AVBL_AM_RE</th>\n",
       "      <th>J_F1_OTHER_LON_MAX_3M_AM_RE</th>\n",
       "      <th>J_SHINBO_GIBO_AM_RE</th>\n",
       "      <th>J_TOT_LON_CNT_RE</th>\n",
       "      <th>J_TOT_LON_AGG_AM_RE</th>\n",
       "      <th>J_TOT_LON_MAX_AM_RE</th>\n",
       "      <th>J_DPS_CT_BAL_AM_RE</th>\n",
       "      <th>J_TOT_DPS_1M_AVBL_AM_RE</th>\n",
       "      <th>...</th>\n",
       "      <th>P_BR_CNTC_1M_CNT_RE</th>\n",
       "      <th>P_BR_CNTC_6M_CNT_RE</th>\n",
       "      <th>P_ATM_CNTC_6M_CNT_RE</th>\n",
       "      <th>P_INT_CNTC_6M_CNT_RE</th>\n",
       "      <th>P_TOT_LON_CNT_RE</th>\n",
       "      <th>P_TOT_LON_AGG_AM_RE</th>\n",
       "      <th>P_TOT_TS_6M_CNT_RE</th>\n",
       "      <th>P_TOT_TS_6M_AM_RE</th>\n",
       "      <th>P_OB_TS_6M_CNT_RE</th>\n",
       "      <th>P_OB_TS_6M_AM_RE</th>\n",
       "    </tr>\n",
       "  </thead>\n",
       "  <tbody>\n",
       "    <tr>\n",
       "      <th>1</th>\n",
       "      <td>0</td>\n",
       "      <td>2</td>\n",
       "      <td>3</td>\n",
       "      <td>4</td>\n",
       "      <td>1</td>\n",
       "      <td>2</td>\n",
       "      <td>3</td>\n",
       "      <td>3</td>\n",
       "      <td>1</td>\n",
       "      <td>1</td>\n",
       "      <td>...</td>\n",
       "      <td>1</td>\n",
       "      <td>1</td>\n",
       "      <td>1</td>\n",
       "      <td>1</td>\n",
       "      <td>1</td>\n",
       "      <td>1</td>\n",
       "      <td>1</td>\n",
       "      <td>1</td>\n",
       "      <td>1</td>\n",
       "      <td>1</td>\n",
       "    </tr>\n",
       "    <tr>\n",
       "      <th>2</th>\n",
       "      <td>0</td>\n",
       "      <td>1</td>\n",
       "      <td>2</td>\n",
       "      <td>3</td>\n",
       "      <td>1</td>\n",
       "      <td>1</td>\n",
       "      <td>1</td>\n",
       "      <td>1</td>\n",
       "      <td>3</td>\n",
       "      <td>3</td>\n",
       "      <td>...</td>\n",
       "      <td>1</td>\n",
       "      <td>3</td>\n",
       "      <td>3</td>\n",
       "      <td>1</td>\n",
       "      <td>1</td>\n",
       "      <td>1</td>\n",
       "      <td>3</td>\n",
       "      <td>3</td>\n",
       "      <td>3</td>\n",
       "      <td>3</td>\n",
       "    </tr>\n",
       "    <tr>\n",
       "      <th>3</th>\n",
       "      <td>0</td>\n",
       "      <td>2</td>\n",
       "      <td>3</td>\n",
       "      <td>4</td>\n",
       "      <td>1</td>\n",
       "      <td>1</td>\n",
       "      <td>1</td>\n",
       "      <td>1</td>\n",
       "      <td>1</td>\n",
       "      <td>1</td>\n",
       "      <td>...</td>\n",
       "      <td>1</td>\n",
       "      <td>1</td>\n",
       "      <td>1</td>\n",
       "      <td>1</td>\n",
       "      <td>1</td>\n",
       "      <td>1</td>\n",
       "      <td>1</td>\n",
       "      <td>1</td>\n",
       "      <td>1</td>\n",
       "      <td>1</td>\n",
       "    </tr>\n",
       "    <tr>\n",
       "      <th>4</th>\n",
       "      <td>0</td>\n",
       "      <td>3</td>\n",
       "      <td>3</td>\n",
       "      <td>4</td>\n",
       "      <td>1</td>\n",
       "      <td>4</td>\n",
       "      <td>4</td>\n",
       "      <td>4</td>\n",
       "      <td>1</td>\n",
       "      <td>1</td>\n",
       "      <td>...</td>\n",
       "      <td>3</td>\n",
       "      <td>3</td>\n",
       "      <td>3</td>\n",
       "      <td>1</td>\n",
       "      <td>3</td>\n",
       "      <td>3</td>\n",
       "      <td>1</td>\n",
       "      <td>1</td>\n",
       "      <td>1</td>\n",
       "      <td>1</td>\n",
       "    </tr>\n",
       "    <tr>\n",
       "      <th>5</th>\n",
       "      <td>0</td>\n",
       "      <td>3</td>\n",
       "      <td>3</td>\n",
       "      <td>4</td>\n",
       "      <td>1</td>\n",
       "      <td>1</td>\n",
       "      <td>1</td>\n",
       "      <td>1</td>\n",
       "      <td>1</td>\n",
       "      <td>1</td>\n",
       "      <td>...</td>\n",
       "      <td>1</td>\n",
       "      <td>1</td>\n",
       "      <td>1</td>\n",
       "      <td>1</td>\n",
       "      <td>1</td>\n",
       "      <td>1</td>\n",
       "      <td>1</td>\n",
       "      <td>1</td>\n",
       "      <td>1</td>\n",
       "      <td>1</td>\n",
       "    </tr>\n",
       "  </tbody>\n",
       "</table>\n",
       "<p>5 rows × 93 columns</p>\n",
       "</div>"
      ],
      "text/plain": [
       "   TARGET  J_F1_LON_RK_3M_CNT_RE  J_F1_OTHER_LON_6M_AVBL_AM_RE  \\\n",
       "1       0                      2                             3   \n",
       "2       0                      1                             2   \n",
       "3       0                      2                             3   \n",
       "4       0                      3                             3   \n",
       "5       0                      3                             3   \n",
       "\n",
       "   J_F1_OTHER_LON_MAX_3M_AM_RE  J_SHINBO_GIBO_AM_RE  J_TOT_LON_CNT_RE  \\\n",
       "1                            4                    1                 2   \n",
       "2                            3                    1                 1   \n",
       "3                            4                    1                 1   \n",
       "4                            4                    1                 4   \n",
       "5                            4                    1                 1   \n",
       "\n",
       "   J_TOT_LON_AGG_AM_RE  J_TOT_LON_MAX_AM_RE  J_DPS_CT_BAL_AM_RE  \\\n",
       "1                    3                    3                   1   \n",
       "2                    1                    1                   3   \n",
       "3                    1                    1                   1   \n",
       "4                    4                    4                   1   \n",
       "5                    1                    1                   1   \n",
       "\n",
       "   J_TOT_DPS_1M_AVBL_AM_RE  ...  P_BR_CNTC_1M_CNT_RE  P_BR_CNTC_6M_CNT_RE  \\\n",
       "1                        1  ...                    1                    1   \n",
       "2                        3  ...                    1                    3   \n",
       "3                        1  ...                    1                    1   \n",
       "4                        1  ...                    3                    3   \n",
       "5                        1  ...                    1                    1   \n",
       "\n",
       "   P_ATM_CNTC_6M_CNT_RE  P_INT_CNTC_6M_CNT_RE  P_TOT_LON_CNT_RE  \\\n",
       "1                     1                     1                 1   \n",
       "2                     3                     1                 1   \n",
       "3                     1                     1                 1   \n",
       "4                     3                     1                 3   \n",
       "5                     1                     1                 1   \n",
       "\n",
       "   P_TOT_LON_AGG_AM_RE  P_TOT_TS_6M_CNT_RE  P_TOT_TS_6M_AM_RE  \\\n",
       "1                    1                   1                  1   \n",
       "2                    1                   3                  3   \n",
       "3                    1                   1                  1   \n",
       "4                    3                   1                  1   \n",
       "5                    1                   1                  1   \n",
       "\n",
       "   P_OB_TS_6M_CNT_RE  P_OB_TS_6M_AM_RE  \n",
       "1                  1                 1  \n",
       "2                  3                 3  \n",
       "3                  1                 1  \n",
       "4                  1                 1  \n",
       "5                  1                 1  \n",
       "\n",
       "[5 rows x 93 columns]"
      ]
     },
     "execution_count": 15,
     "metadata": {},
     "output_type": "execute_result"
    }
   ],
   "source": [
    "data.head()"
   ]
  },
  {
   "cell_type": "code",
   "execution_count": 8,
   "id": "08e3b419",
   "metadata": {},
   "outputs": [
    {
     "name": "stdout",
     "output_type": "stream",
     "text": [
      "<class 'pandas.core.frame.DataFrame'>\n",
      "Int64Index: 119535 entries, 1 to 119535\n",
      "Data columns (total 93 columns):\n",
      " #   Column                        Non-Null Count   Dtype\n",
      "---  ------                        --------------   -----\n",
      " 0   TARGET                        119535 non-null  int64\n",
      " 1   J_F1_LON_RK_3M_CNT_RE         119535 non-null  int64\n",
      " 2   J_F1_OTHER_LON_6M_AVBL_AM_RE  119535 non-null  int64\n",
      " 3   J_F1_OTHER_LON_MAX_3M_AM_RE   119535 non-null  int64\n",
      " 4   J_SHINBO_GIBO_AM_RE           119535 non-null  int64\n",
      " 5   J_TOT_LON_CNT_RE              119535 non-null  int64\n",
      " 6   J_TOT_LON_AGG_AM_RE           119535 non-null  int64\n",
      " 7   J_TOT_LON_MAX_AM_RE           119535 non-null  int64\n",
      " 8   J_DPS_CT_BAL_AM_RE            119535 non-null  int64\n",
      " 9   J_TOT_DPS_1M_AVBL_AM_RE       119535 non-null  int64\n",
      " 10  J_TOT_DPS_6M_AVBL_AM_RE       119535 non-null  int64\n",
      " 11  J_CORE_DPS_1M_AVBL_AM_RE      119535 non-null  int64\n",
      " 12  J_CORE_DPS_6M_AVBL_AM_RE      119535 non-null  int64\n",
      " 13  J_TOT_DPS_ACC_CNT_RE          119535 non-null  int64\n",
      " 14  J_NRML_DPS_ACC_CNT_RE         119535 non-null  int64\n",
      " 15  J_TOT_SAVING_ACC_CNT_RE       119535 non-null  int64\n",
      " 16  J_NRML_SAVING_ACC_CNT_RE      119535 non-null  int64\n",
      " 17  J_TOT_TS_1M_CNT_RE            119535 non-null  int64\n",
      " 18  J_TOT_TS_6M_CNT_RE            119535 non-null  int64\n",
      " 19  J_TOT_TS_1M_AM_RE             119535 non-null  int64\n",
      " 20  J_TOT_TS_6M_AM_RE             119535 non-null  int64\n",
      " 21  J_OB_TS_1M_CNT_RE             119535 non-null  int64\n",
      " 22  J_OB_TS_6M_CNT_RE             119535 non-null  int64\n",
      " 23  J_OB_TS_1M_AM_RE              119535 non-null  int64\n",
      " 24  J_OB_TS_6M_AM_RE              119535 non-null  int64\n",
      " 25  J_IB_TS_1M_CNT_RE             119535 non-null  int64\n",
      " 26  J_IB_TS_6M_CNT_RE             119535 non-null  int64\n",
      " 27  J_IB_TS_1M_AM_RE              119535 non-null  int64\n",
      " 28  J_IB_TS_6M_AM_RE              119535 non-null  int64\n",
      " 29  J_TOT_TS_3M_AVG_CNT_RE        119535 non-null  int64\n",
      " 30  J_TOT_TS_6M_AVG_CNT_RE        119535 non-null  int64\n",
      " 31  J_TOT_TS_3M_AVG_AM_RE         119535 non-null  int64\n",
      " 32  J_TOT_TS_6M_AVG_AM_RE         119535 non-null  int64\n",
      " 33  J_OB_TS_3M_AVG_CNT_RE         119535 non-null  int64\n",
      " 34  J_OB_TS_6M_AVG_CNT_RE         119535 non-null  int64\n",
      " 35  J_OB_TS_3M_AVG_AM_RE          119535 non-null  int64\n",
      " 36  J_OB_TS_6M_AVG_AM_RE          119535 non-null  int64\n",
      " 37  J_IB_TS_3M_AVG_CNT_RE         119535 non-null  int64\n",
      " 38  J_IB_TS_6M_AVG_CNT_RE         119535 non-null  int64\n",
      " 39  J_IB_TS_3M_AVG_AM_RE          119535 non-null  int64\n",
      " 40  J_IB_TS_6M_AVG_AM_RE          119535 non-null  int64\n",
      " 41  OBK_GRCR_AM_RE                119535 non-null  int64\n",
      " 42  M6L_OBK_GRCR_AM_RE            119535 non-null  int64\n",
      " 43  J_SIC_CD_5_RE                 119535 non-null  int64\n",
      " 44  J_SKIL_GDCD_RE                119535 non-null  int64\n",
      " 45  J_MAIN_LON_BANK_CD_RE         119535 non-null  int64\n",
      " 46  J_CTM_ASET_TOT_AM_RE          119535 non-null  int64\n",
      " 47  J_LBLT_TOT_AM_RE              119535 non-null  int64\n",
      " 48  J_TOT_BRW_AM_RE               119535 non-null  int64\n",
      " 49  J_CTM_CPTS_TOT_AM_RE          119535 non-null  int64\n",
      " 50  J_CTM_SAL_AM_RE               119535 non-null  int64\n",
      " 51  J_SAL_PCS_AM_RE               119535 non-null  int64\n",
      " 52  J_BZ_PFT_AM_RE                119535 non-null  int64\n",
      " 53  J_FNC_COST_AM_RE              119535 non-null  int64\n",
      " 54  J_CTM_NPFT_AM_RE              119535 non-null  int64\n",
      " 55  J_BZ_AFACT_CSFL_AM_RE         119535 non-null  int64\n",
      " 56  J_PFPC_CPMT_AF_CSFL_AM_RE     119535 non-null  int64\n",
      " 57  J_EBIT_VAL_NV_RT_RE           119535 non-null  int64\n",
      " 58  J_EBITDA_VAL_NV_RT_RE         119535 non-null  int64\n",
      " 59  J_LBLT_RT_RE                  119535 non-null  int64\n",
      " 60  J_FNC_COST_CMP_SALEM_RT_RE    119535 non-null  int64\n",
      " 61  J_BRWM_DPIN_RT_RE             119535 non-null  int64\n",
      " 62  J_STM_BRWM_DPIN_RT_RE         119535 non-null  int64\n",
      " 63  J_SALEM_BZ_PFT_RT_RE          119535 non-null  int64\n",
      " 64  P_PRIMARY_CUSTOM_FLG_RE       119535 non-null  int64\n",
      " 65  P_ACT_CUSTOM_FLG_RE           119535 non-null  int64\n",
      " 66  P_TOT_LON_FLG_RE              119535 non-null  int64\n",
      " 67  P_INBK_JNNG_FLG_RE            119535 non-null  int64\n",
      " 68  P_SMPB_JNNG_FLG_RE            119535 non-null  int64\n",
      " 69  P_TOT_DPS_1M_AVBL_AM_RE       119535 non-null  int64\n",
      " 70  P_TOT_DPS_6M_AVBL_AM_RE       119535 non-null  int64\n",
      " 71  P_CORE_DPS_1M_AVBL_AM_RE      119535 non-null  int64\n",
      " 72  P_CORE_DPS_6M_AVBL_AM_RE      119535 non-null  int64\n",
      " 73  P_TOT_DPS_ACC_CNT_RE          119535 non-null  int64\n",
      " 74  P_NRML_DPS_ACC_CNT_RE         119535 non-null  int64\n",
      " 75  P_NRML_SAVING_ACC_CNT_RE      119535 non-null  int64\n",
      " 76  P_TOT_SAVING_ACC_CNT_RE       119535 non-null  int64\n",
      " 77  P_MAX_TRN_1M_AM_RE            119535 non-null  int64\n",
      " 78  P_MAX_TRN_6M_AM_RE            119535 non-null  int64\n",
      " 79  P_AVG_TRN_1M_AM_RE            119535 non-null  int64\n",
      " 80  P_AVG_TRN_6M_AM_RE            119535 non-null  int64\n",
      " 81  P_SUM_TRN_1M_AM_RE            119535 non-null  int64\n",
      " 82  P_SUM_TRN_6M_AM_RE            119535 non-null  int64\n",
      " 83  P_BR_CNTC_1M_CNT_RE           119535 non-null  int64\n",
      " 84  P_BR_CNTC_6M_CNT_RE           119535 non-null  int64\n",
      " 85  P_ATM_CNTC_6M_CNT_RE          119535 non-null  int64\n",
      " 86  P_INT_CNTC_6M_CNT_RE          119535 non-null  int64\n",
      " 87  P_TOT_LON_CNT_RE              119535 non-null  int64\n",
      " 88  P_TOT_LON_AGG_AM_RE           119535 non-null  int64\n",
      " 89  P_TOT_TS_6M_CNT_RE            119535 non-null  int64\n",
      " 90  P_TOT_TS_6M_AM_RE             119535 non-null  int64\n",
      " 91  P_OB_TS_6M_CNT_RE             119535 non-null  int64\n",
      " 92  P_OB_TS_6M_AM_RE              119535 non-null  int64\n",
      "dtypes: int64(93)\n",
      "memory usage: 85.7 MB\n"
     ]
    }
   ],
   "source": [
    "data.info()"
   ]
  },
  {
   "cell_type": "markdown",
   "id": "348c114b",
   "metadata": {},
   "source": [
    "INT 자료형을 CATEGORICAL 자료형으로 변환. 서열척도라고 판단해서 원핫코딩 및 더미코딩을 진행하지 않았음"
   ]
  },
  {
   "cell_type": "code",
   "execution_count": 35,
   "id": "cc8a6c2d",
   "metadata": {},
   "outputs": [],
   "source": [
    "for col_name in data.columns:\n",
    "    data[col_name]=pd.Categorical(data[col_name])"
   ]
  },
  {
   "cell_type": "code",
   "execution_count": 36,
   "id": "f515f284",
   "metadata": {},
   "outputs": [
    {
     "name": "stdout",
     "output_type": "stream",
     "text": [
      "<class 'pandas.core.frame.DataFrame'>\n",
      "Int64Index: 119535 entries, 1 to 119535\n",
      "Data columns (total 93 columns):\n",
      " #   Column                        Non-Null Count   Dtype   \n",
      "---  ------                        --------------   -----   \n",
      " 0   TARGET                        119535 non-null  category\n",
      " 1   J_F1_LON_RK_3M_CNT_RE         119535 non-null  category\n",
      " 2   J_F1_OTHER_LON_6M_AVBL_AM_RE  119535 non-null  category\n",
      " 3   J_F1_OTHER_LON_MAX_3M_AM_RE   119535 non-null  category\n",
      " 4   J_SHINBO_GIBO_AM_RE           119535 non-null  category\n",
      " 5   J_TOT_LON_CNT_RE              119535 non-null  category\n",
      " 6   J_TOT_LON_AGG_AM_RE           119535 non-null  category\n",
      " 7   J_TOT_LON_MAX_AM_RE           119535 non-null  category\n",
      " 8   J_DPS_CT_BAL_AM_RE            119535 non-null  category\n",
      " 9   J_TOT_DPS_1M_AVBL_AM_RE       119535 non-null  category\n",
      " 10  J_TOT_DPS_6M_AVBL_AM_RE       119535 non-null  category\n",
      " 11  J_CORE_DPS_1M_AVBL_AM_RE      119535 non-null  category\n",
      " 12  J_CORE_DPS_6M_AVBL_AM_RE      119535 non-null  category\n",
      " 13  J_TOT_DPS_ACC_CNT_RE          119535 non-null  category\n",
      " 14  J_NRML_DPS_ACC_CNT_RE         119535 non-null  category\n",
      " 15  J_TOT_SAVING_ACC_CNT_RE       119535 non-null  category\n",
      " 16  J_NRML_SAVING_ACC_CNT_RE      119535 non-null  category\n",
      " 17  J_TOT_TS_1M_CNT_RE            119535 non-null  category\n",
      " 18  J_TOT_TS_6M_CNT_RE            119535 non-null  category\n",
      " 19  J_TOT_TS_1M_AM_RE             119535 non-null  category\n",
      " 20  J_TOT_TS_6M_AM_RE             119535 non-null  category\n",
      " 21  J_OB_TS_1M_CNT_RE             119535 non-null  category\n",
      " 22  J_OB_TS_6M_CNT_RE             119535 non-null  category\n",
      " 23  J_OB_TS_1M_AM_RE              119535 non-null  category\n",
      " 24  J_OB_TS_6M_AM_RE              119535 non-null  category\n",
      " 25  J_IB_TS_1M_CNT_RE             119535 non-null  category\n",
      " 26  J_IB_TS_6M_CNT_RE             119535 non-null  category\n",
      " 27  J_IB_TS_1M_AM_RE              119535 non-null  category\n",
      " 28  J_IB_TS_6M_AM_RE              119535 non-null  category\n",
      " 29  J_TOT_TS_3M_AVG_CNT_RE        119535 non-null  category\n",
      " 30  J_TOT_TS_6M_AVG_CNT_RE        119535 non-null  category\n",
      " 31  J_TOT_TS_3M_AVG_AM_RE         119535 non-null  category\n",
      " 32  J_TOT_TS_6M_AVG_AM_RE         119535 non-null  category\n",
      " 33  J_OB_TS_3M_AVG_CNT_RE         119535 non-null  category\n",
      " 34  J_OB_TS_6M_AVG_CNT_RE         119535 non-null  category\n",
      " 35  J_OB_TS_3M_AVG_AM_RE          119535 non-null  category\n",
      " 36  J_OB_TS_6M_AVG_AM_RE          119535 non-null  category\n",
      " 37  J_IB_TS_3M_AVG_CNT_RE         119535 non-null  category\n",
      " 38  J_IB_TS_6M_AVG_CNT_RE         119535 non-null  category\n",
      " 39  J_IB_TS_3M_AVG_AM_RE          119535 non-null  category\n",
      " 40  J_IB_TS_6M_AVG_AM_RE          119535 non-null  category\n",
      " 41  OBK_GRCR_AM_RE                119535 non-null  category\n",
      " 42  M6L_OBK_GRCR_AM_RE            119535 non-null  category\n",
      " 43  J_SIC_CD_5_RE                 119535 non-null  category\n",
      " 44  J_SKIL_GDCD_RE                119535 non-null  category\n",
      " 45  J_MAIN_LON_BANK_CD_RE         119535 non-null  category\n",
      " 46  J_CTM_ASET_TOT_AM_RE          119535 non-null  category\n",
      " 47  J_LBLT_TOT_AM_RE              119535 non-null  category\n",
      " 48  J_TOT_BRW_AM_RE               119535 non-null  category\n",
      " 49  J_CTM_CPTS_TOT_AM_RE          119535 non-null  category\n",
      " 50  J_CTM_SAL_AM_RE               119535 non-null  category\n",
      " 51  J_SAL_PCS_AM_RE               119535 non-null  category\n",
      " 52  J_BZ_PFT_AM_RE                119535 non-null  category\n",
      " 53  J_FNC_COST_AM_RE              119535 non-null  category\n",
      " 54  J_CTM_NPFT_AM_RE              119535 non-null  category\n",
      " 55  J_BZ_AFACT_CSFL_AM_RE         119535 non-null  category\n",
      " 56  J_PFPC_CPMT_AF_CSFL_AM_RE     119535 non-null  category\n",
      " 57  J_EBIT_VAL_NV_RT_RE           119535 non-null  category\n",
      " 58  J_EBITDA_VAL_NV_RT_RE         119535 non-null  category\n",
      " 59  J_LBLT_RT_RE                  119535 non-null  category\n",
      " 60  J_FNC_COST_CMP_SALEM_RT_RE    119535 non-null  category\n",
      " 61  J_BRWM_DPIN_RT_RE             119535 non-null  category\n",
      " 62  J_STM_BRWM_DPIN_RT_RE         119535 non-null  category\n",
      " 63  J_SALEM_BZ_PFT_RT_RE          119535 non-null  category\n",
      " 64  P_PRIMARY_CUSTOM_FLG_RE       119535 non-null  category\n",
      " 65  P_ACT_CUSTOM_FLG_RE           119535 non-null  category\n",
      " 66  P_TOT_LON_FLG_RE              119535 non-null  category\n",
      " 67  P_INBK_JNNG_FLG_RE            119535 non-null  category\n",
      " 68  P_SMPB_JNNG_FLG_RE            119535 non-null  category\n",
      " 69  P_TOT_DPS_1M_AVBL_AM_RE       119535 non-null  category\n",
      " 70  P_TOT_DPS_6M_AVBL_AM_RE       119535 non-null  category\n",
      " 71  P_CORE_DPS_1M_AVBL_AM_RE      119535 non-null  category\n",
      " 72  P_CORE_DPS_6M_AVBL_AM_RE      119535 non-null  category\n",
      " 73  P_TOT_DPS_ACC_CNT_RE          119535 non-null  category\n",
      " 74  P_NRML_DPS_ACC_CNT_RE         119535 non-null  category\n",
      " 75  P_NRML_SAVING_ACC_CNT_RE      119535 non-null  category\n",
      " 76  P_TOT_SAVING_ACC_CNT_RE       119535 non-null  category\n",
      " 77  P_MAX_TRN_1M_AM_RE            119535 non-null  category\n",
      " 78  P_MAX_TRN_6M_AM_RE            119535 non-null  category\n",
      " 79  P_AVG_TRN_1M_AM_RE            119535 non-null  category\n",
      " 80  P_AVG_TRN_6M_AM_RE            119535 non-null  category\n",
      " 81  P_SUM_TRN_1M_AM_RE            119535 non-null  category\n",
      " 82  P_SUM_TRN_6M_AM_RE            119535 non-null  category\n",
      " 83  P_BR_CNTC_1M_CNT_RE           119535 non-null  category\n",
      " 84  P_BR_CNTC_6M_CNT_RE           119535 non-null  category\n",
      " 85  P_ATM_CNTC_6M_CNT_RE          119535 non-null  category\n",
      " 86  P_INT_CNTC_6M_CNT_RE          119535 non-null  category\n",
      " 87  P_TOT_LON_CNT_RE              119535 non-null  category\n",
      " 88  P_TOT_LON_AGG_AM_RE           119535 non-null  category\n",
      " 89  P_TOT_TS_6M_CNT_RE            119535 non-null  category\n",
      " 90  P_TOT_TS_6M_AM_RE             119535 non-null  category\n",
      " 91  P_OB_TS_6M_CNT_RE             119535 non-null  category\n",
      " 92  P_OB_TS_6M_AM_RE              119535 non-null  category\n",
      "dtypes: category(93)\n",
      "memory usage: 11.5 MB\n"
     ]
    }
   ],
   "source": [
    "data.info()"
   ]
  },
  {
   "cell_type": "markdown",
   "id": "b5ef8e10",
   "metadata": {},
   "source": [
    "타겟 변수에 1 비율이 매우 낮음. 데이터의 불균형이 심각함."
   ]
  },
  {
   "cell_type": "code",
   "execution_count": 40,
   "id": "ba401dd5",
   "metadata": {},
   "outputs": [
    {
     "data": {
      "text/plain": [
       "0    118720\n",
       "1       815\n",
       "Name: TARGET, dtype: int64"
      ]
     },
     "execution_count": 40,
     "metadata": {},
     "output_type": "execute_result"
    }
   ],
   "source": [
    "data['TARGET'].value_counts()"
   ]
  },
  {
   "cell_type": "code",
   "execution_count": 44,
   "id": "036dee3e",
   "metadata": {},
   "outputs": [
    {
     "data": {
      "text/plain": [
       "0    0.993182\n",
       "1    0.006818\n",
       "Name: TARGET, dtype: float64"
      ]
     },
     "execution_count": 44,
     "metadata": {},
     "output_type": "execute_result"
    }
   ],
   "source": [
    "data['TARGET'].value_counts(normalize = True)"
   ]
  },
  {
   "cell_type": "code",
   "execution_count": 43,
   "id": "0cd3500e",
   "metadata": {},
   "outputs": [
    {
     "data": {
      "text/plain": [
       "<AxesSubplot:>"
      ]
     },
     "execution_count": 43,
     "metadata": {},
     "output_type": "execute_result"
    },
    {
     "data": {
      "image/png": "[encoded data removed]",
      "text/plain": [
       "<Figure size 432x288 with 1 Axes>"
      ]
     },
     "metadata": {
      "needs_background": "light"
     },
     "output_type": "display_data"
    }
   ],
   "source": [
    "data['TARGET'].value_counts(normalize=True).plot(kind='bar')"
   ]
  },
  {
   "cell_type": "code",
   "execution_count": 47,
   "id": "0bec7662",
   "metadata": {},
   "outputs": [
    {
     "name": "stdout",
     "output_type": "stream",
     "text": [
      "(95628, 93)\n",
      "(23907, 93)\n"
     ]
    }
   ],
   "source": [
    "from sklearn.model_selection import train_test_split\n",
    "\n",
    "train_data, test_data = train_test_split(data,test_size=0.2, random_state=100)\n",
    "print(train_data.shape)\n",
    "print(test_data.shape)"
   ]
  },
  {
   "cell_type": "code",
   "execution_count": 52,
   "id": "6a5b079b",
   "metadata": {},
   "outputs": [
    {
     "data": {
      "text/plain": [
       "0    94969\n",
       "1      659\n",
       "Name: TARGET, dtype: int64"
      ]
     },
     "execution_count": 52,
     "metadata": {},
     "output_type": "execute_result"
    }
   ],
   "source": [
    "train_data['TARGET'].value_counts()"
   ]
  },
  {
   "cell_type": "code",
   "execution_count": 53,
   "id": "1681e7e8",
   "metadata": {},
   "outputs": [
    {
     "data": {
      "text/plain": [
       "0    23751\n",
       "1      156\n",
       "Name: TARGET, dtype: int64"
      ]
     },
     "execution_count": 53,
     "metadata": {},
     "output_type": "execute_result"
    }
   ],
   "source": [
    "test_data['TARGET'].value_counts()"
   ]
  },
  {
   "cell_type": "code",
   "execution_count": 54,
   "id": "048f69b6",
   "metadata": {},
   "outputs": [
    {
     "name": "stdout",
     "output_type": "stream",
     "text": [
      "0    99.310871\n",
      "1     0.689129\n",
      "Name: TARGET, dtype: float64\n"
     ]
    }
   ],
   "source": [
    "print(train_data['TARGET'].value_counts()/train_data['TARGET'].shape[0]*100)"
   ]
  },
  {
   "cell_type": "code",
   "execution_count": 55,
   "id": "881082f5",
   "metadata": {},
   "outputs": [
    {
     "name": "stdout",
     "output_type": "stream",
     "text": [
      "0    99.347471\n",
      "1     0.652529\n",
      "Name: TARGET, dtype: float64\n"
     ]
    }
   ],
   "source": [
    "print(test_data['TARGET'].value_counts()/test_data['TARGET'].shape[0]*100)"
   ]
  },
  {
   "cell_type": "code",
   "execution_count": 73,
   "id": "604735e6",
   "metadata": {},
   "outputs": [],
   "source": [
    "X_trn=train_data.iloc[:,2:]\n",
    "y_trn=train_data['TARGET']\n",
    "X_tes=test_data.iloc[:,2:]\n",
    "y_tes=test_data['TARGET']"
   ]
  },
  {
   "cell_type": "markdown",
   "id": "b4482ea3",
   "metadata": {},
   "source": [
    "SMOTEN 을 이용해서 TRAINING DATA를 오버샘플링"
   ]
  },
  {
   "cell_type": "code",
   "execution_count": 68,
   "id": "aded0f9a",
   "metadata": {},
   "outputs": [],
   "source": [
    "from imblearn.over_sampling import SMOTEN\n",
    "smoten = SMOTEN()\n",
    "X_trn_over, y_trn_over = smoten.fit_resample(X_trn,y_trn)"
   ]
  },
  {
   "cell_type": "markdown",
   "id": "ff90e712",
   "metadata": {},
   "source": [
    "0과 1의 갯수가 같아진 것을 확인할 수 있다."
   ]
  },
  {
   "cell_type": "code",
   "execution_count": 70,
   "id": "0c18035f",
   "metadata": {},
   "outputs": [
    {
     "data": {
      "text/plain": [
       "0    94969\n",
       "1    94969\n",
       "Name: TARGET, dtype: int64"
      ]
     },
     "execution_count": 70,
     "metadata": {},
     "output_type": "execute_result"
    }
   ],
   "source": [
    "y_trn_over.value_counts()"
   ]
  },
  {
   "cell_type": "code",
   "execution_count": 72,
   "id": "aa0f9b01",
   "metadata": {},
   "outputs": [
    {
     "data": {
      "text/plain": [
       "(189938, 91)"
      ]
     },
     "execution_count": 72,
     "metadata": {},
     "output_type": "execute_result"
    }
   ],
   "source": [
    "X_trn_over.shape"
   ]
  },
  {
   "cell_type": "code",
   "execution_count": 89,
   "id": "1a37d6dd",
   "metadata": {},
   "outputs": [],
   "source": [
    "from sklearn.metrics import accuracy_score, precision_score, recall_score, roc_auc_score\n",
    "from sklearn.metrics import f1_score, confusion_matrix, precision_recall_curve, roc_curve\n",
    "from sklearn.linear_model import LogisticRegression\n",
    "\n",
    "def get_eval(y_test,pred=None):\n",
    "    confusion=confusion_matrix(y_test,pred)\n",
    "    accuracy=accuracy_score(y_test,pred)\n",
    "    precision=precision_score(y_test,pred)\n",
    "    recall=recall_score(y_test, pred)\n",
    "    f1 = f1_score(y_test,pred)\n",
    "    precision2=precision_score(y_test,pred,pos_label=0)\n",
    "    recall2=recall_score(y_test,pred,pos_label=0)\n",
    "    f1_2=f1_score(y_test,pred,pos_label=0)\n",
    "    print(\"confusion matrix\")\n",
    "    print(confusion)\n",
    "    print('accuracy : {0:.4f} , precision : {1:.4f} , recall : {2:.4f}, F1 score : {3:.4f} \\n precision(0) : {4:.4f} , recall(0) : {5:.4f}, f1(0) : {6:.4f}'.format(accuracy,precision, recall,f1,precision2,recall2,f1_2))\n",
    "\n"
   ]
  },
  {
   "cell_type": "markdown",
   "id": "d8bfe8fd",
   "metadata": {},
   "source": [
    "비율이 현저히 적은 0 에 대해선 아주 낮은 PRECISION과 RECALL을 보여줌.  데이터의 불균형에 의한 문제. \n",
    "문제는 SMOTEN을 이용해 오버샘플링한 TRAINING DATA로 학습시킨 모델도 갖은 성능을 보임."
   ]
  },
  {
   "cell_type": "code",
   "execution_count": 90,
   "id": "a4dba9ac",
   "metadata": {},
   "outputs": [
    {
     "name": "stdout",
     "output_type": "stream",
     "text": [
      "confusion matrix\n",
      "[[23750     1]\n",
      " [  155     1]]\n",
      "accuracy : 0.9935 , precision : 0.5000 , recall : 0.0064, F1 score : 0.0127 \n",
      " precision(0) : 0.9935 , recall(0) : 1.0000, f1(0) : 0.9967\n"
     ]
    },
    {
     "name": "stderr",
     "output_type": "stream",
     "text": [
      "C:\\Users\\vmffl\\python\\lib\\site-packages\\sklearn\\linear_model\\_logistic.py:763: ConvergenceWarning: lbfgs failed to converge (status=1):\n",
      "STOP: TOTAL NO. of ITERATIONS REACHED LIMIT.\n",
      "\n",
      "Increase the number of iterations (max_iter) or scale the data as shown in:\n",
      "    https://scikit-learn.org/stable/modules/preprocessing.html\n",
      "Please also refer to the documentation for alternative solver options:\n",
      "    https://scikit-learn.org/stable/modules/linear_model.html#logistic-regression\n",
      "  n_iter_i = _check_optimize_result(\n"
     ]
    }
   ],
   "source": [
    "clf=LogisticRegression()\n",
    "clf.fit(X_trn,y_trn)\n",
    "pred=clf.predict(X_tes)\n",
    "get_eval(y_tes,pred)"
   ]
  },
  {
   "cell_type": "code",
   "execution_count": 91,
   "id": "e3f0e1d7",
   "metadata": {},
   "outputs": [
    {
     "name": "stdout",
     "output_type": "stream",
     "text": [
      "confusion matrix\n",
      "[[23750     1]\n",
      " [  155     1]]\n",
      "accuracy : 0.9935 , precision : 0.5000 , recall : 0.0064, F1 score : 0.0127 \n",
      " precision(0) : 0.9935 , recall(0) : 1.0000, f1(0) : 0.9967\n"
     ]
    },
    {
     "name": "stderr",
     "output_type": "stream",
     "text": [
      "C:\\Users\\vmffl\\python\\lib\\site-packages\\sklearn\\linear_model\\_logistic.py:763: ConvergenceWarning: lbfgs failed to converge (status=1):\n",
      "STOP: TOTAL NO. of ITERATIONS REACHED LIMIT.\n",
      "\n",
      "Increase the number of iterations (max_iter) or scale the data as shown in:\n",
      "    https://scikit-learn.org/stable/modules/preprocessing.html\n",
      "Please also refer to the documentation for alternative solver options:\n",
      "    https://scikit-learn.org/stable/modules/linear_model.html#logistic-regression\n",
      "  n_iter_i = _check_optimize_result(\n"
     ]
    }
   ],
   "source": [
    "clf2=LogisticRegression()\n",
    "clf2.fit(X_trn_over,y_trn_over)\n",
    "pred2=clf.predict(X_tes)\n",
    "get_eval(y_tes,pred2)"
   ]
  },
  {
   "cell_type": "code",
   "execution_count": 96,
   "id": "41a6642f",
   "metadata": {},
   "outputs": [
    {
     "data": {
      "text/plain": [
       "[Text(279.0, 380.52, 'X[53] <= 1.5\\ngini = 0.014\\nsamples = 95628\\nvalue = [94969, 659]'),\n",
       " Text(139.5, 271.8, 'X[60] <= 2.5\\ngini = 0.003\\nsamples = 86157\\nvalue = [86007, 150]'),\n",
       " Text(69.75, 163.07999999999998, 'X[12] <= 2.5\\ngini = 0.001\\nsamples = 59529\\nvalue = [59497, 32]'),\n",
       " Text(34.875, 54.360000000000014, 'gini = 0.0\\nsamples = 52973\\nvalue = [52960, 13]'),\n",
       " Text(104.625, 54.360000000000014, 'gini = 0.006\\nsamples = 6556\\nvalue = [6537, 19]'),\n",
       " Text(209.25, 163.07999999999998, 'X[81] <= 1.5\\ngini = 0.009\\nsamples = 26628\\nvalue = [26510, 118]'),\n",
       " Text(174.375, 54.360000000000014, 'gini = 0.007\\nsamples = 24144\\nvalue = [24062, 82]'),\n",
       " Text(244.125, 54.360000000000014, 'gini = 0.029\\nsamples = 2484\\nvalue = [2448, 36]'),\n",
       " Text(418.5, 271.8, 'X[48] <= 3.5\\ngini = 0.102\\nsamples = 9471\\nvalue = [8962, 509]'),\n",
       " Text(348.75, 163.07999999999998, 'X[74] <= 2.5\\ngini = 0.132\\nsamples = 4714\\nvalue = [4379, 335]'),\n",
       " Text(313.875, 54.360000000000014, 'gini = 0.116\\nsamples = 4065\\nvalue = [3813, 252]'),\n",
       " Text(383.625, 54.360000000000014, 'gini = 0.223\\nsamples = 649\\nvalue = [566, 83]'),\n",
       " Text(488.25, 163.07999999999998, 'X[88] <= 2.5\\ngini = 0.07\\nsamples = 4757\\nvalue = [4583, 174]'),\n",
       " Text(453.375, 54.360000000000014, 'gini = 0.059\\nsamples = 4042\\nvalue = [3918, 124]'),\n",
       " Text(523.125, 54.360000000000014, 'gini = 0.13\\nsamples = 715\\nvalue = [665, 50]')]"
      ]
     },
     "execution_count": 96,
     "metadata": {},
     "output_type": "execute_result"
    },
    {
     "data": {
      "image/png": "[encoded data removed]",
      "text/plain": [
       "<Figure size 720x576 with 1 Axes>"
      ]
     },
     "metadata": {
      "needs_background": "light"
     },
     "output_type": "display_data"
    }
   ],
   "source": [
    "from sklearn.tree import DecisionTreeClassifier\n",
    "import matplotlib.pyplot as plt\n",
    "from sklearn import tree\n",
    "t1=DecisionTreeClassifier(max_depth=3)\n",
    "t1.fit(X_trn,y_trn)\n",
    "fig=plt.figure(figsize=(10,8))\n",
    "tree.plot_tree(t1)"
   ]
  },
  {
   "cell_type": "code",
   "execution_count": null,
   "id": "6ec1fd49",
   "metadata": {},
   "outputs": [],
   "source": []
  }
 ],
 "metadata": {
  "kernelspec": {
   "display_name": "Python 3",
   "language": "python",
   "name": "python3"
  },
  "language_info": {
   "codemirror_mode": {
    "name": "ipython",
    "version": 3
   },
   "file_extension": ".py",
   "mimetype": "text/x-python",
   "name": "python",
   "nbconvert_exporter": "python",
   "pygments_lexer": "ipython3",
   "version": "3.8.3"
  }
 },
 "nbformat": 4,
 "nbformat_minor": 5
}
