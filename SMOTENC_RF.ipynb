{
 "cells": [
  {
   "cell_type": "code",
   "execution_count": 1,
   "metadata": {},
   "outputs": [],
   "source": [
    "import pandas as pd\n",
    "import numpy as np\n",
    "from sklearn.model_selection import train_test_split\n",
    "from imblearn.over_sampling import SMOTENC\n",
    "from sklearn.metrics import accuracy_score, precision_score, recall_score, roc_auc_score, f1_score, confusion_matrix, roc_curve\n",
    "from sklearn.metrics import precision_recall_curve\n",
    "import matplotlib.pyplot as plt\n",
    "import matplotlib.ticker as ticker\n",
    "from sklearn.ensemble import RandomForestClassifier\n",
    "from sklearn.model_selection import GridSearchCV \n",
    "from sklearn.metrics import classification_report\n",
    "from sklearn.model_selection import StratifiedKFold\n",
    "from imblearn.pipeline import Pipeline, make_pipeline\n",
    "from sklearn.metrics import precision_recall_curve\n",
    "from sklearn.metrics import plot_precision_recall_curve\n",
    "from sklearn.metrics import average_precision_score"
   ]
  },
  {
   "cell_type": "code",
   "execution_count": 2,
   "metadata": {},
   "outputs": [],
   "source": [
    "import plotly.graph_objects as go\n",
    "import plotly.express as px\n",
    "from sklearn.metrics import average_precision_score"
   ]
  },
  {
   "cell_type": "code",
   "execution_count": 3,
   "metadata": {},
   "outputs": [
    {
     "name": "stdout",
     "output_type": "stream",
     "text": [
      "(119535, 93)\n"
     ]
    }
   ],
   "source": [
    "data=pd.read_csv(r'C:/Users/HCJ/Desktop/2021_Summer/Finance_data/bank.csv',index_col=0)\n",
    "print(data.shape)"
   ]
  },
  {
   "cell_type": "code",
   "execution_count": 4,
   "metadata": {},
   "outputs": [
    {
     "name": "stdout",
     "output_type": "stream",
     "text": [
      "(95628, 93)\n",
      "(23907, 93)\n"
     ]
    }
   ],
   "source": [
    "train_data, test_data = train_test_split(data,test_size=0.2, random_state=100)\n",
    "print(train_data.shape)\n",
    "print(test_data.shape)"
   ]
  },
  {
   "cell_type": "code",
   "execution_count": 5,
   "metadata": {},
   "outputs": [],
   "source": [
    "X_train = train_data.iloc[:,1:]\n",
    "y_train = train_data['TARGET']\n",
    "X_test = test_data.iloc[:,1:]\n",
    "y_test = test_data['TARGET']"
   ]
  },
  {
   "cell_type": "code",
   "execution_count": 6,
   "metadata": {},
   "outputs": [],
   "source": [
    "smotenc = SMOTENC(categorical_features = [43,44,45,64,65,66,67,68])\n",
    "X_train_samp, y_train_samp = smotenc.fit_resample(X_train,y_train)"
   ]
  },
  {
   "cell_type": "code",
   "execution_count": 7,
   "metadata": {},
   "outputs": [],
   "source": [
    "def get_eval(y_test,pred=None):\n",
    "    confusion=confusion_matrix(y_test,pred)\n",
    "    accuracy=accuracy_score(y_test,pred)\n",
    "    precision=precision_score(y_test,pred)\n",
    "    recall=recall_score(y_test, pred)\n",
    "    f1 = f1_score(y_test,pred)\n",
    "    precision2=precision_score(y_test,pred,pos_label=0)\n",
    "    recall2=recall_score(y_test,pred,pos_label=0)\n",
    "    f1_2=f1_score(y_test,pred,pos_label=0)\n",
    "    print(\"confusion matrix\")\n",
    "    print(confusion)\n",
    "    print('accuracy : {0:.4f} , precision : {1:.4f} , recall : {2:.4f}, F1 score : {3:.4f} \\n precision(0) : {4:.4f} , recall(0) : {5:.4f}, f1(0) : {6:.4f}'.format(accuracy,precision, recall,f1,precision2,recall2,f1_2))\n",
    "    \n",
    "def precision_recall_curve_plot(y_test, pred_proba_cl):\n",
    "    precisions, recalls, thresholds = precision_recall_curve(y_test, pred_proba_cl)\n",
    "    plt.figure(figsize=(8,6))\n",
    "    threshold_boundary = thresholds.shape[0]\n",
    "    plt.plot(thresholds, precisions[0:threshold_boundary], linestyle='--', label = 'precision')\n",
    "    plt.plot(thresholds, recalls[0:threshold_boundary], label = 'recall')\n",
    "    start, end = plt.xlim()\n",
    "    plt.xticks(np.round(np.arange(start, end, 0.1),2))\n",
    "    plt.xlabel('Threshold value')\n",
    "    plt.ylabel('Precision and Recall value')\n",
    "    plt.legend()\n",
    "    plt.grid()\n",
    "    plt.show()\n",
    "\n",
    "def roc_curve_plot(y_test, pred_proba_c1):\n",
    "    fprs, tprs, thresholds = roc_curve(y_test, pred_proba_c1)\n",
    "    plt.plot(fprs, tprs, label = 'ROC')\n",
    "    plt.plot([0,1],[0,1],'k--',label='Random')\n",
    "    start, end = plt.xlim()\n",
    "    plt.xticks(np.round(np.arange(start,end,0.1),2))\n",
    "    plt.xlim(0,1);plt.ylim(0,1)\n",
    "    plt.xlabel('FPR(1-Sensitivity)');plt.ylabel('TPR(Recall)')\n",
    "    plt.legend()"
   ]
  },
  {
   "cell_type": "markdown",
   "metadata": {},
   "source": [
    "#randomforest model - hyperparameter tuning using grid search\n",
    "params = { 'n_estimators': [100, 150, 200],\n",
    "            'max_depth' : [10, 20, 30],\n",
    "            'min_samples_leaf' : [8, 12, 18],\n",
    "            'min_samples_split' : [2, 5, 10]\n",
    "}\n",
    "\n",
    "# RandomForestClassifier 객체 생성 후 GridSearchCV 수행\n",
    "rf_clf = RandomForestClassifier(random_state = 0, n_jobs = -1)\n",
    "grid_cv = GridSearchCV(rf_clf, param_grid = params, cv=3, n_jobs = -1, verbose=2)\n",
    "grid_cv.fit(X_train_samp, y_train_samp)\n",
    "\n",
    "print('최적 하이퍼 파라미터: ', grid_cv.best_params_)\n",
    "print('최고 예측 정확도: {:.4f}'.format(grid_cv.best_score_))"
   ]
  },
  {
   "cell_type": "code",
   "execution_count": 8,
   "metadata": {},
   "outputs": [
    {
     "name": "stdout",
     "output_type": "stream",
     "text": [
      "confusion matrix\n",
      "[[22287  1464]\n",
      " [   36   120]]\n",
      "accuracy : 0.9373 , precision : 0.0758 , recall : 0.7692, F1 score : 0.1379 \n",
      " precision(0) : 0.9984 , recall(0) : 0.9384, f1(0) : 0.9674\n"
     ]
    }
   ],
   "source": [
    "# test 파라미터\n",
    "rf_clf1 =RandomForestClassifier(max_depth = 10,\n",
    "                                min_samples_leaf = 30,\n",
    "                                min_samples_split = 20,\n",
    "                                n_estimators = 100)\n",
    "\n",
    "rf_clf1.fit(X_train_samp, y_train_samp)\n",
    "pred = rf_clf1.predict(X_test)\n",
    "get_eval(y_test,pred)"
   ]
  },
  {
   "cell_type": "code",
   "execution_count": 9,
   "metadata": {},
   "outputs": [
    {
     "name": "stdout",
     "output_type": "stream",
     "text": [
      "confusion matrix\n",
      "[[23642   109]\n",
      " [   66    90]]\n",
      "accuracy : 0.9927 , precision : 0.4523 , recall : 0.5769, F1 score : 0.5070 \n",
      " precision(0) : 0.9972 , recall(0) : 0.9954, f1(0) : 0.9963\n"
     ]
    }
   ],
   "source": [
    "# best 파라미터\n",
    "rf_clf2 =RandomForestClassifier(max_depth = 30,\n",
    "                                min_samples_leaf = 8,\n",
    "                                min_samples_split = 2,\n",
    "                                n_estimators = 150)\n",
    "\n",
    "rf_clf2.fit(X_train_samp, y_train_samp)\n",
    "pred2 = rf_clf2.predict(X_test)\n",
    "get_eval(y_test,pred2)"
   ]
  },
  {
   "cell_type": "code",
   "execution_count": 10,
   "metadata": {},
   "outputs": [
    {
     "name": "stdout",
     "output_type": "stream",
     "text": [
      "confusion matrix\n",
      "[[23751     0]\n",
      " [  156     0]]\n",
      "accuracy : 0.9935 , precision : 0.0000 , recall : 0.0000, F1 score : 0.0000 \n",
      " precision(0) : 0.9935 , recall(0) : 1.0000, f1(0) : 0.9967\n"
     ]
    },
    {
     "name": "stderr",
     "output_type": "stream",
     "text": [
      "C:\\Users\\HCJ\\anaconda3\\lib\\site-packages\\sklearn\\metrics\\_classification.py:1248: UndefinedMetricWarning: Precision is ill-defined and being set to 0.0 due to no predicted samples. Use `zero_division` parameter to control this behavior.\n",
      "  _warn_prf(average, modifier, msg_start, len(result))\n"
     ]
    }
   ],
   "source": [
    "# 샘플링 미적용\n",
    "rf_clf3 =RandomForestClassifier(max_depth = 30,\n",
    "                                min_samples_leaf = 8,\n",
    "                                min_samples_split = 2,\n",
    "                                n_estimators = 200)\n",
    "\n",
    "rf_clf3.fit(X_train, y_train)\n",
    "pred3 = rf_clf3.predict(X_test)\n",
    "get_eval(y_test,pred3)"
   ]
  },
  {
   "cell_type": "code",
   "execution_count": 11,
   "metadata": {},
   "outputs": [
    {
     "name": "stdout",
     "output_type": "stream",
     "text": [
      "confusion matrix\n",
      "[[23730    21]\n",
      " [   58    98]]\n",
      "accuracy : 0.9967 , precision : 0.8235 , recall : 0.6282, F1 score : 0.7127 \n",
      " precision(0) : 0.9976 , recall(0) : 0.9991, f1(0) : 0.9983\n"
     ]
    }
   ],
   "source": [
    "# 디폴트\n",
    "rf_clf4 = RandomForestClassifier()\n",
    "\n",
    "rf_clf4.fit(X_train_samp, y_train_samp)\n",
    "pred4 = rf_clf4.predict(X_test)\n",
    "get_eval(y_test,pred4)"
   ]
  },
  {
   "cell_type": "markdown",
   "metadata": {},
   "source": [
    "Precision Recall Plot \n",
    "Precision Recall Plot (이하 PR 그래프)의 경우도 ROC 와 유사한데, 주로 데이타 라벨의 분포가 심하게 불균등 할때 사용한데, 예를 들어 이상 거래 검출 시나리오의 경우 정상 거래의 비율이 비정상 거래에 비해서 압도적으로 많기 때문에 (98%, 2%) 이런 경우에는 ROC 그래프보다 PR 그래프가 분석에 더 유리하다.\n",
    "https://bcho.tistory.com/1206"
   ]
  }
 ],
 "metadata": {
  "kernelspec": {
   "display_name": "Python 3",
   "language": "python",
   "name": "python3"
  },
  "language_info": {
   "codemirror_mode": {
    "name": "ipython",
    "version": 3
   },
   "file_extension": ".py",
   "mimetype": "text/x-python",
   "name": "python",
   "nbconvert_exporter": "python",
   "pygments_lexer": "ipython3",
   "version": "3.8.5"
  }
 },
 "nbformat": 4,
 "nbformat_minor": 5
}
