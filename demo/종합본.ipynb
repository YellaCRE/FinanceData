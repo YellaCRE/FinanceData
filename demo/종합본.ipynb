{
 "cells": [
  {
   "cell_type": "code",
   "execution_count": 78,
   "id": "74d657c5",
   "metadata": {},
   "outputs": [],
   "source": [
    "import pandas as pd\n",
    "import numpy as np\n",
    "\n",
    "data=pd.read_csv(r'C:\\Users\\vmffl\\workspace\\우리은행 데이터경진대회 데이터셋\\우리은행 데이터경진대회 데이터셋.csv',index_col=0)\n",
    "\n",
    "from sklearn.model_selection import train_test_split\n",
    "\n",
    "train_data, test_data = train_test_split(data,test_size=0.2, random_state=100)\n",
    "\n",
    "X_trn=train_data.iloc[:,1:]\n",
    "y_trn=train_data['TARGET']\n",
    "X_tes=test_data.iloc[:,1:]\n",
    "y_tes=test_data['TARGET']"
   ]
  },
  {
   "cell_type": "code",
   "execution_count": 3,
   "id": "3c98a80f",
   "metadata": {},
   "outputs": [
    {
     "data": {
      "text/html": [
       "<div>\n",
       "<style scoped>\n",
       "    .dataframe tbody tr th:only-of-type {\n",
       "        vertical-align: middle;\n",
       "    }\n",
       "\n",
       "    .dataframe tbody tr th {\n",
       "        vertical-align: top;\n",
       "    }\n",
       "\n",
       "    .dataframe thead th {\n",
       "        text-align: right;\n",
       "    }\n",
       "</style>\n",
       "<table border=\"1\" class=\"dataframe\">\n",
       "  <thead>\n",
       "    <tr style=\"text-align: right;\">\n",
       "      <th></th>\n",
       "      <th>TARGET</th>\n",
       "      <th>J_F1_LON_RK_3M_CNT_RE</th>\n",
       "      <th>J_F1_OTHER_LON_6M_AVBL_AM_RE</th>\n",
       "      <th>J_F1_OTHER_LON_MAX_3M_AM_RE</th>\n",
       "      <th>J_SHINBO_GIBO_AM_RE</th>\n",
       "      <th>J_TOT_LON_CNT_RE</th>\n",
       "      <th>J_TOT_LON_AGG_AM_RE</th>\n",
       "      <th>J_TOT_LON_MAX_AM_RE</th>\n",
       "      <th>J_DPS_CT_BAL_AM_RE</th>\n",
       "      <th>J_TOT_DPS_1M_AVBL_AM_RE</th>\n",
       "      <th>...</th>\n",
       "      <th>P_BR_CNTC_1M_CNT_RE</th>\n",
       "      <th>P_BR_CNTC_6M_CNT_RE</th>\n",
       "      <th>P_ATM_CNTC_6M_CNT_RE</th>\n",
       "      <th>P_INT_CNTC_6M_CNT_RE</th>\n",
       "      <th>P_TOT_LON_CNT_RE</th>\n",
       "      <th>P_TOT_LON_AGG_AM_RE</th>\n",
       "      <th>P_TOT_TS_6M_CNT_RE</th>\n",
       "      <th>P_TOT_TS_6M_AM_RE</th>\n",
       "      <th>P_OB_TS_6M_CNT_RE</th>\n",
       "      <th>P_OB_TS_6M_AM_RE</th>\n",
       "    </tr>\n",
       "  </thead>\n",
       "  <tbody>\n",
       "    <tr>\n",
       "      <th>1</th>\n",
       "      <td>0</td>\n",
       "      <td>2</td>\n",
       "      <td>3</td>\n",
       "      <td>4</td>\n",
       "      <td>1</td>\n",
       "      <td>2</td>\n",
       "      <td>3</td>\n",
       "      <td>3</td>\n",
       "      <td>1</td>\n",
       "      <td>1</td>\n",
       "      <td>...</td>\n",
       "      <td>1</td>\n",
       "      <td>1</td>\n",
       "      <td>1</td>\n",
       "      <td>1</td>\n",
       "      <td>1</td>\n",
       "      <td>1</td>\n",
       "      <td>1</td>\n",
       "      <td>1</td>\n",
       "      <td>1</td>\n",
       "      <td>1</td>\n",
       "    </tr>\n",
       "    <tr>\n",
       "      <th>2</th>\n",
       "      <td>0</td>\n",
       "      <td>1</td>\n",
       "      <td>2</td>\n",
       "      <td>3</td>\n",
       "      <td>1</td>\n",
       "      <td>1</td>\n",
       "      <td>1</td>\n",
       "      <td>1</td>\n",
       "      <td>3</td>\n",
       "      <td>3</td>\n",
       "      <td>...</td>\n",
       "      <td>1</td>\n",
       "      <td>3</td>\n",
       "      <td>3</td>\n",
       "      <td>1</td>\n",
       "      <td>1</td>\n",
       "      <td>1</td>\n",
       "      <td>3</td>\n",
       "      <td>3</td>\n",
       "      <td>3</td>\n",
       "      <td>3</td>\n",
       "    </tr>\n",
       "    <tr>\n",
       "      <th>3</th>\n",
       "      <td>0</td>\n",
       "      <td>2</td>\n",
       "      <td>3</td>\n",
       "      <td>4</td>\n",
       "      <td>1</td>\n",
       "      <td>1</td>\n",
       "      <td>1</td>\n",
       "      <td>1</td>\n",
       "      <td>1</td>\n",
       "      <td>1</td>\n",
       "      <td>...</td>\n",
       "      <td>1</td>\n",
       "      <td>1</td>\n",
       "      <td>1</td>\n",
       "      <td>1</td>\n",
       "      <td>1</td>\n",
       "      <td>1</td>\n",
       "      <td>1</td>\n",
       "      <td>1</td>\n",
       "      <td>1</td>\n",
       "      <td>1</td>\n",
       "    </tr>\n",
       "    <tr>\n",
       "      <th>4</th>\n",
       "      <td>0</td>\n",
       "      <td>3</td>\n",
       "      <td>3</td>\n",
       "      <td>4</td>\n",
       "      <td>1</td>\n",
       "      <td>4</td>\n",
       "      <td>4</td>\n",
       "      <td>4</td>\n",
       "      <td>1</td>\n",
       "      <td>1</td>\n",
       "      <td>...</td>\n",
       "      <td>3</td>\n",
       "      <td>3</td>\n",
       "      <td>3</td>\n",
       "      <td>1</td>\n",
       "      <td>3</td>\n",
       "      <td>3</td>\n",
       "      <td>1</td>\n",
       "      <td>1</td>\n",
       "      <td>1</td>\n",
       "      <td>1</td>\n",
       "    </tr>\n",
       "    <tr>\n",
       "      <th>5</th>\n",
       "      <td>0</td>\n",
       "      <td>3</td>\n",
       "      <td>3</td>\n",
       "      <td>4</td>\n",
       "      <td>1</td>\n",
       "      <td>1</td>\n",
       "      <td>1</td>\n",
       "      <td>1</td>\n",
       "      <td>1</td>\n",
       "      <td>1</td>\n",
       "      <td>...</td>\n",
       "      <td>1</td>\n",
       "      <td>1</td>\n",
       "      <td>1</td>\n",
       "      <td>1</td>\n",
       "      <td>1</td>\n",
       "      <td>1</td>\n",
       "      <td>1</td>\n",
       "      <td>1</td>\n",
       "      <td>1</td>\n",
       "      <td>1</td>\n",
       "    </tr>\n",
       "  </tbody>\n",
       "</table>\n",
       "<p>5 rows × 93 columns</p>\n",
       "</div>"
      ],
      "text/plain": [
       "  TARGET J_F1_LON_RK_3M_CNT_RE J_F1_OTHER_LON_6M_AVBL_AM_RE  \\\n",
       "1      0                     2                            3   \n",
       "2      0                     1                            2   \n",
       "3      0                     2                            3   \n",
       "4      0                     3                            3   \n",
       "5      0                     3                            3   \n",
       "\n",
       "  J_F1_OTHER_LON_MAX_3M_AM_RE J_SHINBO_GIBO_AM_RE J_TOT_LON_CNT_RE  \\\n",
       "1                           4                   1                2   \n",
       "2                           3                   1                1   \n",
       "3                           4                   1                1   \n",
       "4                           4                   1                4   \n",
       "5                           4                   1                1   \n",
       "\n",
       "  J_TOT_LON_AGG_AM_RE J_TOT_LON_MAX_AM_RE J_DPS_CT_BAL_AM_RE  \\\n",
       "1                   3                   3                  1   \n",
       "2                   1                   1                  3   \n",
       "3                   1                   1                  1   \n",
       "4                   4                   4                  1   \n",
       "5                   1                   1                  1   \n",
       "\n",
       "  J_TOT_DPS_1M_AVBL_AM_RE  ... P_BR_CNTC_1M_CNT_RE P_BR_CNTC_6M_CNT_RE  \\\n",
       "1                       1  ...                   1                   1   \n",
       "2                       3  ...                   1                   3   \n",
       "3                       1  ...                   1                   1   \n",
       "4                       1  ...                   3                   3   \n",
       "5                       1  ...                   1                   1   \n",
       "\n",
       "  P_ATM_CNTC_6M_CNT_RE P_INT_CNTC_6M_CNT_RE P_TOT_LON_CNT_RE  \\\n",
       "1                    1                    1                1   \n",
       "2                    3                    1                1   \n",
       "3                    1                    1                1   \n",
       "4                    3                    1                3   \n",
       "5                    1                    1                1   \n",
       "\n",
       "  P_TOT_LON_AGG_AM_RE P_TOT_TS_6M_CNT_RE P_TOT_TS_6M_AM_RE P_OB_TS_6M_CNT_RE  \\\n",
       "1                   1                  1                 1                 1   \n",
       "2                   1                  3                 3                 3   \n",
       "3                   1                  1                 1                 1   \n",
       "4                   3                  1                 1                 1   \n",
       "5                   1                  1                 1                 1   \n",
       "\n",
       "  P_OB_TS_6M_AM_RE  \n",
       "1                1  \n",
       "2                3  \n",
       "3                1  \n",
       "4                1  \n",
       "5                1  \n",
       "\n",
       "[5 rows x 93 columns]"
      ]
     },
     "execution_count": 3,
     "metadata": {},
     "output_type": "execute_result"
    }
   ],
   "source": [
    "data.head()"
   ]
  },
  {
   "cell_type": "code",
   "execution_count": 79,
   "id": "b6833ac3",
   "metadata": {},
   "outputs": [
    {
     "name": "stdout",
     "output_type": "stream",
     "text": [
      "<class 'pandas.core.frame.DataFrame'>\n",
      "Int64Index: 119535 entries, 1 to 119535\n",
      "Data columns (total 93 columns):\n",
      " #   Column                        Non-Null Count   Dtype\n",
      "---  ------                        --------------   -----\n",
      " 0   TARGET                        119535 non-null  int64\n",
      " 1   J_F1_LON_RK_3M_CNT_RE         119535 non-null  int64\n",
      " 2   J_F1_OTHER_LON_6M_AVBL_AM_RE  119535 non-null  int64\n",
      " 3   J_F1_OTHER_LON_MAX_3M_AM_RE   119535 non-null  int64\n",
      " 4   J_SHINBO_GIBO_AM_RE           119535 non-null  int64\n",
      " 5   J_TOT_LON_CNT_RE              119535 non-null  int64\n",
      " 6   J_TOT_LON_AGG_AM_RE           119535 non-null  int64\n",
      " 7   J_TOT_LON_MAX_AM_RE           119535 non-null  int64\n",
      " 8   J_DPS_CT_BAL_AM_RE            119535 non-null  int64\n",
      " 9   J_TOT_DPS_1M_AVBL_AM_RE       119535 non-null  int64\n",
      " 10  J_TOT_DPS_6M_AVBL_AM_RE       119535 non-null  int64\n",
      " 11  J_CORE_DPS_1M_AVBL_AM_RE      119535 non-null  int64\n",
      " 12  J_CORE_DPS_6M_AVBL_AM_RE      119535 non-null  int64\n",
      " 13  J_TOT_DPS_ACC_CNT_RE          119535 non-null  int64\n",
      " 14  J_NRML_DPS_ACC_CNT_RE         119535 non-null  int64\n",
      " 15  J_TOT_SAVING_ACC_CNT_RE       119535 non-null  int64\n",
      " 16  J_NRML_SAVING_ACC_CNT_RE      119535 non-null  int64\n",
      " 17  J_TOT_TS_1M_CNT_RE            119535 non-null  int64\n",
      " 18  J_TOT_TS_6M_CNT_RE            119535 non-null  int64\n",
      " 19  J_TOT_TS_1M_AM_RE             119535 non-null  int64\n",
      " 20  J_TOT_TS_6M_AM_RE             119535 non-null  int64\n",
      " 21  J_OB_TS_1M_CNT_RE             119535 non-null  int64\n",
      " 22  J_OB_TS_6M_CNT_RE             119535 non-null  int64\n",
      " 23  J_OB_TS_1M_AM_RE              119535 non-null  int64\n",
      " 24  J_OB_TS_6M_AM_RE              119535 non-null  int64\n",
      " 25  J_IB_TS_1M_CNT_RE             119535 non-null  int64\n",
      " 26  J_IB_TS_6M_CNT_RE             119535 non-null  int64\n",
      " 27  J_IB_TS_1M_AM_RE              119535 non-null  int64\n",
      " 28  J_IB_TS_6M_AM_RE              119535 non-null  int64\n",
      " 29  J_TOT_TS_3M_AVG_CNT_RE        119535 non-null  int64\n",
      " 30  J_TOT_TS_6M_AVG_CNT_RE        119535 non-null  int64\n",
      " 31  J_TOT_TS_3M_AVG_AM_RE         119535 non-null  int64\n",
      " 32  J_TOT_TS_6M_AVG_AM_RE         119535 non-null  int64\n",
      " 33  J_OB_TS_3M_AVG_CNT_RE         119535 non-null  int64\n",
      " 34  J_OB_TS_6M_AVG_CNT_RE         119535 non-null  int64\n",
      " 35  J_OB_TS_3M_AVG_AM_RE          119535 non-null  int64\n",
      " 36  J_OB_TS_6M_AVG_AM_RE          119535 non-null  int64\n",
      " 37  J_IB_TS_3M_AVG_CNT_RE         119535 non-null  int64\n",
      " 38  J_IB_TS_6M_AVG_CNT_RE         119535 non-null  int64\n",
      " 39  J_IB_TS_3M_AVG_AM_RE          119535 non-null  int64\n",
      " 40  J_IB_TS_6M_AVG_AM_RE          119535 non-null  int64\n",
      " 41  OBK_GRCR_AM_RE                119535 non-null  int64\n",
      " 42  M6L_OBK_GRCR_AM_RE            119535 non-null  int64\n",
      " 43  J_SIC_CD_5_RE                 119535 non-null  int64\n",
      " 44  J_SKIL_GDCD_RE                119535 non-null  int64\n",
      " 45  J_MAIN_LON_BANK_CD_RE         119535 non-null  int64\n",
      " 46  J_CTM_ASET_TOT_AM_RE          119535 non-null  int64\n",
      " 47  J_LBLT_TOT_AM_RE              119535 non-null  int64\n",
      " 48  J_TOT_BRW_AM_RE               119535 non-null  int64\n",
      " 49  J_CTM_CPTS_TOT_AM_RE          119535 non-null  int64\n",
      " 50  J_CTM_SAL_AM_RE               119535 non-null  int64\n",
      " 51  J_SAL_PCS_AM_RE               119535 non-null  int64\n",
      " 52  J_BZ_PFT_AM_RE                119535 non-null  int64\n",
      " 53  J_FNC_COST_AM_RE              119535 non-null  int64\n",
      " 54  J_CTM_NPFT_AM_RE              119535 non-null  int64\n",
      " 55  J_BZ_AFACT_CSFL_AM_RE         119535 non-null  int64\n",
      " 56  J_PFPC_CPMT_AF_CSFL_AM_RE     119535 non-null  int64\n",
      " 57  J_EBIT_VAL_NV_RT_RE           119535 non-null  int64\n",
      " 58  J_EBITDA_VAL_NV_RT_RE         119535 non-null  int64\n",
      " 59  J_LBLT_RT_RE                  119535 non-null  int64\n",
      " 60  J_FNC_COST_CMP_SALEM_RT_RE    119535 non-null  int64\n",
      " 61  J_BRWM_DPIN_RT_RE             119535 non-null  int64\n",
      " 62  J_STM_BRWM_DPIN_RT_RE         119535 non-null  int64\n",
      " 63  J_SALEM_BZ_PFT_RT_RE          119535 non-null  int64\n",
      " 64  P_PRIMARY_CUSTOM_FLG_RE       119535 non-null  int64\n",
      " 65  P_ACT_CUSTOM_FLG_RE           119535 non-null  int64\n",
      " 66  P_TOT_LON_FLG_RE              119535 non-null  int64\n",
      " 67  P_INBK_JNNG_FLG_RE            119535 non-null  int64\n",
      " 68  P_SMPB_JNNG_FLG_RE            119535 non-null  int64\n",
      " 69  P_TOT_DPS_1M_AVBL_AM_RE       119535 non-null  int64\n",
      " 70  P_TOT_DPS_6M_AVBL_AM_RE       119535 non-null  int64\n",
      " 71  P_CORE_DPS_1M_AVBL_AM_RE      119535 non-null  int64\n",
      " 72  P_CORE_DPS_6M_AVBL_AM_RE      119535 non-null  int64\n",
      " 73  P_TOT_DPS_ACC_CNT_RE          119535 non-null  int64\n",
      " 74  P_NRML_DPS_ACC_CNT_RE         119535 non-null  int64\n",
      " 75  P_NRML_SAVING_ACC_CNT_RE      119535 non-null  int64\n",
      " 76  P_TOT_SAVING_ACC_CNT_RE       119535 non-null  int64\n",
      " 77  P_MAX_TRN_1M_AM_RE            119535 non-null  int64\n",
      " 78  P_MAX_TRN_6M_AM_RE            119535 non-null  int64\n",
      " 79  P_AVG_TRN_1M_AM_RE            119535 non-null  int64\n",
      " 80  P_AVG_TRN_6M_AM_RE            119535 non-null  int64\n",
      " 81  P_SUM_TRN_1M_AM_RE            119535 non-null  int64\n",
      " 82  P_SUM_TRN_6M_AM_RE            119535 non-null  int64\n",
      " 83  P_BR_CNTC_1M_CNT_RE           119535 non-null  int64\n",
      " 84  P_BR_CNTC_6M_CNT_RE           119535 non-null  int64\n",
      " 85  P_ATM_CNTC_6M_CNT_RE          119535 non-null  int64\n",
      " 86  P_INT_CNTC_6M_CNT_RE          119535 non-null  int64\n",
      " 87  P_TOT_LON_CNT_RE              119535 non-null  int64\n",
      " 88  P_TOT_LON_AGG_AM_RE           119535 non-null  int64\n",
      " 89  P_TOT_TS_6M_CNT_RE            119535 non-null  int64\n",
      " 90  P_TOT_TS_6M_AM_RE             119535 non-null  int64\n",
      " 91  P_OB_TS_6M_CNT_RE             119535 non-null  int64\n",
      " 92  P_OB_TS_6M_AM_RE              119535 non-null  int64\n",
      "dtypes: int64(93)\n",
      "memory usage: 85.7 MB\n"
     ]
    }
   ],
   "source": [
    "data.info()"
   ]
  },
  {
   "cell_type": "code",
   "execution_count": 6,
   "id": "ff8e0373",
   "metadata": {},
   "outputs": [
    {
     "data": {
      "text/plain": [
       "0    118720\n",
       "1       815\n",
       "Name: TARGET, dtype: int64"
      ]
     },
     "execution_count": 6,
     "metadata": {},
     "output_type": "execute_result"
    }
   ],
   "source": [
    "data['TARGET'].value_counts()"
   ]
  },
  {
   "cell_type": "code",
   "execution_count": 9,
   "id": "49fd8ef9",
   "metadata": {},
   "outputs": [
    {
     "data": {
      "text/plain": [
       "0    0.993182\n",
       "1    0.006818\n",
       "Name: TARGET, dtype: float64"
      ]
     },
     "execution_count": 9,
     "metadata": {},
     "output_type": "execute_result"
    }
   ],
   "source": [
    "data['TARGET'].value_counts(normalize = True)"
   ]
  },
  {
   "cell_type": "code",
   "execution_count": 7,
   "id": "acbf3900",
   "metadata": {},
   "outputs": [
    {
     "data": {
      "text/plain": [
       "<AxesSubplot:>"
      ]
     },
     "execution_count": 7,
     "metadata": {},
     "output_type": "execute_result"
    },
    {
     "data": {
      "image/png": "[encoded data removed]",
      "text/plain": [
       "<Figure size 432x288 with 1 Axes>"
      ]
     },
     "metadata": {
      "needs_background": "light"
     },
     "output_type": "display_data"
    }
   ],
   "source": [
    "data['TARGET'].value_counts(normalize=True).plot(kind='bar')"
   ]
  },
  {
   "cell_type": "code",
   "execution_count": 13,
   "id": "3ee5eccc",
   "metadata": {},
   "outputs": [
    {
     "name": "stdout",
     "output_type": "stream",
     "text": [
      "(95628, 92)\n",
      "(23907, 92)\n"
     ]
    }
   ],
   "source": [
    "print(X_trn.shape)\n",
    "print(X_tes.shape)"
   ]
  },
  {
   "cell_type": "markdown",
   "id": "fdba631c",
   "metadata": {},
   "source": [
    "### Oversampling Using SMOTE NC"
   ]
  },
  {
   "cell_type": "code",
   "execution_count": 80,
   "id": "4d3b9faf",
   "metadata": {},
   "outputs": [],
   "source": [
    "from imblearn.over_sampling import SMOTENC\n",
    "smotenc=SMOTENC(categorical_features=[42,43,44,63,64,65,66,67],random_state=1000)\n",
    "X_trn_over, y_trn_over = smotenc.fit_resample(X_trn,y_trn)"
   ]
  },
  {
   "cell_type": "code",
   "execution_count": 81,
   "id": "4d267a10",
   "metadata": {},
   "outputs": [
    {
     "data": {
      "text/plain": [
       "(189938, 92)"
      ]
     },
     "execution_count": 81,
     "metadata": {},
     "output_type": "execute_result"
    }
   ],
   "source": [
    "X_trn_over.shape"
   ]
  },
  {
   "cell_type": "code",
   "execution_count": 82,
   "id": "791e9f51",
   "metadata": {},
   "outputs": [
    {
     "data": {
      "text/plain": [
       "0    94969\n",
       "1    94969\n",
       "Name: TARGET, dtype: int64"
      ]
     },
     "execution_count": 82,
     "metadata": {},
     "output_type": "execute_result"
    }
   ],
   "source": [
    "y_trn_over.value_counts()"
   ]
  },
  {
   "cell_type": "code",
   "execution_count": 84,
   "id": "42e82a0b",
   "metadata": {},
   "outputs": [
    {
     "data": {
      "image/png": "[encoded data removed]",
      "text/plain": [
       "<Figure size 640x480 with 1 Axes>"
      ]
     },
     "metadata": {},
     "output_type": "display_data"
    }
   ],
   "source": [
    "y_trn_over.value_counts(normalize=True).plot(kind='bar')\n",
    "plt.show()"
   ]
  },
  {
   "cell_type": "markdown",
   "id": "a85d05f6",
   "metadata": {},
   "source": [
    "### Dummy coding for the nominal dataset"
   ]
  },
  {
   "cell_type": "code",
   "execution_count": 85,
   "id": "3d39db68",
   "metadata": {},
   "outputs": [],
   "source": [
    "nominal_col=X_trn_over.columns[[42,43,44,63,64,65,66,67]]\n",
    "X_trn_over_dummy = pd.get_dummies(X_trn_over,columns=nominal_col)\n",
    "X_tes_dummy=pd.get_dummies(X_tes,columns=nominal_col)"
   ]
  },
  {
   "cell_type": "code",
   "execution_count": 21,
   "id": "1976eded",
   "metadata": {},
   "outputs": [
    {
     "name": "stdout",
     "output_type": "stream",
     "text": [
      "92\n",
      "100\n"
     ]
    }
   ],
   "source": [
    "print(X_trn_over.shape[1])\n",
    "print(X_trn_over_dummy.shape[1])"
   ]
  },
  {
   "cell_type": "code",
   "execution_count": 22,
   "id": "a32301f2",
   "metadata": {},
   "outputs": [
    {
     "name": "stdout",
     "output_type": "stream",
     "text": [
      "92\n",
      "100\n"
     ]
    }
   ],
   "source": [
    "print(X_tes.shape[1])\n",
    "print(X_tes_dummy.shape[1])"
   ]
  },
  {
   "cell_type": "code",
   "execution_count": 86,
   "id": "527be9c5",
   "metadata": {},
   "outputs": [],
   "source": [
    "from sklearn.metrics import accuracy_score, precision_score, confusion_matrix, f1_score, recall_score\n",
    "\n",
    "def get_eval(y_test,pred=None):\n",
    "    confusion=confusion_matrix(y_test,pred)\n",
    "    accuracy=accuracy_score(y_test,pred)\n",
    "    precision=precision_score(y_test,pred)\n",
    "    recall=recall_score(y_test, pred)\n",
    "    f1 = f1_score(y_test,pred)\n",
    "    precision2=precision_score(y_test,pred,pos_label=0)\n",
    "    recall2=recall_score(y_test,pred,pos_label=0)\n",
    "    f1_2=f1_score(y_test,pred,pos_label=0)\n",
    "    print(\"confusion matrix\")\n",
    "    print(confusion)\n",
    "    print('accuracy : {0:.4f} , precision : {1:.4f} , recall : {2:.4f}, F1 score : {3:.4f} \\n precision(0) : {4:.4f} , recall(0) : {5:.4f}, f1(0) : {6:.4f}'.format(accuracy,precision, recall,f1,precision2,recall2,f1_2))"
   ]
  },
  {
   "cell_type": "code",
   "execution_count": 87,
   "id": "03e71b62",
   "metadata": {},
   "outputs": [
    {
     "name": "stdout",
     "output_type": "stream",
     "text": [
      "<class 'pandas.core.frame.DataFrame'>\n",
      "RangeIndex: 189938 entries, 0 to 189937\n",
      "Data columns (total 100 columns):\n",
      " #   Column                        Non-Null Count   Dtype\n",
      "---  ------                        --------------   -----\n",
      " 0   J_F1_LON_RK_3M_CNT_RE         189938 non-null  int64\n",
      " 1   J_F1_OTHER_LON_6M_AVBL_AM_RE  189938 non-null  int64\n",
      " 2   J_F1_OTHER_LON_MAX_3M_AM_RE   189938 non-null  int64\n",
      " 3   J_SHINBO_GIBO_AM_RE           189938 non-null  int64\n",
      " 4   J_TOT_LON_CNT_RE              189938 non-null  int64\n",
      " 5   J_TOT_LON_AGG_AM_RE           189938 non-null  int64\n",
      " 6   J_TOT_LON_MAX_AM_RE           189938 non-null  int64\n",
      " 7   J_DPS_CT_BAL_AM_RE            189938 non-null  int64\n",
      " 8   J_TOT_DPS_1M_AVBL_AM_RE       189938 non-null  int64\n",
      " 9   J_TOT_DPS_6M_AVBL_AM_RE       189938 non-null  int64\n",
      " 10  J_CORE_DPS_1M_AVBL_AM_RE      189938 non-null  int64\n",
      " 11  J_CORE_DPS_6M_AVBL_AM_RE      189938 non-null  int64\n",
      " 12  J_TOT_DPS_ACC_CNT_RE          189938 non-null  int64\n",
      " 13  J_NRML_DPS_ACC_CNT_RE         189938 non-null  int64\n",
      " 14  J_TOT_SAVING_ACC_CNT_RE       189938 non-null  int64\n",
      " 15  J_NRML_SAVING_ACC_CNT_RE      189938 non-null  int64\n",
      " 16  J_TOT_TS_1M_CNT_RE            189938 non-null  int64\n",
      " 17  J_TOT_TS_6M_CNT_RE            189938 non-null  int64\n",
      " 18  J_TOT_TS_1M_AM_RE             189938 non-null  int64\n",
      " 19  J_TOT_TS_6M_AM_RE             189938 non-null  int64\n",
      " 20  J_OB_TS_1M_CNT_RE             189938 non-null  int64\n",
      " 21  J_OB_TS_6M_CNT_RE             189938 non-null  int64\n",
      " 22  J_OB_TS_1M_AM_RE              189938 non-null  int64\n",
      " 23  J_OB_TS_6M_AM_RE              189938 non-null  int64\n",
      " 24  J_IB_TS_1M_CNT_RE             189938 non-null  int64\n",
      " 25  J_IB_TS_6M_CNT_RE             189938 non-null  int64\n",
      " 26  J_IB_TS_1M_AM_RE              189938 non-null  int64\n",
      " 27  J_IB_TS_6M_AM_RE              189938 non-null  int64\n",
      " 28  J_TOT_TS_3M_AVG_CNT_RE        189938 non-null  int64\n",
      " 29  J_TOT_TS_6M_AVG_CNT_RE        189938 non-null  int64\n",
      " 30  J_TOT_TS_3M_AVG_AM_RE         189938 non-null  int64\n",
      " 31  J_TOT_TS_6M_AVG_AM_RE         189938 non-null  int64\n",
      " 32  J_OB_TS_3M_AVG_CNT_RE         189938 non-null  int64\n",
      " 33  J_OB_TS_6M_AVG_CNT_RE         189938 non-null  int64\n",
      " 34  J_OB_TS_3M_AVG_AM_RE          189938 non-null  int64\n",
      " 35  J_OB_TS_6M_AVG_AM_RE          189938 non-null  int64\n",
      " 36  J_IB_TS_3M_AVG_CNT_RE         189938 non-null  int64\n",
      " 37  J_IB_TS_6M_AVG_CNT_RE         189938 non-null  int64\n",
      " 38  J_IB_TS_3M_AVG_AM_RE          189938 non-null  int64\n",
      " 39  J_IB_TS_6M_AVG_AM_RE          189938 non-null  int64\n",
      " 40  OBK_GRCR_AM_RE                189938 non-null  int64\n",
      " 41  M6L_OBK_GRCR_AM_RE            189938 non-null  int64\n",
      " 42  J_CTM_ASET_TOT_AM_RE          189938 non-null  int64\n",
      " 43  J_LBLT_TOT_AM_RE              189938 non-null  int64\n",
      " 44  J_TOT_BRW_AM_RE               189938 non-null  int64\n",
      " 45  J_CTM_CPTS_TOT_AM_RE          189938 non-null  int64\n",
      " 46  J_CTM_SAL_AM_RE               189938 non-null  int64\n",
      " 47  J_SAL_PCS_AM_RE               189938 non-null  int64\n",
      " 48  J_BZ_PFT_AM_RE                189938 non-null  int64\n",
      " 49  J_FNC_COST_AM_RE              189938 non-null  int64\n",
      " 50  J_CTM_NPFT_AM_RE              189938 non-null  int64\n",
      " 51  J_BZ_AFACT_CSFL_AM_RE         189938 non-null  int64\n",
      " 52  J_PFPC_CPMT_AF_CSFL_AM_RE     189938 non-null  int64\n",
      " 53  J_EBIT_VAL_NV_RT_RE           189938 non-null  int64\n",
      " 54  J_EBITDA_VAL_NV_RT_RE         189938 non-null  int64\n",
      " 55  J_LBLT_RT_RE                  189938 non-null  int64\n",
      " 56  J_FNC_COST_CMP_SALEM_RT_RE    189938 non-null  int64\n",
      " 57  J_BRWM_DPIN_RT_RE             189938 non-null  int64\n",
      " 58  J_STM_BRWM_DPIN_RT_RE         189938 non-null  int64\n",
      " 59  J_SALEM_BZ_PFT_RT_RE          189938 non-null  int64\n",
      " 60  P_TOT_DPS_1M_AVBL_AM_RE       189938 non-null  int64\n",
      " 61  P_TOT_DPS_6M_AVBL_AM_RE       189938 non-null  int64\n",
      " 62  P_CORE_DPS_1M_AVBL_AM_RE      189938 non-null  int64\n",
      " 63  P_CORE_DPS_6M_AVBL_AM_RE      189938 non-null  int64\n",
      " 64  P_TOT_DPS_ACC_CNT_RE          189938 non-null  int64\n",
      " 65  P_NRML_DPS_ACC_CNT_RE         189938 non-null  int64\n",
      " 66  P_NRML_SAVING_ACC_CNT_RE      189938 non-null  int64\n",
      " 67  P_TOT_SAVING_ACC_CNT_RE       189938 non-null  int64\n",
      " 68  P_MAX_TRN_1M_AM_RE            189938 non-null  int64\n",
      " 69  P_MAX_TRN_6M_AM_RE            189938 non-null  int64\n",
      " 70  P_AVG_TRN_1M_AM_RE            189938 non-null  int64\n",
      " 71  P_AVG_TRN_6M_AM_RE            189938 non-null  int64\n",
      " 72  P_SUM_TRN_1M_AM_RE            189938 non-null  int64\n",
      " 73  P_SUM_TRN_6M_AM_RE            189938 non-null  int64\n",
      " 74  P_BR_CNTC_1M_CNT_RE           189938 non-null  int64\n",
      " 75  P_BR_CNTC_6M_CNT_RE           189938 non-null  int64\n",
      " 76  P_ATM_CNTC_6M_CNT_RE          189938 non-null  int64\n",
      " 77  P_INT_CNTC_6M_CNT_RE          189938 non-null  int64\n",
      " 78  P_TOT_LON_CNT_RE              189938 non-null  int64\n",
      " 79  P_TOT_LON_AGG_AM_RE           189938 non-null  int64\n",
      " 80  P_TOT_TS_6M_CNT_RE            189938 non-null  int64\n",
      " 81  P_TOT_TS_6M_AM_RE             189938 non-null  int64\n",
      " 82  P_OB_TS_6M_CNT_RE             189938 non-null  int64\n",
      " 83  P_OB_TS_6M_AM_RE              189938 non-null  int64\n",
      " 84  J_SIC_CD_5_RE_1               189938 non-null  uint8\n",
      " 85  J_SIC_CD_5_RE_2               189938 non-null  uint8\n",
      " 86  J_SKIL_GDCD_RE_1              189938 non-null  uint8\n",
      " 87  J_SKIL_GDCD_RE_2              189938 non-null  uint8\n",
      " 88  J_MAIN_LON_BANK_CD_RE_1       189938 non-null  uint8\n",
      " 89  J_MAIN_LON_BANK_CD_RE_2       189938 non-null  uint8\n",
      " 90  P_PRIMARY_CUSTOM_FLG_RE_1     189938 non-null  uint8\n",
      " 91  P_PRIMARY_CUSTOM_FLG_RE_2     189938 non-null  uint8\n",
      " 92  P_ACT_CUSTOM_FLG_RE_1         189938 non-null  uint8\n",
      " 93  P_ACT_CUSTOM_FLG_RE_2         189938 non-null  uint8\n",
      " 94  P_TOT_LON_FLG_RE_1            189938 non-null  uint8\n",
      " 95  P_TOT_LON_FLG_RE_2            189938 non-null  uint8\n",
      " 96  P_INBK_JNNG_FLG_RE_1          189938 non-null  uint8\n",
      " 97  P_INBK_JNNG_FLG_RE_2          189938 non-null  uint8\n",
      " 98  P_SMPB_JNNG_FLG_RE_1          189938 non-null  uint8\n",
      " 99  P_SMPB_JNNG_FLG_RE_2          189938 non-null  uint8\n",
      "dtypes: int64(84), uint8(16)\n",
      "memory usage: 124.6 MB\n"
     ]
    }
   ],
   "source": [
    "X_trn_over_dummy.info()"
   ]
  },
  {
   "cell_type": "markdown",
   "id": "89302382",
   "metadata": {},
   "source": [
    "### Logistic Regression "
   ]
  },
  {
   "cell_type": "code",
   "execution_count": 88,
   "id": "768a8731",
   "metadata": {},
   "outputs": [
    {
     "name": "stdout",
     "output_type": "stream",
     "text": [
      "confusion matrix\n",
      "[[20060  3691]\n",
      " [   31   125]]\n",
      "accuracy : 0.8443 , precision : 0.0328 , recall : 0.8013, F1 score : 0.0629 \n",
      " precision(0) : 0.9985 , recall(0) : 0.8446, f1(0) : 0.9151\n"
     ]
    }
   ],
   "source": [
    "from sklearn.linear_model import LogisticRegression\n",
    "clf=LogisticRegression(solver='liblinear',max_iter = 1000)\n",
    "clf.fit(X_trn_over_dummy,y_trn_over)\n",
    "pred=clf.predict(X_tes_dummy)\n",
    "get_eval(y_tes,pred)"
   ]
  },
  {
   "cell_type": "markdown",
   "id": "1d22450e",
   "metadata": {},
   "source": [
    "### Naive Bayes"
   ]
  },
  {
   "cell_type": "code",
   "execution_count": 89,
   "id": "15520eee",
   "metadata": {},
   "outputs": [
    {
     "name": "stdout",
     "output_type": "stream",
     "text": [
      "confusion matrix\n",
      "[[17936  5815]\n",
      " [   52   104]]\n",
      "accuracy : 0.7546 , precision : 0.0176 , recall : 0.6667, F1 score : 0.0342 \n",
      " precision(0) : 0.9971 , recall(0) : 0.7552, f1(0) : 0.8594\n"
     ]
    }
   ],
   "source": [
    "from sklearn.naive_bayes import CategoricalNB\n",
    "catNB=CategoricalNB(fit_prior=False)\n",
    "catNB.fit(X_trn_over_dummy,y_trn_over)\n",
    "pred2=catNB.predict(X_tes_dummy)\n",
    "get_eval(y_tes,pred2)"
   ]
  },
  {
   "cell_type": "markdown",
   "id": "07a77edc",
   "metadata": {},
   "source": [
    "### Decision Tree"
   ]
  },
  {
   "cell_type": "code",
   "execution_count": 97,
   "id": "ba0b4b54",
   "metadata": {},
   "outputs": [
    {
     "name": "stdout",
     "output_type": "stream",
     "text": [
      "confusion matrix\n",
      "[[23668    83]\n",
      " [   60    96]]\n",
      "accuracy : 0.9940 , precision : 0.5363 , recall : 0.6154, F1 score : 0.5731 \n",
      " precision(0) : 0.9975 , recall(0) : 0.9965, f1(0) : 0.9970\n"
     ]
    }
   ],
   "source": [
    "from sklearn.tree import DecisionTreeClassifier\n",
    "from sklearn.model_selection import GridSearchCV\n",
    "\n",
    "tree=DecisionTreeClassifier(random_state=1000)\n",
    "tree.fit(X_trn_dummy,y_trn)\n",
    "pred3=tree.predict(X_tes_dummy)\n",
    "get_eval(y_tes,pred3)"
   ]
  },
  {
   "cell_type": "markdown",
   "id": "0d7ebba0",
   "metadata": {},
   "source": [
    "### Grid Search"
   ]
  },
  {
   "cell_type": "code",
   "execution_count": 69,
   "id": "f931299f",
   "metadata": {},
   "outputs": [
    {
     "name": "stderr",
     "output_type": "stream",
     "text": [
      "C:\\Users\\vmffl\\python\\lib\\site-packages\\sklearn\\model_selection\\_search.py:922: UserWarning: One or more of the test scores are non-finite: [       nan        nan 0.99305642 0.99307735 0.99295186        nan\n",
      "        nan 0.99319237 0.99327603 0.99303552        nan        nan\n",
      " 0.99324466 0.99333878 0.99282637        nan        nan 0.99298323\n",
      " 0.99312963 0.99295186        nan        nan 0.9930878  0.99311917\n",
      " 0.99275316        nan        nan 0.99327602 0.99320284 0.99294139\n",
      "        nan        nan 0.99322374 0.99317146 0.9929414         nan\n",
      "        nan 0.99327603 0.99309826 0.99287865        nan        nan\n",
      " 0.9933074  0.99315054 0.99283682        nan        nan 0.99380934\n",
      " 0.99366295 0.99370477        nan        nan 0.9936734  0.99386164\n",
      " 0.99370477        nan        nan 0.99353746 0.99362111 0.99369431\n",
      "        nan        nan 0.9936734  0.99372569 0.9937257         nan\n",
      "        nan 0.99381981 0.99375706 0.99381981        nan        nan\n",
      " 0.99375706 0.99376752 0.99378843        nan        nan 0.99376752\n",
      " 0.99378844 0.99350609        nan        nan 0.99358975 0.99398712\n",
      " 0.99380934        nan        nan 0.99373615 0.99375707 0.99385117]\n",
      "  warnings.warn(\n"
     ]
    },
    {
     "data": {
      "text/plain": [
       "{'criterion': 'entropy', 'max_depth': 22, 'min_samples_split': 3}"
      ]
     },
     "execution_count": 69,
     "metadata": {},
     "output_type": "execute_result"
    }
   ],
   "source": [
    "dt=DecisionTreeClassifier(random_state=1000)\n",
    "parm_dict={\"criterion\":['gini','entropy'],'max_depth':[15,16,17,18,19,20,21,22,23],'min_samples_split':range(0,5)}\n",
    "grid=GridSearchCV(dt,param_grid=parm_dict,cv=10,n_jobs=-1)\n",
    "grid.fit(X_trn_dummy,y_trn)\n",
    "grid.best_params_"
   ]
  },
  {
   "cell_type": "code",
   "execution_count": 70,
   "id": "c412372c",
   "metadata": {},
   "outputs": [
    {
     "name": "stdout",
     "output_type": "stream",
     "text": [
      "confusion matrix\n",
      "[[23677    74]\n",
      " [   70    86]]\n",
      "accuracy : 0.9940 , precision : 0.5375 , recall : 0.5513, F1 score : 0.5443 \n",
      " precision(0) : 0.9971 , recall(0) : 0.9969, f1(0) : 0.9970\n"
     ]
    }
   ],
   "source": [
    "pred3=grid.best_estimator_.predict(X_tes_dummy)\n",
    "get_eval(y_tes,pred3)"
   ]
  },
  {
   "cell_type": "markdown",
   "id": "e59af68c",
   "metadata": {},
   "source": [
    "### Random Forest"
   ]
  },
  {
   "cell_type": "code",
   "execution_count": 98,
   "id": "f4ba5a5c",
   "metadata": {},
   "outputs": [
    {
     "name": "stdout",
     "output_type": "stream",
     "text": [
      "confusion matrix\n",
      "[[23727    24]\n",
      " [   57    99]]\n",
      "accuracy : 0.9966 , precision : 0.8049 , recall : 0.6346, F1 score : 0.7097 \n",
      " precision(0) : 0.9976 , recall(0) : 0.9990, f1(0) : 0.9983\n"
     ]
    }
   ],
   "source": [
    "from sklearn.ensemble import RandomForestClassifier\n",
    "\n",
    "rdf_clf=RandomForestClassifier(random_state=1000)\n",
    "rdf_clf.fit(X_trn_over_dummy,y_trn_over)\n",
    "pred4=rdf_clf.predict(X_tes_dummy)\n",
    "get_eval(y_tes,pred4)"
   ]
  },
  {
   "cell_type": "markdown",
   "id": "88008cbf",
   "metadata": {},
   "source": [
    "### KNN"
   ]
  },
  {
   "cell_type": "code",
   "execution_count": 92,
   "id": "6c9f066f",
   "metadata": {},
   "outputs": [
    {
     "name": "stdout",
     "output_type": "stream",
     "text": [
      "confusion matrix\n",
      "[[23634   117]\n",
      " [   35   121]]\n",
      "accuracy : 0.9936 , precision : 0.5084 , recall : 0.7756, F1 score : 0.6142 \n",
      " precision(0) : 0.9985 , recall(0) : 0.9951, f1(0) : 0.9968\n"
     ]
    }
   ],
   "source": [
    "from sklearn.neighbors import KNeighborsClassifier\n",
    "\n",
    "knn_clf=KNeighborsClassifier(n_neighbors=3)\n",
    "knn_clf.fit(X_trn_over_dummy,y_trn_over)\n",
    "pred5=knn_clf.predict(X_tes_dummy)\n",
    "get_eval(y_tes,pred5)"
   ]
  },
  {
   "cell_type": "code",
   "execution_count": 18,
   "id": "bdbbe578",
   "metadata": {},
   "outputs": [],
   "source": [
    "X_trn_dummy= pd.get_dummies(X_trn,columns=nominal_col)"
   ]
  },
  {
   "cell_type": "markdown",
   "id": "047dadb4",
   "metadata": {},
   "source": [
    "### XG Boost"
   ]
  },
  {
   "cell_type": "code",
   "execution_count": 19,
   "id": "b7c8f06b",
   "metadata": {},
   "outputs": [],
   "source": [
    "import xgboost as xgb\n",
    "from xgboost import plot_importance\n",
    "\n",
    "dtrain=xgb.DMatrix(data=X_trn_dummy.values, label=y_trn)\n",
    "dtest=xgb.DMatrix(data=X_tes_dummy.values, label = y_tes)"
   ]
  },
  {
   "cell_type": "code",
   "execution_count": 101,
   "id": "4554f480",
   "metadata": {},
   "outputs": [
    {
     "name": "stdout",
     "output_type": "stream",
     "text": [
      "[23:52:30] WARNING: ..\\src\\learner.cc:541: \n",
      "Parameters: { early_stopping } might not be used.\n",
      "\n",
      "  This may not be accurate due to some parameters are only used in language bindings but\n",
      "  passed down to XGBoost core.  Or some parameters are not used but slip through this\n",
      "  verification. Please open an issue if you find above cases.\n",
      "\n",
      "\n",
      "[0]\ttrain-logloss:0.60052\teval-logloss:0.60045\n",
      "[1]\ttrain-logloss:0.52437\teval-logloss:0.52459\n",
      "[2]\ttrain-logloss:0.46101\teval-logloss:0.46130\n",
      "[3]\ttrain-logloss:0.40748\teval-logloss:0.40786\n",
      "[4]\ttrain-logloss:0.36169\teval-logloss:0.36223\n",
      "[5]\ttrain-logloss:0.32241\teval-logloss:0.32294\n",
      "[6]\ttrain-logloss:0.28822\teval-logloss:0.28893\n",
      "[7]\ttrain-logloss:0.25855\teval-logloss:0.25926\n",
      "[8]\ttrain-logloss:0.23255\teval-logloss:0.23334\n",
      "[9]\ttrain-logloss:0.20974\teval-logloss:0.21057\n",
      "[10]\ttrain-logloss:0.18949\teval-logloss:0.19043\n",
      "[11]\ttrain-logloss:0.17166\teval-logloss:0.17266\n",
      "[12]\ttrain-logloss:0.15577\teval-logloss:0.15683\n",
      "[13]\ttrain-logloss:0.14173\teval-logloss:0.14287\n",
      "[14]\ttrain-logloss:0.12922\teval-logloss:0.13044\n",
      "[15]\ttrain-logloss:0.11798\teval-logloss:0.11929\n",
      "[16]\ttrain-logloss:0.10798\teval-logloss:0.10939\n",
      "[17]\ttrain-logloss:0.09892\teval-logloss:0.10046\n",
      "[18]\ttrain-logloss:0.09089\teval-logloss:0.09254\n",
      "[19]\ttrain-logloss:0.08371\teval-logloss:0.08545\n",
      "[20]\ttrain-logloss:0.07717\teval-logloss:0.07908\n",
      "[21]\ttrain-logloss:0.07135\teval-logloss:0.07337\n",
      "[22]\ttrain-logloss:0.06608\teval-logloss:0.06822\n",
      "[23]\ttrain-logloss:0.06134\teval-logloss:0.06364\n",
      "[24]\ttrain-logloss:0.05704\teval-logloss:0.05948\n",
      "[25]\ttrain-logloss:0.05315\teval-logloss:0.05575\n",
      "[26]\ttrain-logloss:0.04967\teval-logloss:0.05238\n",
      "[27]\ttrain-logloss:0.04651\teval-logloss:0.04936\n",
      "[28]\ttrain-logloss:0.04373\teval-logloss:0.04667\n",
      "[29]\ttrain-logloss:0.04114\teval-logloss:0.04424\n",
      "[30]\ttrain-logloss:0.03871\teval-logloss:0.04193\n",
      "[31]\ttrain-logloss:0.03656\teval-logloss:0.03989\n",
      "[32]\ttrain-logloss:0.03455\teval-logloss:0.03801\n",
      "[33]\ttrain-logloss:0.03276\teval-logloss:0.03634\n",
      "[34]\ttrain-logloss:0.03121\teval-logloss:0.03486\n",
      "[35]\ttrain-logloss:0.02973\teval-logloss:0.03346\n",
      "[36]\ttrain-logloss:0.02843\teval-logloss:0.03224\n",
      "[37]\ttrain-logloss:0.02715\teval-logloss:0.03105\n",
      "[38]\ttrain-logloss:0.02593\teval-logloss:0.03001\n",
      "[39]\ttrain-logloss:0.02486\teval-logloss:0.02900\n",
      "[40]\ttrain-logloss:0.02385\teval-logloss:0.02807\n",
      "[41]\ttrain-logloss:0.02297\teval-logloss:0.02728\n",
      "[42]\ttrain-logloss:0.02216\teval-logloss:0.02652\n",
      "[43]\ttrain-logloss:0.02145\teval-logloss:0.02587\n",
      "[44]\ttrain-logloss:0.02073\teval-logloss:0.02524\n",
      "[45]\ttrain-logloss:0.02013\teval-logloss:0.02465\n",
      "[46]\ttrain-logloss:0.01950\teval-logloss:0.02404\n",
      "[47]\ttrain-logloss:0.01900\teval-logloss:0.02356\n",
      "[48]\ttrain-logloss:0.01850\teval-logloss:0.02311\n",
      "[49]\ttrain-logloss:0.01805\teval-logloss:0.02269\n",
      "[50]\ttrain-logloss:0.01758\teval-logloss:0.02225\n",
      "[51]\ttrain-logloss:0.01715\teval-logloss:0.02187\n",
      "[52]\ttrain-logloss:0.01669\teval-logloss:0.02148\n",
      "[53]\ttrain-logloss:0.01633\teval-logloss:0.02116\n",
      "[54]\ttrain-logloss:0.01594\teval-logloss:0.02081\n",
      "[55]\ttrain-logloss:0.01564\teval-logloss:0.02052\n",
      "[56]\ttrain-logloss:0.01536\teval-logloss:0.02029\n",
      "[57]\ttrain-logloss:0.01499\teval-logloss:0.01997\n",
      "[58]\ttrain-logloss:0.01470\teval-logloss:0.01975\n",
      "[59]\ttrain-logloss:0.01445\teval-logloss:0.01954\n",
      "[60]\ttrain-logloss:0.01420\teval-logloss:0.01930\n",
      "[61]\ttrain-logloss:0.01399\teval-logloss:0.01911\n",
      "[62]\ttrain-logloss:0.01375\teval-logloss:0.01895\n",
      "[63]\ttrain-logloss:0.01353\teval-logloss:0.01878\n",
      "[64]\ttrain-logloss:0.01331\teval-logloss:0.01859\n",
      "[65]\ttrain-logloss:0.01308\teval-logloss:0.01835\n",
      "[66]\ttrain-logloss:0.01287\teval-logloss:0.01821\n",
      "[67]\ttrain-logloss:0.01267\teval-logloss:0.01807\n",
      "[68]\ttrain-logloss:0.01247\teval-logloss:0.01791\n",
      "[69]\ttrain-logloss:0.01228\teval-logloss:0.01775\n",
      "[70]\ttrain-logloss:0.01210\teval-logloss:0.01756\n",
      "[71]\ttrain-logloss:0.01193\teval-logloss:0.01743\n",
      "[72]\ttrain-logloss:0.01176\teval-logloss:0.01728\n",
      "[73]\ttrain-logloss:0.01158\teval-logloss:0.01716\n",
      "[74]\ttrain-logloss:0.01145\teval-logloss:0.01710\n",
      "[75]\ttrain-logloss:0.01132\teval-logloss:0.01702\n",
      "[76]\ttrain-logloss:0.01117\teval-logloss:0.01688\n",
      "[77]\ttrain-logloss:0.01106\teval-logloss:0.01681\n",
      "[78]\ttrain-logloss:0.01097\teval-logloss:0.01673\n",
      "[79]\ttrain-logloss:0.01084\teval-logloss:0.01662\n",
      "[80]\ttrain-logloss:0.01069\teval-logloss:0.01650\n",
      "[81]\ttrain-logloss:0.01057\teval-logloss:0.01640\n",
      "[82]\ttrain-logloss:0.01042\teval-logloss:0.01631\n",
      "[83]\ttrain-logloss:0.01021\teval-logloss:0.01611\n",
      "[84]\ttrain-logloss:0.01012\teval-logloss:0.01609\n",
      "[85]\ttrain-logloss:0.01002\teval-logloss:0.01601\n",
      "[86]\ttrain-logloss:0.00982\teval-logloss:0.01588\n",
      "[87]\ttrain-logloss:0.00967\teval-logloss:0.01573\n",
      "[88]\ttrain-logloss:0.00957\teval-logloss:0.01564\n",
      "[89]\ttrain-logloss:0.00941\teval-logloss:0.01547\n",
      "[90]\ttrain-logloss:0.00929\teval-logloss:0.01536\n",
      "[91]\ttrain-logloss:0.00920\teval-logloss:0.01532\n",
      "[92]\ttrain-logloss:0.00915\teval-logloss:0.01526\n",
      "[93]\ttrain-logloss:0.00909\teval-logloss:0.01523\n",
      "[94]\ttrain-logloss:0.00903\teval-logloss:0.01518\n",
      "[95]\ttrain-logloss:0.00897\teval-logloss:0.01516\n",
      "[96]\ttrain-logloss:0.00884\teval-logloss:0.01506\n",
      "[97]\ttrain-logloss:0.00869\teval-logloss:0.01494\n",
      "[98]\ttrain-logloss:0.00858\teval-logloss:0.01489\n",
      "[99]\ttrain-logloss:0.00852\teval-logloss:0.01485\n",
      "[100]\ttrain-logloss:0.00841\teval-logloss:0.01475\n",
      "[101]\ttrain-logloss:0.00833\teval-logloss:0.01468\n",
      "[102]\ttrain-logloss:0.00820\teval-logloss:0.01459\n",
      "[103]\ttrain-logloss:0.00811\teval-logloss:0.01452\n",
      "[104]\ttrain-logloss:0.00805\teval-logloss:0.01450\n",
      "[105]\ttrain-logloss:0.00800\teval-logloss:0.01447\n",
      "[106]\ttrain-logloss:0.00796\teval-logloss:0.01445\n",
      "[107]\ttrain-logloss:0.00785\teval-logloss:0.01436\n",
      "[108]\ttrain-logloss:0.00775\teval-logloss:0.01429\n",
      "[109]\ttrain-logloss:0.00765\teval-logloss:0.01418\n",
      "[110]\ttrain-logloss:0.00760\teval-logloss:0.01418\n",
      "[111]\ttrain-logloss:0.00755\teval-logloss:0.01416\n",
      "[112]\ttrain-logloss:0.00746\teval-logloss:0.01408\n",
      "[113]\ttrain-logloss:0.00741\teval-logloss:0.01407\n",
      "[114]\ttrain-logloss:0.00728\teval-logloss:0.01395\n",
      "[115]\ttrain-logloss:0.00719\teval-logloss:0.01388\n",
      "[116]\ttrain-logloss:0.00711\teval-logloss:0.01384\n",
      "[117]\ttrain-logloss:0.00703\teval-logloss:0.01378\n",
      "[118]\ttrain-logloss:0.00698\teval-logloss:0.01374\n",
      "[119]\ttrain-logloss:0.00688\teval-logloss:0.01366\n",
      "[120]\ttrain-logloss:0.00679\teval-logloss:0.01359\n",
      "[121]\ttrain-logloss:0.00672\teval-logloss:0.01353\n",
      "[122]\ttrain-logloss:0.00662\teval-logloss:0.01344\n",
      "[123]\ttrain-logloss:0.00657\teval-logloss:0.01339\n",
      "[124]\ttrain-logloss:0.00648\teval-logloss:0.01332\n",
      "[125]\ttrain-logloss:0.00644\teval-logloss:0.01330\n",
      "[126]\ttrain-logloss:0.00634\teval-logloss:0.01322\n",
      "[127]\ttrain-logloss:0.00631\teval-logloss:0.01318\n",
      "[128]\ttrain-logloss:0.00626\teval-logloss:0.01315\n",
      "[129]\ttrain-logloss:0.00618\teval-logloss:0.01308\n",
      "[130]\ttrain-logloss:0.00609\teval-logloss:0.01298\n",
      "[131]\ttrain-logloss:0.00602\teval-logloss:0.01296\n",
      "[132]\ttrain-logloss:0.00596\teval-logloss:0.01291\n",
      "[133]\ttrain-logloss:0.00590\teval-logloss:0.01287\n",
      "[134]\ttrain-logloss:0.00581\teval-logloss:0.01281\n",
      "[135]\ttrain-logloss:0.00577\teval-logloss:0.01278\n",
      "[136]\ttrain-logloss:0.00569\teval-logloss:0.01269\n",
      "[137]\ttrain-logloss:0.00564\teval-logloss:0.01267\n",
      "[138]\ttrain-logloss:0.00557\teval-logloss:0.01261\n",
      "[139]\ttrain-logloss:0.00548\teval-logloss:0.01252\n",
      "[140]\ttrain-logloss:0.00543\teval-logloss:0.01249\n",
      "[141]\ttrain-logloss:0.00536\teval-logloss:0.01243\n",
      "[142]\ttrain-logloss:0.00532\teval-logloss:0.01239\n",
      "[143]\ttrain-logloss:0.00524\teval-logloss:0.01230\n",
      "[144]\ttrain-logloss:0.00519\teval-logloss:0.01224\n",
      "[145]\ttrain-logloss:0.00515\teval-logloss:0.01220\n",
      "[146]\ttrain-logloss:0.00509\teval-logloss:0.01213\n",
      "[147]\ttrain-logloss:0.00505\teval-logloss:0.01211\n",
      "[148]\ttrain-logloss:0.00501\teval-logloss:0.01208\n",
      "[149]\ttrain-logloss:0.00497\teval-logloss:0.01204\n",
      "[150]\ttrain-logloss:0.00490\teval-logloss:0.01197\n",
      "[151]\ttrain-logloss:0.00487\teval-logloss:0.01193\n",
      "[152]\ttrain-logloss:0.00485\teval-logloss:0.01192\n",
      "[153]\ttrain-logloss:0.00482\teval-logloss:0.01190\n",
      "[154]\ttrain-logloss:0.00480\teval-logloss:0.01189\n",
      "[155]\ttrain-logloss:0.00478\teval-logloss:0.01191\n",
      "[156]\ttrain-logloss:0.00469\teval-logloss:0.01185\n",
      "[157]\ttrain-logloss:0.00465\teval-logloss:0.01179\n",
      "[158]\ttrain-logloss:0.00460\teval-logloss:0.01176\n",
      "[159]\ttrain-logloss:0.00456\teval-logloss:0.01171\n",
      "[160]\ttrain-logloss:0.00452\teval-logloss:0.01168\n",
      "[161]\ttrain-logloss:0.00445\teval-logloss:0.01164\n",
      "[162]\ttrain-logloss:0.00440\teval-logloss:0.01163\n"
     ]
    },
    {
     "name": "stdout",
     "output_type": "stream",
     "text": [
      "[163]\ttrain-logloss:0.00434\teval-logloss:0.01157\n",
      "[164]\ttrain-logloss:0.00428\teval-logloss:0.01153\n",
      "[165]\ttrain-logloss:0.00425\teval-logloss:0.01150\n",
      "[166]\ttrain-logloss:0.00420\teval-logloss:0.01145\n",
      "[167]\ttrain-logloss:0.00417\teval-logloss:0.01143\n",
      "[168]\ttrain-logloss:0.00411\teval-logloss:0.01139\n",
      "[169]\ttrain-logloss:0.00409\teval-logloss:0.01137\n",
      "[170]\ttrain-logloss:0.00407\teval-logloss:0.01135\n",
      "[171]\ttrain-logloss:0.00405\teval-logloss:0.01133\n",
      "[172]\ttrain-logloss:0.00402\teval-logloss:0.01133\n",
      "[173]\ttrain-logloss:0.00399\teval-logloss:0.01133\n",
      "[174]\ttrain-logloss:0.00398\teval-logloss:0.01132\n",
      "[175]\ttrain-logloss:0.00394\teval-logloss:0.01130\n",
      "[176]\ttrain-logloss:0.00392\teval-logloss:0.01128\n",
      "[177]\ttrain-logloss:0.00389\teval-logloss:0.01125\n",
      "[178]\ttrain-logloss:0.00386\teval-logloss:0.01122\n",
      "[179]\ttrain-logloss:0.00383\teval-logloss:0.01123\n",
      "[180]\ttrain-logloss:0.00380\teval-logloss:0.01122\n",
      "[181]\ttrain-logloss:0.00378\teval-logloss:0.01121\n",
      "[182]\ttrain-logloss:0.00375\teval-logloss:0.01119\n",
      "[183]\ttrain-logloss:0.00372\teval-logloss:0.01115\n",
      "[184]\ttrain-logloss:0.00369\teval-logloss:0.01113\n",
      "[185]\ttrain-logloss:0.00366\teval-logloss:0.01110\n",
      "[186]\ttrain-logloss:0.00364\teval-logloss:0.01109\n",
      "[187]\ttrain-logloss:0.00361\teval-logloss:0.01106\n",
      "[188]\ttrain-logloss:0.00358\teval-logloss:0.01103\n",
      "[189]\ttrain-logloss:0.00355\teval-logloss:0.01102\n",
      "[190]\ttrain-logloss:0.00352\teval-logloss:0.01099\n",
      "[191]\ttrain-logloss:0.00349\teval-logloss:0.01098\n",
      "[192]\ttrain-logloss:0.00347\teval-logloss:0.01096\n",
      "[193]\ttrain-logloss:0.00346\teval-logloss:0.01094\n",
      "[194]\ttrain-logloss:0.00344\teval-logloss:0.01093\n",
      "[195]\ttrain-logloss:0.00342\teval-logloss:0.01092\n",
      "[196]\ttrain-logloss:0.00340\teval-logloss:0.01091\n",
      "[197]\ttrain-logloss:0.00338\teval-logloss:0.01089\n",
      "[198]\ttrain-logloss:0.00337\teval-logloss:0.01088\n",
      "[199]\ttrain-logloss:0.00334\teval-logloss:0.01085\n",
      "[200]\ttrain-logloss:0.00330\teval-logloss:0.01081\n",
      "[201]\ttrain-logloss:0.00327\teval-logloss:0.01079\n",
      "[202]\ttrain-logloss:0.00326\teval-logloss:0.01076\n",
      "[203]\ttrain-logloss:0.00323\teval-logloss:0.01074\n",
      "[204]\ttrain-logloss:0.00320\teval-logloss:0.01073\n",
      "[205]\ttrain-logloss:0.00318\teval-logloss:0.01072\n",
      "[206]\ttrain-logloss:0.00314\teval-logloss:0.01068\n",
      "[207]\ttrain-logloss:0.00312\teval-logloss:0.01065\n",
      "[208]\ttrain-logloss:0.00310\teval-logloss:0.01064\n",
      "[209]\ttrain-logloss:0.00309\teval-logloss:0.01063\n",
      "[210]\ttrain-logloss:0.00306\teval-logloss:0.01061\n",
      "[211]\ttrain-logloss:0.00304\teval-logloss:0.01058\n",
      "[212]\ttrain-logloss:0.00302\teval-logloss:0.01056\n",
      "[213]\ttrain-logloss:0.00300\teval-logloss:0.01055\n",
      "[214]\ttrain-logloss:0.00297\teval-logloss:0.01054\n",
      "[215]\ttrain-logloss:0.00295\teval-logloss:0.01050\n",
      "[216]\ttrain-logloss:0.00293\teval-logloss:0.01049\n",
      "[217]\ttrain-logloss:0.00291\teval-logloss:0.01047\n",
      "[218]\ttrain-logloss:0.00288\teval-logloss:0.01047\n",
      "[219]\ttrain-logloss:0.00287\teval-logloss:0.01046\n",
      "[220]\ttrain-logloss:0.00284\teval-logloss:0.01044\n",
      "[221]\ttrain-logloss:0.00282\teval-logloss:0.01044\n",
      "[222]\ttrain-logloss:0.00281\teval-logloss:0.01043\n",
      "[223]\ttrain-logloss:0.00280\teval-logloss:0.01042\n",
      "[224]\ttrain-logloss:0.00278\teval-logloss:0.01041\n",
      "[225]\ttrain-logloss:0.00276\teval-logloss:0.01039\n",
      "[226]\ttrain-logloss:0.00275\teval-logloss:0.01039\n",
      "[227]\ttrain-logloss:0.00273\teval-logloss:0.01039\n",
      "[228]\ttrain-logloss:0.00270\teval-logloss:0.01039\n",
      "[229]\ttrain-logloss:0.00269\teval-logloss:0.01037\n",
      "[230]\ttrain-logloss:0.00267\teval-logloss:0.01038\n",
      "[231]\ttrain-logloss:0.00266\teval-logloss:0.01037\n",
      "[232]\ttrain-logloss:0.00264\teval-logloss:0.01035\n",
      "[233]\ttrain-logloss:0.00262\teval-logloss:0.01035\n",
      "[234]\ttrain-logloss:0.00259\teval-logloss:0.01034\n",
      "[235]\ttrain-logloss:0.00258\teval-logloss:0.01033\n",
      "[236]\ttrain-logloss:0.00257\teval-logloss:0.01033\n",
      "[237]\ttrain-logloss:0.00257\teval-logloss:0.01034\n",
      "[238]\ttrain-logloss:0.00254\teval-logloss:0.01033\n",
      "[239]\ttrain-logloss:0.00253\teval-logloss:0.01032\n",
      "[240]\ttrain-logloss:0.00252\teval-logloss:0.01031\n",
      "[241]\ttrain-logloss:0.00251\teval-logloss:0.01030\n",
      "[242]\ttrain-logloss:0.00250\teval-logloss:0.01029\n",
      "[243]\ttrain-logloss:0.00249\teval-logloss:0.01029\n",
      "[244]\ttrain-logloss:0.00248\teval-logloss:0.01029\n",
      "[245]\ttrain-logloss:0.00247\teval-logloss:0.01029\n",
      "[246]\ttrain-logloss:0.00245\teval-logloss:0.01029\n",
      "[247]\ttrain-logloss:0.00244\teval-logloss:0.01028\n",
      "[248]\ttrain-logloss:0.00242\teval-logloss:0.01027\n",
      "[249]\ttrain-logloss:0.00240\teval-logloss:0.01026\n",
      "[250]\ttrain-logloss:0.00238\teval-logloss:0.01027\n",
      "[251]\ttrain-logloss:0.00237\teval-logloss:0.01026\n",
      "[252]\ttrain-logloss:0.00236\teval-logloss:0.01027\n",
      "[253]\ttrain-logloss:0.00235\teval-logloss:0.01026\n",
      "[254]\ttrain-logloss:0.00235\teval-logloss:0.01025\n",
      "[255]\ttrain-logloss:0.00233\teval-logloss:0.01024\n",
      "[256]\ttrain-logloss:0.00232\teval-logloss:0.01024\n",
      "[257]\ttrain-logloss:0.00231\teval-logloss:0.01025\n",
      "[258]\ttrain-logloss:0.00230\teval-logloss:0.01023\n",
      "[259]\ttrain-logloss:0.00229\teval-logloss:0.01023\n",
      "[260]\ttrain-logloss:0.00228\teval-logloss:0.01023\n",
      "[261]\ttrain-logloss:0.00227\teval-logloss:0.01024\n",
      "[262]\ttrain-logloss:0.00225\teval-logloss:0.01024\n",
      "[263]\ttrain-logloss:0.00225\teval-logloss:0.01024\n",
      "[264]\ttrain-logloss:0.00224\teval-logloss:0.01023\n",
      "[265]\ttrain-logloss:0.00223\teval-logloss:0.01024\n",
      "[266]\ttrain-logloss:0.00222\teval-logloss:0.01025\n",
      "[267]\ttrain-logloss:0.00221\teval-logloss:0.01023\n",
      "[268]\ttrain-logloss:0.00220\teval-logloss:0.01023\n",
      "[269]\ttrain-logloss:0.00220\teval-logloss:0.01023\n",
      "[270]\ttrain-logloss:0.00218\teval-logloss:0.01023\n",
      "[271]\ttrain-logloss:0.00217\teval-logloss:0.01022\n",
      "[272]\ttrain-logloss:0.00216\teval-logloss:0.01022\n",
      "[273]\ttrain-logloss:0.00215\teval-logloss:0.01022\n",
      "[274]\ttrain-logloss:0.00214\teval-logloss:0.01022\n",
      "[275]\ttrain-logloss:0.00214\teval-logloss:0.01023\n",
      "[276]\ttrain-logloss:0.00212\teval-logloss:0.01023\n",
      "[277]\ttrain-logloss:0.00211\teval-logloss:0.01023\n",
      "[278]\ttrain-logloss:0.00210\teval-logloss:0.01022\n",
      "[279]\ttrain-logloss:0.00210\teval-logloss:0.01021\n",
      "[280]\ttrain-logloss:0.00209\teval-logloss:0.01022\n",
      "[281]\ttrain-logloss:0.00209\teval-logloss:0.01022\n",
      "[282]\ttrain-logloss:0.00208\teval-logloss:0.01021\n",
      "[283]\ttrain-logloss:0.00207\teval-logloss:0.01022\n",
      "[284]\ttrain-logloss:0.00206\teval-logloss:0.01021\n",
      "[285]\ttrain-logloss:0.00205\teval-logloss:0.01020\n",
      "[286]\ttrain-logloss:0.00204\teval-logloss:0.01021\n",
      "[287]\ttrain-logloss:0.00204\teval-logloss:0.01020\n",
      "[288]\ttrain-logloss:0.00203\teval-logloss:0.01019\n",
      "[289]\ttrain-logloss:0.00202\teval-logloss:0.01019\n",
      "[290]\ttrain-logloss:0.00201\teval-logloss:0.01018\n",
      "[291]\ttrain-logloss:0.00200\teval-logloss:0.01018\n",
      "[292]\ttrain-logloss:0.00199\teval-logloss:0.01017\n",
      "[293]\ttrain-logloss:0.00198\teval-logloss:0.01017\n",
      "[294]\ttrain-logloss:0.00198\teval-logloss:0.01017\n",
      "[295]\ttrain-logloss:0.00197\teval-logloss:0.01017\n",
      "[296]\ttrain-logloss:0.00196\teval-logloss:0.01016\n",
      "[297]\ttrain-logloss:0.00195\teval-logloss:0.01016\n",
      "[298]\ttrain-logloss:0.00194\teval-logloss:0.01015\n",
      "[299]\ttrain-logloss:0.00193\teval-logloss:0.01015\n",
      "[300]\ttrain-logloss:0.00193\teval-logloss:0.01016\n",
      "[301]\ttrain-logloss:0.00192\teval-logloss:0.01016\n",
      "[302]\ttrain-logloss:0.00192\teval-logloss:0.01015\n",
      "[303]\ttrain-logloss:0.00191\teval-logloss:0.01015\n",
      "[304]\ttrain-logloss:0.00190\teval-logloss:0.01014\n",
      "[305]\ttrain-logloss:0.00189\teval-logloss:0.01015\n",
      "[306]\ttrain-logloss:0.00189\teval-logloss:0.01016\n",
      "[307]\ttrain-logloss:0.00188\teval-logloss:0.01016\n",
      "[308]\ttrain-logloss:0.00187\teval-logloss:0.01016\n",
      "[309]\ttrain-logloss:0.00187\teval-logloss:0.01016\n",
      "[310]\ttrain-logloss:0.00186\teval-logloss:0.01016\n",
      "[311]\ttrain-logloss:0.00186\teval-logloss:0.01016\n",
      "[312]\ttrain-logloss:0.00185\teval-logloss:0.01016\n",
      "[313]\ttrain-logloss:0.00184\teval-logloss:0.01015\n",
      "[314]\ttrain-logloss:0.00184\teval-logloss:0.01015\n",
      "[315]\ttrain-logloss:0.00184\teval-logloss:0.01015\n",
      "[316]\ttrain-logloss:0.00183\teval-logloss:0.01016\n",
      "[317]\ttrain-logloss:0.00183\teval-logloss:0.01016\n",
      "[318]\ttrain-logloss:0.00182\teval-logloss:0.01016\n",
      "[319]\ttrain-logloss:0.00182\teval-logloss:0.01016\n",
      "[320]\ttrain-logloss:0.00181\teval-logloss:0.01016\n",
      "[321]\ttrain-logloss:0.00180\teval-logloss:0.01015\n",
      "[322]\ttrain-logloss:0.00179\teval-logloss:0.01016\n",
      "[323]\ttrain-logloss:0.00179\teval-logloss:0.01016\n",
      "[324]\ttrain-logloss:0.00178\teval-logloss:0.01016\n",
      "[325]\ttrain-logloss:0.00177\teval-logloss:0.01016\n",
      "[326]\ttrain-logloss:0.00176\teval-logloss:0.01015\n",
      "[327]\ttrain-logloss:0.00176\teval-logloss:0.01015\n",
      "[328]\ttrain-logloss:0.00175\teval-logloss:0.01014\n",
      "[329]\ttrain-logloss:0.00175\teval-logloss:0.01013\n",
      "[330]\ttrain-logloss:0.00174\teval-logloss:0.01013\n"
     ]
    },
    {
     "name": "stdout",
     "output_type": "stream",
     "text": [
      "[331]\ttrain-logloss:0.00173\teval-logloss:0.01013\n",
      "[332]\ttrain-logloss:0.00173\teval-logloss:0.01014\n",
      "[333]\ttrain-logloss:0.00172\teval-logloss:0.01013\n",
      "[334]\ttrain-logloss:0.00172\teval-logloss:0.01014\n",
      "[335]\ttrain-logloss:0.00172\teval-logloss:0.01014\n",
      "[336]\ttrain-logloss:0.00171\teval-logloss:0.01014\n",
      "[337]\ttrain-logloss:0.00171\teval-logloss:0.01013\n",
      "[338]\ttrain-logloss:0.00170\teval-logloss:0.01014\n",
      "[339]\ttrain-logloss:0.00169\teval-logloss:0.01015\n",
      "[340]\ttrain-logloss:0.00169\teval-logloss:0.01014\n",
      "[341]\ttrain-logloss:0.00169\teval-logloss:0.01014\n",
      "[342]\ttrain-logloss:0.00168\teval-logloss:0.01015\n",
      "[343]\ttrain-logloss:0.00168\teval-logloss:0.01014\n",
      "[344]\ttrain-logloss:0.00167\teval-logloss:0.01015\n",
      "[345]\ttrain-logloss:0.00167\teval-logloss:0.01015\n",
      "[346]\ttrain-logloss:0.00166\teval-logloss:0.01015\n",
      "[347]\ttrain-logloss:0.00166\teval-logloss:0.01015\n",
      "[348]\ttrain-logloss:0.00165\teval-logloss:0.01015\n",
      "[349]\ttrain-logloss:0.00165\teval-logloss:0.01014\n",
      "[350]\ttrain-logloss:0.00165\teval-logloss:0.01015\n",
      "[351]\ttrain-logloss:0.00164\teval-logloss:0.01015\n",
      "[352]\ttrain-logloss:0.00164\teval-logloss:0.01015\n",
      "[353]\ttrain-logloss:0.00163\teval-logloss:0.01014\n",
      "[354]\ttrain-logloss:0.00163\teval-logloss:0.01014\n",
      "[355]\ttrain-logloss:0.00163\teval-logloss:0.01015\n",
      "[356]\ttrain-logloss:0.00163\teval-logloss:0.01015\n",
      "[357]\ttrain-logloss:0.00162\teval-logloss:0.01015\n",
      "[358]\ttrain-logloss:0.00162\teval-logloss:0.01015\n",
      "[359]\ttrain-logloss:0.00161\teval-logloss:0.01016\n",
      "[360]\ttrain-logloss:0.00161\teval-logloss:0.01015\n",
      "[361]\ttrain-logloss:0.00161\teval-logloss:0.01014\n",
      "[362]\ttrain-logloss:0.00160\teval-logloss:0.01013\n",
      "[363]\ttrain-logloss:0.00160\teval-logloss:0.01014\n",
      "[364]\ttrain-logloss:0.00160\teval-logloss:0.01014\n",
      "[365]\ttrain-logloss:0.00159\teval-logloss:0.01013\n",
      "[366]\ttrain-logloss:0.00159\teval-logloss:0.01013\n",
      "[367]\ttrain-logloss:0.00159\teval-logloss:0.01013\n",
      "[368]\ttrain-logloss:0.00159\teval-logloss:0.01013\n",
      "[369]\ttrain-logloss:0.00158\teval-logloss:0.01013\n",
      "[370]\ttrain-logloss:0.00158\teval-logloss:0.01013\n",
      "[371]\ttrain-logloss:0.00157\teval-logloss:0.01013\n",
      "[372]\ttrain-logloss:0.00157\teval-logloss:0.01012\n",
      "[373]\ttrain-logloss:0.00157\teval-logloss:0.01012\n",
      "[374]\ttrain-logloss:0.00156\teval-logloss:0.01012\n",
      "[375]\ttrain-logloss:0.00156\teval-logloss:0.01012\n",
      "[376]\ttrain-logloss:0.00156\teval-logloss:0.01012\n",
      "[377]\ttrain-logloss:0.00155\teval-logloss:0.01012\n",
      "[378]\ttrain-logloss:0.00155\teval-logloss:0.01012\n",
      "[379]\ttrain-logloss:0.00154\teval-logloss:0.01013\n",
      "[380]\ttrain-logloss:0.00154\teval-logloss:0.01012\n",
      "[381]\ttrain-logloss:0.00153\teval-logloss:0.01011\n",
      "[382]\ttrain-logloss:0.00153\teval-logloss:0.01011\n",
      "[383]\ttrain-logloss:0.00152\teval-logloss:0.01012\n",
      "[384]\ttrain-logloss:0.00152\teval-logloss:0.01012\n",
      "[385]\ttrain-logloss:0.00152\teval-logloss:0.01012\n",
      "[386]\ttrain-logloss:0.00152\teval-logloss:0.01013\n",
      "[387]\ttrain-logloss:0.00151\teval-logloss:0.01013\n",
      "[388]\ttrain-logloss:0.00151\teval-logloss:0.01013\n",
      "[389]\ttrain-logloss:0.00151\teval-logloss:0.01013\n",
      "[390]\ttrain-logloss:0.00150\teval-logloss:0.01013\n",
      "[391]\ttrain-logloss:0.00150\teval-logloss:0.01013\n",
      "[392]\ttrain-logloss:0.00150\teval-logloss:0.01013\n",
      "[393]\ttrain-logloss:0.00149\teval-logloss:0.01013\n",
      "[394]\ttrain-logloss:0.00149\teval-logloss:0.01013\n",
      "[395]\ttrain-logloss:0.00149\teval-logloss:0.01013\n",
      "[396]\ttrain-logloss:0.00148\teval-logloss:0.01013\n",
      "[397]\ttrain-logloss:0.00148\teval-logloss:0.01013\n",
      "[398]\ttrain-logloss:0.00148\teval-logloss:0.01013\n",
      "[399]\ttrain-logloss:0.00148\teval-logloss:0.01014\n",
      "[400]\ttrain-logloss:0.00147\teval-logloss:0.01013\n",
      "[401]\ttrain-logloss:0.00147\teval-logloss:0.01013\n",
      "[402]\ttrain-logloss:0.00147\teval-logloss:0.01014\n",
      "[403]\ttrain-logloss:0.00147\teval-logloss:0.01015\n",
      "[404]\ttrain-logloss:0.00146\teval-logloss:0.01017\n",
      "[405]\ttrain-logloss:0.00146\teval-logloss:0.01017\n",
      "[406]\ttrain-logloss:0.00146\teval-logloss:0.01017\n",
      "[407]\ttrain-logloss:0.00145\teval-logloss:0.01017\n",
      "[408]\ttrain-logloss:0.00145\teval-logloss:0.01017\n",
      "[409]\ttrain-logloss:0.00145\teval-logloss:0.01017\n",
      "[410]\ttrain-logloss:0.00145\teval-logloss:0.01018\n",
      "[411]\ttrain-logloss:0.00144\teval-logloss:0.01017\n",
      "[412]\ttrain-logloss:0.00144\teval-logloss:0.01017\n",
      "[413]\ttrain-logloss:0.00144\teval-logloss:0.01018\n",
      "[414]\ttrain-logloss:0.00144\teval-logloss:0.01018\n",
      "[415]\ttrain-logloss:0.00143\teval-logloss:0.01018\n",
      "[416]\ttrain-logloss:0.00143\teval-logloss:0.01018\n",
      "[417]\ttrain-logloss:0.00143\teval-logloss:0.01018\n",
      "[418]\ttrain-logloss:0.00142\teval-logloss:0.01017\n",
      "[419]\ttrain-logloss:0.00142\teval-logloss:0.01018\n",
      "[420]\ttrain-logloss:0.00142\teval-logloss:0.01018\n",
      "[421]\ttrain-logloss:0.00142\teval-logloss:0.01018\n",
      "[422]\ttrain-logloss:0.00142\teval-logloss:0.01018\n",
      "[423]\ttrain-logloss:0.00141\teval-logloss:0.01019\n",
      "[424]\ttrain-logloss:0.00141\teval-logloss:0.01019\n",
      "[425]\ttrain-logloss:0.00141\teval-logloss:0.01020\n",
      "[426]\ttrain-logloss:0.00140\teval-logloss:0.01020\n",
      "[427]\ttrain-logloss:0.00140\teval-logloss:0.01021\n",
      "[428]\ttrain-logloss:0.00140\teval-logloss:0.01021\n",
      "[429]\ttrain-logloss:0.00140\teval-logloss:0.01021\n",
      "[430]\ttrain-logloss:0.00140\teval-logloss:0.01021\n",
      "[431]\ttrain-logloss:0.00139\teval-logloss:0.01022\n",
      "[432]\ttrain-logloss:0.00139\teval-logloss:0.01021\n",
      "[433]\ttrain-logloss:0.00139\teval-logloss:0.01021\n",
      "[434]\ttrain-logloss:0.00139\teval-logloss:0.01021\n",
      "[435]\ttrain-logloss:0.00138\teval-logloss:0.01021\n",
      "[436]\ttrain-logloss:0.00138\teval-logloss:0.01020\n",
      "[437]\ttrain-logloss:0.00138\teval-logloss:0.01021\n",
      "[438]\ttrain-logloss:0.00138\teval-logloss:0.01021\n",
      "[439]\ttrain-logloss:0.00138\teval-logloss:0.01020\n",
      "[440]\ttrain-logloss:0.00138\teval-logloss:0.01019\n",
      "[441]\ttrain-logloss:0.00137\teval-logloss:0.01020\n",
      "[442]\ttrain-logloss:0.00137\teval-logloss:0.01020\n",
      "[443]\ttrain-logloss:0.00137\teval-logloss:0.01019\n",
      "[444]\ttrain-logloss:0.00137\teval-logloss:0.01019\n",
      "[445]\ttrain-logloss:0.00136\teval-logloss:0.01020\n",
      "[446]\ttrain-logloss:0.00136\teval-logloss:0.01020\n",
      "[447]\ttrain-logloss:0.00136\teval-logloss:0.01019\n",
      "[448]\ttrain-logloss:0.00136\teval-logloss:0.01020\n",
      "[449]\ttrain-logloss:0.00136\teval-logloss:0.01020\n",
      "[450]\ttrain-logloss:0.00136\teval-logloss:0.01020\n",
      "[451]\ttrain-logloss:0.00136\teval-logloss:0.01020\n",
      "[452]\ttrain-logloss:0.00135\teval-logloss:0.01020\n",
      "[453]\ttrain-logloss:0.00135\teval-logloss:0.01020\n",
      "[454]\ttrain-logloss:0.00135\teval-logloss:0.01020\n",
      "[455]\ttrain-logloss:0.00135\teval-logloss:0.01020\n",
      "[456]\ttrain-logloss:0.00135\teval-logloss:0.01020\n",
      "[457]\ttrain-logloss:0.00134\teval-logloss:0.01020\n",
      "[458]\ttrain-logloss:0.00134\teval-logloss:0.01020\n",
      "[459]\ttrain-logloss:0.00134\teval-logloss:0.01019\n",
      "[460]\ttrain-logloss:0.00134\teval-logloss:0.01019\n",
      "[461]\ttrain-logloss:0.00134\teval-logloss:0.01019\n",
      "[462]\ttrain-logloss:0.00133\teval-logloss:0.01019\n",
      "[463]\ttrain-logloss:0.00133\teval-logloss:0.01019\n",
      "[464]\ttrain-logloss:0.00133\teval-logloss:0.01019\n",
      "[465]\ttrain-logloss:0.00133\teval-logloss:0.01019\n",
      "[466]\ttrain-logloss:0.00133\teval-logloss:0.01019\n",
      "[467]\ttrain-logloss:0.00132\teval-logloss:0.01018\n",
      "[468]\ttrain-logloss:0.00132\teval-logloss:0.01018\n",
      "[469]\ttrain-logloss:0.00132\teval-logloss:0.01018\n",
      "[470]\ttrain-logloss:0.00132\teval-logloss:0.01018\n",
      "[471]\ttrain-logloss:0.00132\teval-logloss:0.01018\n",
      "[472]\ttrain-logloss:0.00131\teval-logloss:0.01018\n",
      "[473]\ttrain-logloss:0.00131\teval-logloss:0.01018\n",
      "[474]\ttrain-logloss:0.00131\teval-logloss:0.01018\n",
      "[475]\ttrain-logloss:0.00131\teval-logloss:0.01018\n",
      "[476]\ttrain-logloss:0.00131\teval-logloss:0.01018\n",
      "[477]\ttrain-logloss:0.00130\teval-logloss:0.01017\n",
      "[478]\ttrain-logloss:0.00130\teval-logloss:0.01017\n",
      "[479]\ttrain-logloss:0.00130\teval-logloss:0.01017\n",
      "[480]\ttrain-logloss:0.00129\teval-logloss:0.01017\n",
      "[481]\ttrain-logloss:0.00129\teval-logloss:0.01017\n"
     ]
    }
   ],
   "source": [
    "params={'max_depth':8,'eta':0.1,'objective':'binary:logistic','eval_metric':'logloss','early_stopping':100}\n",
    "wlist=[(dtrain,'train'),(dtest,'eval')]\n",
    "xgb_model=xgb.train(params=params,dtrain=dtrain,num_boost_round=600,early_stopping_rounds=100,evals=wlist)"
   ]
  },
  {
   "cell_type": "code",
   "execution_count": 102,
   "id": "7ff4088f",
   "metadata": {},
   "outputs": [
    {
     "name": "stdout",
     "output_type": "stream",
     "text": [
      "confusion matrix\n",
      "[[23737    14]\n",
      " [   56   100]]\n",
      "accuracy : 0.9971 , precision : 0.8772 , recall : 0.6410, F1 score : 0.7407 \n",
      " precision(0) : 0.9976 , recall(0) : 0.9994, f1(0) : 0.9985\n"
     ]
    }
   ],
   "source": [
    "pred_probs=xgb_model.predict(dtest)\n",
    "pred6=[1 if x>0.5 else 0 for x in pred_probs]\n",
    "get_eval(y_tes,pred6)"
   ]
  },
  {
   "cell_type": "markdown",
   "id": "b3556756",
   "metadata": {},
   "source": [
    "### Model Comparison"
   ]
  },
  {
   "cell_type": "code",
   "execution_count": 28,
   "id": "55052bfc",
   "metadata": {},
   "outputs": [],
   "source": [
    "def get_eval_list(y_test,pred_value):\n",
    "    pred_list=[]\n",
    "    pred_list.append(np.round(accuracy_score(y_test,pred_value),4))\n",
    "    pred_list.append(np.round(precision_score(y_test,pred_value),4))\n",
    "    pred_list.append(np.round(recall_score(y_test,pred_value),4))\n",
    "    pred_list.append(np.round(f1_score(y_test,pred_value),4))\n",
    "    return pred_list"
   ]
  },
  {
   "cell_type": "code",
   "execution_count": 93,
   "id": "4e493cf8",
   "metadata": {},
   "outputs": [
    {
     "name": "stdout",
     "output_type": "stream",
     "text": [
      "[0.8443, 0.0328, 0.8013, 0.0629] \n",
      " [0.7546, 0.0176, 0.6667, 0.0342] \n",
      " [0.9936, 0.5084, 0.7756, 0.6142] \n",
      " [0.9966, 0.8049, 0.6346, 0.7097] \n",
      " [0.9969, 0.8868, 0.6026, 0.7176] \n",
      " [0.994, 0.5363, 0.6154, 0.5731]\n"
     ]
    }
   ],
   "source": [
    "logistic=get_eval_list(y_tes,pred)\n",
    "nb=get_eval_list(y_tes,pred2)\n",
    "knn=get_eval_list(y_tes,pred5)\n",
    "rf=get_eval_list(y_tes,pred4)\n",
    "xg=get_eval_list(y_tes,pred6)\n",
    "tree=get_eval_list(y_tes,pred3)\n",
    "print(logistic,'\\n',nb,'\\n',knn,'\\n',rf,'\\n',xg,'\\n',tree)"
   ]
  },
  {
   "cell_type": "code",
   "execution_count": 94,
   "id": "cb28ff12",
   "metadata": {},
   "outputs": [
    {
     "data": {
      "text/html": [
       "<div>\n",
       "<style scoped>\n",
       "    .dataframe tbody tr th:only-of-type {\n",
       "        vertical-align: middle;\n",
       "    }\n",
       "\n",
       "    .dataframe tbody tr th {\n",
       "        vertical-align: top;\n",
       "    }\n",
       "\n",
       "    .dataframe thead th {\n",
       "        text-align: right;\n",
       "    }\n",
       "</style>\n",
       "<table border=\"1\" class=\"dataframe\">\n",
       "  <thead>\n",
       "    <tr style=\"text-align: right;\">\n",
       "      <th></th>\n",
       "      <th>Logistic</th>\n",
       "      <th>NB</th>\n",
       "      <th>KNN</th>\n",
       "      <th>DT</th>\n",
       "      <th>RF</th>\n",
       "      <th>XG</th>\n",
       "    </tr>\n",
       "  </thead>\n",
       "  <tbody>\n",
       "    <tr>\n",
       "      <th>Accuracy</th>\n",
       "      <td>0.8443</td>\n",
       "      <td>0.7546</td>\n",
       "      <td>0.9936</td>\n",
       "      <td>0.9940</td>\n",
       "      <td>0.9966</td>\n",
       "      <td>0.9969</td>\n",
       "    </tr>\n",
       "    <tr>\n",
       "      <th>Precision(1)</th>\n",
       "      <td>0.0328</td>\n",
       "      <td>0.0176</td>\n",
       "      <td>0.5084</td>\n",
       "      <td>0.5363</td>\n",
       "      <td>0.8049</td>\n",
       "      <td>0.8868</td>\n",
       "    </tr>\n",
       "    <tr>\n",
       "      <th>Recall(1)</th>\n",
       "      <td>0.8013</td>\n",
       "      <td>0.6667</td>\n",
       "      <td>0.7756</td>\n",
       "      <td>0.6154</td>\n",
       "      <td>0.6346</td>\n",
       "      <td>0.6026</td>\n",
       "    </tr>\n",
       "    <tr>\n",
       "      <th>F1_Score(1)</th>\n",
       "      <td>0.0629</td>\n",
       "      <td>0.0342</td>\n",
       "      <td>0.6142</td>\n",
       "      <td>0.5731</td>\n",
       "      <td>0.7097</td>\n",
       "      <td>0.7176</td>\n",
       "    </tr>\n",
       "  </tbody>\n",
       "</table>\n",
       "</div>"
      ],
      "text/plain": [
       "              Logistic      NB     KNN      DT      RF      XG\n",
       "Accuracy        0.8443  0.7546  0.9936  0.9940  0.9966  0.9969\n",
       "Precision(1)    0.0328  0.0176  0.5084  0.5363  0.8049  0.8868\n",
       "Recall(1)       0.8013  0.6667  0.7756  0.6154  0.6346  0.6026\n",
       "F1_Score(1)     0.0629  0.0342  0.6142  0.5731  0.7097  0.7176"
      ]
     },
     "execution_count": 94,
     "metadata": {},
     "output_type": "execute_result"
    }
   ],
   "source": [
    "eval_matrix=pd.DataFrame(columns=['Logistic','NB','KNN','DT','RF','XG'],index=['Accuracy','Precision(1)','Recall(1)','F1_Score(1)'])\n",
    "eval_matrix['Logistic']=logistic\n",
    "eval_matrix['NB']=nb\n",
    "eval_matrix['KNN']=knn\n",
    "eval_matrix['RF']=rf\n",
    "eval_matrix['XG']=xg\n",
    "eval_matrix['DT']=tree\n",
    "eval_matrix"
   ]
  },
  {
   "cell_type": "code",
   "execution_count": 95,
   "id": "6c8a0b75",
   "metadata": {},
   "outputs": [
    {
     "data": {
      "image/png": "[encoded data removed]",
      "text/plain": [
       "<Figure size 800x600 with 1 Axes>"
      ]
     },
     "metadata": {},
     "output_type": "display_data"
    }
   ],
   "source": [
    "eval_matrix.plot(kind='bar',figsize=(8,6),rot=0)\n",
    "plt.show()"
   ]
  },
  {
   "cell_type": "code",
   "execution_count": 100,
   "id": "c4fc466a",
   "metadata": {},
   "outputs": [
    {
     "data": {
      "image/png": "[encoded data removed]",
      "text/plain": [
       "<Figure size 800x600 with 1 Axes>"
      ]
     },
     "metadata": {},
     "output_type": "display_data"
    }
   ],
   "source": [
    "from sklearn.metrics import precision_recall_curve\n",
    "from sklearn.metrics import plot_precision_recall_curve\n",
    "import matplotlib.pyplot as plt\n",
    "\n",
    "plt.figure(figsize=(8,6))\n",
    "plot_precision_recall_curve(clf, X_tes_dummy, y_tes, ax = plt.gca(), name = \"Logistic\")\n",
    "plot_precision_recall_curve(catNB, X_tes_dummy, y_tes,ax = plt.gca(),name = \"NaiveBayes\")\n",
    "plot_precision_recall_curve(rdf_clf, X_tes_dummy, y_tes,ax = plt.gca(),name = \"RandomForest\")\n",
    "plot_precision_recall_curve(tree, X_tes_dummy, y_tes,ax = plt.gca(),name = \"DecisionTree\")\n",
    "plot_precision_recall_curve(knn_clf, X_tes_dummy, y_tes,ax = plt.gca(),name = \"KNN\")\n",
    "plt.show()"
   ]
  }
 ],
 "metadata": {
  "kernelspec": {
   "display_name": "Python 3",
   "language": "python",
   "name": "python3"
  },
  "language_info": {
   "codemirror_mode": {
    "name": "ipython",
    "version": 3
   },
   "file_extension": ".py",
   "mimetype": "text/x-python",
   "name": "python",
   "nbconvert_exporter": "python",
   "pygments_lexer": "ipython3",
   "version": "3.8.3"
  }
 },
 "nbformat": 4,
 "nbformat_minor": 5
}
