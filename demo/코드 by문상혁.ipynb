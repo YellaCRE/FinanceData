{
 "cells": [
  {
   "cell_type": "markdown",
   "id": "d33afdf3",
   "metadata": {},
   "source": [
    "# 통합 데이터 전처리"
   ]
  },
  {
   "cell_type": "code",
   "execution_count": 3,
   "id": "3b58c49a",
   "metadata": {},
   "outputs": [],
   "source": [
    "import pandas as pd\n",
    "data=pd.read_csv(\"C:/bank.csv\")\n",
    "Y=data[['TARGET']]\n",
    "X=data.drop(['Unnamed: 0','TARGET'],axis=1)\n",
    "X.iloc[:,[42,43,44,63,64,65,66,67]] = X.iloc[:,[42,43,44,63,64,65,66,67]].astype('category')\n",
    "X.iloc[:,[42,43,44,63,64,65,66,67]]=X.iloc[:,[42,43,44,63,64,65,66,67]].replace([1,2],[0,1])\n",
    "from sklearn.model_selection import train_test_split\n",
    "X_train, X_test, Y_train, Y_test=train_test_split(X,Y,test_size=0.3,random_state=1004)\n",
    "from imblearn.over_sampling import SMOTENC\n",
    "smote_nc = SMOTENC(categorical_features=[42,43,44,63,64,65,66,67], random_state=0)\n",
    "X_smotenc, Y_smotenc = smote_nc.fit_resample(X_train, Y_train)"
   ]
  },
  {
   "cell_type": "markdown",
   "id": "e779ab01",
   "metadata": {},
   "source": [
    "# Logistic Regression"
   ]
  },
  {
   "cell_type": "code",
   "execution_count": 6,
   "id": "6b3092db",
   "metadata": {},
   "outputs": [
    {
     "name": "stderr",
     "output_type": "stream",
     "text": [
      "C:\\Users\\noble\\Anaconda3\\lib\\site-packages\\sklearn\\utils\\validation.py:63: DataConversionWarning: A column-vector y was passed when a 1d array was expected. Please change the shape of y to (n_samples, ), for example using ravel().\n",
      "  return f(*args, **kwargs)\n"
     ]
    },
    {
     "name": "stdout",
     "output_type": "stream",
     "text": [
      "0.8501157246033295\n",
      "(array([0.99845023, 0.03722443]), array([0.8503707 , 0.81422925]), array([0.91848032, 0.07119406]), array([35608,   253], dtype=int64))\n"
     ]
    },
    {
     "name": "stderr",
     "output_type": "stream",
     "text": [
      "C:\\Users\\noble\\Anaconda3\\lib\\site-packages\\sklearn\\linear_model\\_logistic.py:763: ConvergenceWarning: lbfgs failed to converge (status=1):\n",
      "STOP: TOTAL NO. of ITERATIONS REACHED LIMIT.\n",
      "\n",
      "Increase the number of iterations (max_iter) or scale the data as shown in:\n",
      "    https://scikit-learn.org/stable/modules/preprocessing.html\n",
      "Please also refer to the documentation for alternative solver options:\n",
      "    https://scikit-learn.org/stable/modules/linear_model.html#logistic-regression\n",
      "  n_iter_i = _check_optimize_result(\n"
     ]
    }
   ],
   "source": [
    "#smotenc\n",
    "from sklearn.linear_model import LogisticRegression\n",
    "log=LogisticRegression()\n",
    "log.fit(X_smotenc,Y_smotenc)\n",
    "Y_pred_log=log.predict(X_test)\n",
    "#성능평가\n",
    "from sklearn import metrics\n",
    "log_accuracy=metrics.accuracy_score(Y_test,Y_pred_log)\n",
    "log_score=metrics.precision_recall_fscore_support(Y_test,Y_pred_log)\n",
    "print(log_accuracy)\n",
    "print(log_score)"
   ]
  },
  {
   "cell_type": "markdown",
   "id": "0fd97a0f",
   "metadata": {},
   "source": [
    "# Decision Tree"
   ]
  },
  {
   "cell_type": "code",
   "execution_count": 7,
   "id": "bdddad80",
   "metadata": {},
   "outputs": [
    {
     "name": "stdout",
     "output_type": "stream",
     "text": [
      "0.741892306405287\n",
      "(array([0.99875085, 0.02329768]), array([0.74098517, 0.86956522]), array([0.85077226, 0.04537954]), array([35608,   253], dtype=int64))\n"
     ]
    }
   ],
   "source": [
    "#smotenc\n",
    "from sklearn.tree import DecisionTreeClassifier\n",
    "t1=DecisionTreeClassifier(max_depth=4, min_samples_split=50, min_samples_leaf=25)\n",
    "t1.fit(X_smotenc,Y_smotenc)\n",
    "Y_pred_dt=t1.predict(X_test)\n",
    "#성능평가\n",
    "tree_accuracy=metrics.accuracy_score(Y_test,Y_pred_dt)\n",
    "tree_score=metrics.precision_recall_fscore_support(Y_test,Y_pred_dt)\n",
    "print(tree_accuracy)\n",
    "print(tree_score)"
   ]
  },
  {
   "cell_type": "markdown",
   "id": "aa944cac",
   "metadata": {},
   "source": [
    "# Naive Bayes"
   ]
  },
  {
   "cell_type": "code",
   "execution_count": 8,
   "id": "9c0c9154",
   "metadata": {},
   "outputs": [
    {
     "name": "stderr",
     "output_type": "stream",
     "text": [
      "C:\\Users\\noble\\Anaconda3\\lib\\site-packages\\sklearn\\utils\\validation.py:63: DataConversionWarning: A column-vector y was passed when a 1d array was expected. Please change the shape of y to (n_samples, ), for example using ravel().\n",
      "  return f(*args, **kwargs)\n"
     ]
    },
    {
     "name": "stdout",
     "output_type": "stream",
     "text": [
      "0.7564206240762946\n",
      "(array([0.99637962, 0.01762966]), array([0.75744215, 0.61264822]), array([0.86063468, 0.03427308]), array([35608,   253], dtype=int64))\n"
     ]
    }
   ],
   "source": [
    "#smotenc\n",
    "from sklearn.naive_bayes import CategoricalNB\n",
    "catNB1=CategoricalNB()\n",
    "catNB1.fit(X_smotenc,Y_smotenc)\n",
    "Y_pred_nb=catNB1.predict(X_test)\n",
    "#성능평가\n",
    "naive_accuracy=metrics.accuracy_score(Y_test,Y_pred_nb)\n",
    "naive_score=metrics.precision_recall_fscore_support(Y_test,Y_pred_nb)\n",
    "print(naive_accuracy)\n",
    "print(naive_score)"
   ]
  },
  {
   "cell_type": "markdown",
   "id": "930d60d5",
   "metadata": {},
   "source": [
    "# Random Forest"
   ]
  },
  {
   "cell_type": "code",
   "execution_count": 9,
   "id": "b854bc50",
   "metadata": {},
   "outputs": [
    {
     "name": "stderr",
     "output_type": "stream",
     "text": [
      "C:\\Users\\noble\\AppData\\Local\\Temp/ipykernel_18128/2966508572.py:4: DataConversionWarning: A column-vector y was passed when a 1d array was expected. Please change the shape of y to (n_samples,), for example using ravel().\n",
      "  clf.fit(X_smotenc,Y_smotenc)\n"
     ]
    },
    {
     "name": "stdout",
     "output_type": "stream",
     "text": [
      "0.8759655335880204\n",
      "(array([0.99868766, 0.04589738]), array([0.87623568, 0.83794466]), array([0.93346298, 0.08702791]), array([35608,   253], dtype=int64))\n"
     ]
    }
   ],
   "source": [
    "#smotenc\n",
    "from sklearn.ensemble import RandomForestClassifier\n",
    "clf = RandomForestClassifier(n_estimators=20, max_depth=5,random_state=0)\n",
    "clf.fit(X_smotenc,Y_smotenc)\n",
    "Y_pred_rf=clf.predict(X_test)\n",
    "#성능평가\n",
    "forest_accuracy=metrics.accuracy_score(Y_test,Y_pred_rf)\n",
    "forest_score=metrics.precision_recall_fscore_support(Y_test,Y_pred_rf)\n",
    "print(forest_accuracy)\n",
    "print(forest_score)"
   ]
  },
  {
   "cell_type": "markdown",
   "id": "5aa7946d",
   "metadata": {},
   "source": [
    "# Multi Layer Perceptron"
   ]
  },
  {
   "cell_type": "code",
   "execution_count": 13,
   "id": "dc173e70",
   "metadata": {},
   "outputs": [
    {
     "name": "stderr",
     "output_type": "stream",
     "text": [
      "C:\\Users\\noble\\Anaconda3\\lib\\site-packages\\sklearn\\utils\\validation.py:63: DataConversionWarning: A column-vector y was passed when a 1d array was expected. Please change the shape of y to (n_samples, ), for example using ravel().\n",
      "  return f(*args, **kwargs)\n"
     ]
    },
    {
     "name": "stdout",
     "output_type": "stream",
     "text": [
      "0.6991439167898273\n",
      "(array([0.99963764, 0.02213353]), array([0.69725904, 0.96442688]), array([0.82150716, 0.04327392]), array([35608,   253], dtype=int64))\n"
     ]
    }
   ],
   "source": [
    "#smotenc\n",
    "from sklearn.neural_network import MLPClassifier\n",
    "mlp = MLPClassifier(hidden_layer_sizes=(10,), activation='logistic', solver='sgd', alpha=0.01, batch_size=32,learning_rate_init=0.1, max_iter=500)  \n",
    "mlp.fit(X_smotenc, Y_smotenc)\n",
    "Y_pred_mlp = mlp.predict(X_test)\n",
    "#성능 평가\n",
    "mlp_accuracy=metrics.accuracy_score(Y_test,Y_pred_mlp)\n",
    "mlp_score=metrics.precision_recall_fscore_support(Y_test,Y_pred_mlp)\n",
    "print(mlp_accuracy)\n",
    "print(mlp_score)"
   ]
  },
  {
   "cell_type": "markdown",
   "id": "099534b0",
   "metadata": {},
   "source": [
    "# Factorization Machine"
   ]
  },
  {
   "cell_type": "code",
   "execution_count": 12,
   "id": "b1b7eea2",
   "metadata": {},
   "outputs": [
    {
     "name": "stdout",
     "output_type": "stream",
     "text": [
      "0.8276958255486462\n",
      "(array([0.99807061, 0.03102248]), array([0.82807234, 0.77470356]), array([0.90515878, 0.05965606]), array([35608,   253], dtype=int64))\n"
     ]
    }
   ],
   "source": [
    "import xlearn as xl\n",
    "import numpy as np\n",
    "# DMatrix transition, if use field ,use must pass field map(an array) of features\n",
    "xdm_train = xl.DMatrix(X_smotenc, Y_smotenc)\n",
    "xdm_test = xl.DMatrix(X_test, Y_test)\n",
    "# Training task\n",
    "fm_model = xl.create_fm()  # Use factorization machine\n",
    "# we use the same API for train from file\n",
    "# that is, you can also pass xl.DMatrix for this API now\n",
    "fm_model.setTrain(xdm_train)    # Training data\n",
    "fm_model.setValidate(xdm_test)  # Validation data\n",
    "# param:\n",
    "#  0. regression task\n",
    "#  1. learning rate: 0.2\n",
    "#  2. regular lambda: 0.002\n",
    "#  3. evaluation metric: mae\n",
    "param = {'task':'binary', 'lr':0.03,\n",
    "         'lambda':0.0001, 'metric':'acc'}\n",
    "# Start to train\n",
    "# The trained model will be stored in model.out\n",
    "fm_model.fit(param, './modeldm.out')\n",
    "# Prediction task\n",
    "# we use the same API for test from file\n",
    "# that is, you can also pass xl.DMatrix for this API now\n",
    "fm_model.setTest(xdm_test)  # Test data\n",
    "fm_model.setSign() # Convert output to 0,1\n",
    "# Start to predict\n",
    "# The output result will be stored in output.txt\n",
    "# if no result out path setted, we return res as numpy.ndarray\n",
    "Y_pred_fm = fm_model.predict(\"./modeldm.out\")\n",
    "#성능 평가\n",
    "from sklearn import metrics\n",
    "fm_accuracy=metrics.accuracy_score(Y_test,Y_pred_fm)\n",
    "fm_score=metrics.precision_recall_fscore_support(Y_test,Y_pred_fm)\n",
    "print(fm_accuracy)\n",
    "print(fm_score)"
   ]
  },
  {
   "cell_type": "code",
   "execution_count": null,
   "id": "fd5e7f63",
   "metadata": {},
   "outputs": [],
   "source": []
  }
 ],
 "metadata": {
  "kernelspec": {
   "display_name": "Python 3 (ipykernel)",
   "language": "python",
   "name": "python3"
  },
  "language_info": {
   "codemirror_mode": {
    "name": "ipython",
    "version": 3
   },
   "file_extension": ".py",
   "mimetype": "text/x-python",
   "name": "python",
   "nbconvert_exporter": "python",
   "pygments_lexer": "ipython3",
   "version": "3.8.5"
  }
 },
 "nbformat": 4,
 "nbformat_minor": 5
}
