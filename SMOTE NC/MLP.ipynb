{
 "cells": [
  {
   "cell_type": "code",
   "execution_count": 10,
   "id": "ba238405",
   "metadata": {},
   "outputs": [],
   "source": [
    "import pandas as pd\n",
    "import numpy as np\n",
    "from sklearn.model_selection import train_test_split\n",
    "from imblearn.over_sampling import SMOTENC\n",
    "from sklearn.neural_network import MLPClassifier\n",
    "from sklearn.preprocessing import StandardScaler\n",
    "from sklearn import metrics"
   ]
  },
  {
   "cell_type": "code",
   "execution_count": 2,
   "id": "1b1a30e0",
   "metadata": {},
   "outputs": [
    {
     "name": "stdout",
     "output_type": "stream",
     "text": [
      "(119535, 93)\n"
     ]
    }
   ],
   "source": [
    "data=pd.read_csv('C:/Users/HCJ/Desktop/2021_Summer/Finance_data/bank.csv',index_col=0)\n",
    "data.iloc[:,[43,44,45,64,65,66,67,68]] = data.iloc[:,[43,44,45,64,65,66,67,68]].replace({1:0,2:1})\n",
    "print(data.shape)"
   ]
  },
  {
   "cell_type": "code",
   "execution_count": 3,
   "id": "5ef99f59",
   "metadata": {},
   "outputs": [
    {
     "name": "stdout",
     "output_type": "stream",
     "text": [
      "(95628, 93)\n",
      "(23907, 93)\n"
     ]
    }
   ],
   "source": [
    "train_data, test_data = train_test_split(data,test_size=0.2, random_state=100)\n",
    "print(train_data.shape)\n",
    "print(test_data.shape)"
   ]
  },
  {
   "cell_type": "code",
   "execution_count": 4,
   "id": "4fd0fbba",
   "metadata": {},
   "outputs": [],
   "source": [
    "X_train = train_data.iloc[:,1:]\n",
    "y_train = train_data['TARGET']\n",
    "X_test = test_data.iloc[:,1:]\n",
    "y_test = test_data['TARGET']"
   ]
  },
  {
   "cell_type": "code",
   "execution_count": 5,
   "id": "830377e9",
   "metadata": {},
   "outputs": [
    {
     "data": {
      "text/html": [
       "<div>\n",
       "<style scoped>\n",
       "    .dataframe tbody tr th:only-of-type {\n",
       "        vertical-align: middle;\n",
       "    }\n",
       "\n",
       "    .dataframe tbody tr th {\n",
       "        vertical-align: top;\n",
       "    }\n",
       "\n",
       "    .dataframe thead th {\n",
       "        text-align: right;\n",
       "    }\n",
       "</style>\n",
       "<table border=\"1\" class=\"dataframe\">\n",
       "  <thead>\n",
       "    <tr style=\"text-align: right;\">\n",
       "      <th></th>\n",
       "      <th>J_F1_LON_RK_3M_CNT_RE</th>\n",
       "      <th>J_F1_OTHER_LON_6M_AVBL_AM_RE</th>\n",
       "      <th>J_F1_OTHER_LON_MAX_3M_AM_RE</th>\n",
       "      <th>J_SHINBO_GIBO_AM_RE</th>\n",
       "      <th>J_TOT_LON_CNT_RE</th>\n",
       "      <th>J_TOT_LON_AGG_AM_RE</th>\n",
       "      <th>J_TOT_LON_MAX_AM_RE</th>\n",
       "      <th>J_DPS_CT_BAL_AM_RE</th>\n",
       "      <th>J_TOT_DPS_1M_AVBL_AM_RE</th>\n",
       "      <th>J_TOT_DPS_6M_AVBL_AM_RE</th>\n",
       "      <th>...</th>\n",
       "      <th>P_BR_CNTC_1M_CNT_RE</th>\n",
       "      <th>P_BR_CNTC_6M_CNT_RE</th>\n",
       "      <th>P_ATM_CNTC_6M_CNT_RE</th>\n",
       "      <th>P_INT_CNTC_6M_CNT_RE</th>\n",
       "      <th>P_TOT_LON_CNT_RE</th>\n",
       "      <th>P_TOT_LON_AGG_AM_RE</th>\n",
       "      <th>P_TOT_TS_6M_CNT_RE</th>\n",
       "      <th>P_TOT_TS_6M_AM_RE</th>\n",
       "      <th>P_OB_TS_6M_CNT_RE</th>\n",
       "      <th>P_OB_TS_6M_AM_RE</th>\n",
       "    </tr>\n",
       "  </thead>\n",
       "  <tbody>\n",
       "    <tr>\n",
       "      <th>114140</th>\n",
       "      <td>1</td>\n",
       "      <td>2</td>\n",
       "      <td>3</td>\n",
       "      <td>1</td>\n",
       "      <td>3</td>\n",
       "      <td>3</td>\n",
       "      <td>3</td>\n",
       "      <td>2</td>\n",
       "      <td>2</td>\n",
       "      <td>3</td>\n",
       "      <td>...</td>\n",
       "      <td>1</td>\n",
       "      <td>1</td>\n",
       "      <td>1</td>\n",
       "      <td>1</td>\n",
       "      <td>1</td>\n",
       "      <td>1</td>\n",
       "      <td>1</td>\n",
       "      <td>1</td>\n",
       "      <td>1</td>\n",
       "      <td>1</td>\n",
       "    </tr>\n",
       "    <tr>\n",
       "      <th>17613</th>\n",
       "      <td>1</td>\n",
       "      <td>1</td>\n",
       "      <td>2</td>\n",
       "      <td>1</td>\n",
       "      <td>1</td>\n",
       "      <td>1</td>\n",
       "      <td>1</td>\n",
       "      <td>1</td>\n",
       "      <td>1</td>\n",
       "      <td>1</td>\n",
       "      <td>...</td>\n",
       "      <td>1</td>\n",
       "      <td>1</td>\n",
       "      <td>1</td>\n",
       "      <td>1</td>\n",
       "      <td>1</td>\n",
       "      <td>1</td>\n",
       "      <td>1</td>\n",
       "      <td>1</td>\n",
       "      <td>1</td>\n",
       "      <td>1</td>\n",
       "    </tr>\n",
       "    <tr>\n",
       "      <th>30297</th>\n",
       "      <td>3</td>\n",
       "      <td>3</td>\n",
       "      <td>3</td>\n",
       "      <td>1</td>\n",
       "      <td>1</td>\n",
       "      <td>1</td>\n",
       "      <td>1</td>\n",
       "      <td>1</td>\n",
       "      <td>1</td>\n",
       "      <td>1</td>\n",
       "      <td>...</td>\n",
       "      <td>1</td>\n",
       "      <td>1</td>\n",
       "      <td>3</td>\n",
       "      <td>2</td>\n",
       "      <td>3</td>\n",
       "      <td>3</td>\n",
       "      <td>3</td>\n",
       "      <td>3</td>\n",
       "      <td>3</td>\n",
       "      <td>3</td>\n",
       "    </tr>\n",
       "    <tr>\n",
       "      <th>54831</th>\n",
       "      <td>2</td>\n",
       "      <td>3</td>\n",
       "      <td>3</td>\n",
       "      <td>1</td>\n",
       "      <td>1</td>\n",
       "      <td>1</td>\n",
       "      <td>1</td>\n",
       "      <td>2</td>\n",
       "      <td>2</td>\n",
       "      <td>2</td>\n",
       "      <td>...</td>\n",
       "      <td>1</td>\n",
       "      <td>1</td>\n",
       "      <td>1</td>\n",
       "      <td>2</td>\n",
       "      <td>1</td>\n",
       "      <td>1</td>\n",
       "      <td>1</td>\n",
       "      <td>1</td>\n",
       "      <td>1</td>\n",
       "      <td>1</td>\n",
       "    </tr>\n",
       "    <tr>\n",
       "      <th>117127</th>\n",
       "      <td>3</td>\n",
       "      <td>3</td>\n",
       "      <td>4</td>\n",
       "      <td>2</td>\n",
       "      <td>1</td>\n",
       "      <td>1</td>\n",
       "      <td>1</td>\n",
       "      <td>1</td>\n",
       "      <td>1</td>\n",
       "      <td>1</td>\n",
       "      <td>...</td>\n",
       "      <td>1</td>\n",
       "      <td>1</td>\n",
       "      <td>1</td>\n",
       "      <td>1</td>\n",
       "      <td>1</td>\n",
       "      <td>1</td>\n",
       "      <td>1</td>\n",
       "      <td>1</td>\n",
       "      <td>1</td>\n",
       "      <td>1</td>\n",
       "    </tr>\n",
       "  </tbody>\n",
       "</table>\n",
       "<p>5 rows × 92 columns</p>\n",
       "</div>"
      ],
      "text/plain": [
       "        J_F1_LON_RK_3M_CNT_RE  J_F1_OTHER_LON_6M_AVBL_AM_RE  \\\n",
       "114140                      1                             2   \n",
       "17613                       1                             1   \n",
       "30297                       3                             3   \n",
       "54831                       2                             3   \n",
       "117127                      3                             3   \n",
       "\n",
       "        J_F1_OTHER_LON_MAX_3M_AM_RE  J_SHINBO_GIBO_AM_RE  J_TOT_LON_CNT_RE  \\\n",
       "114140                            3                    1                 3   \n",
       "17613                             2                    1                 1   \n",
       "30297                             3                    1                 1   \n",
       "54831                             3                    1                 1   \n",
       "117127                            4                    2                 1   \n",
       "\n",
       "        J_TOT_LON_AGG_AM_RE  J_TOT_LON_MAX_AM_RE  J_DPS_CT_BAL_AM_RE  \\\n",
       "114140                    3                    3                   2   \n",
       "17613                     1                    1                   1   \n",
       "30297                     1                    1                   1   \n",
       "54831                     1                    1                   2   \n",
       "117127                    1                    1                   1   \n",
       "\n",
       "        J_TOT_DPS_1M_AVBL_AM_RE  J_TOT_DPS_6M_AVBL_AM_RE  ...  \\\n",
       "114140                        2                        3  ...   \n",
       "17613                         1                        1  ...   \n",
       "30297                         1                        1  ...   \n",
       "54831                         2                        2  ...   \n",
       "117127                        1                        1  ...   \n",
       "\n",
       "        P_BR_CNTC_1M_CNT_RE  P_BR_CNTC_6M_CNT_RE  P_ATM_CNTC_6M_CNT_RE  \\\n",
       "114140                    1                    1                     1   \n",
       "17613                     1                    1                     1   \n",
       "30297                     1                    1                     3   \n",
       "54831                     1                    1                     1   \n",
       "117127                    1                    1                     1   \n",
       "\n",
       "        P_INT_CNTC_6M_CNT_RE  P_TOT_LON_CNT_RE  P_TOT_LON_AGG_AM_RE  \\\n",
       "114140                     1                 1                    1   \n",
       "17613                      1                 1                    1   \n",
       "30297                      2                 3                    3   \n",
       "54831                      2                 1                    1   \n",
       "117127                     1                 1                    1   \n",
       "\n",
       "        P_TOT_TS_6M_CNT_RE  P_TOT_TS_6M_AM_RE  P_OB_TS_6M_CNT_RE  \\\n",
       "114140                   1                  1                  1   \n",
       "17613                    1                  1                  1   \n",
       "30297                    3                  3                  3   \n",
       "54831                    1                  1                  1   \n",
       "117127                   1                  1                  1   \n",
       "\n",
       "        P_OB_TS_6M_AM_RE  \n",
       "114140                 1  \n",
       "17613                  1  \n",
       "30297                  3  \n",
       "54831                  1  \n",
       "117127                 1  \n",
       "\n",
       "[5 rows x 92 columns]"
      ]
     },
     "execution_count": 5,
     "metadata": {},
     "output_type": "execute_result"
    }
   ],
   "source": [
    "X_train.head()"
   ]
  },
  {
   "cell_type": "code",
   "execution_count": 6,
   "id": "5e2fe78c",
   "metadata": {},
   "outputs": [
    {
     "data": {
      "text/plain": [
       "114140    0\n",
       "17613     0\n",
       "30297     0\n",
       "54831     0\n",
       "117127    0\n",
       "Name: TARGET, dtype: int64"
      ]
     },
     "execution_count": 6,
     "metadata": {},
     "output_type": "execute_result"
    }
   ],
   "source": [
    "y_train.head()"
   ]
  },
  {
   "cell_type": "code",
   "execution_count": 7,
   "id": "093ad5ae",
   "metadata": {},
   "outputs": [],
   "source": [
    "smotenc = SMOTENC(categorical_features = [42,43,44,63,64,65,66,67])\n",
    "X_train_samp, y_train_samp = smotenc.fit_resample(X_train,y_train)"
   ]
  },
  {
   "cell_type": "code",
   "execution_count": 11,
   "id": "50207f5f",
   "metadata": {},
   "outputs": [
    {
     "name": "stdout",
     "output_type": "stream",
     "text": [
      "0.7634165725519723\n",
      "              0           1\n",
      "0      0.998622    0.022735\n",
      "1      0.762915    0.839744\n",
      "2      0.864999    0.044272\n",
      "3  23751.000000  156.000000\n"
     ]
    }
   ],
   "source": [
    "#MLP 샘플링 smotenc test1\n",
    "mlp2 = MLPClassifier(hidden_layer_sizes=(10,), activation='logistic', solver='sgd', alpha=0.01, batch_size=32,learning_rate_init=0.1, max_iter=500)  \n",
    "mlp2.fit(X_train_samp, y_train_samp)\n",
    "Y_pred2 = mlp2.predict(X_test)\n",
    "#성능 평가\n",
    "mlp_accuracy=metrics.accuracy_score(y_test,Y_pred2)\n",
    "mlp_score=metrics.precision_recall_fscore_support(y_test,Y_pred2)\n",
    "\n",
    "print(mlp_accuracy)\n",
    "print(pd.DataFrame(mlp_score))"
   ]
  },
  {
   "cell_type": "code",
   "execution_count": 12,
   "id": "769bc406",
   "metadata": {},
   "outputs": [
    {
     "name": "stdout",
     "output_type": "stream",
     "text": [
      "0.88689505165851\n",
      "              0           1\n",
      "0      0.998154    0.042056\n",
      "1      0.887794    0.750000\n",
      "2      0.939745    0.079646\n",
      "3  23751.000000  156.000000\n"
     ]
    }
   ],
   "source": [
    "#MLP 샘플링 smotenc test2\n",
    "mlp2 = MLPClassifier(hidden_layer_sizes=(10,), activation='logistic', solver='sgd', alpha=0.01, batch_size=32,learning_rate_init=0.1, max_iter=500)  \n",
    "mlp2.fit(X_train_samp, y_train_samp)\n",
    "Y_pred2 = mlp2.predict(X_test)\n",
    "#성능 평가\n",
    "mlp_accuracy=metrics.accuracy_score(y_test,Y_pred2)\n",
    "mlp_score=metrics.precision_recall_fscore_support(y_test,Y_pred2)\n",
    "\n",
    "print(mlp_accuracy)\n",
    "print(pd.DataFrame(mlp_score))"
   ]
  },
  {
   "cell_type": "code",
   "execution_count": 37,
   "id": "fbdb0878",
   "metadata": {},
   "outputs": [
    {
     "name": "stdout",
     "output_type": "stream",
     "text": [
      "0.793533274773079\n",
      "              0           1\n",
      "0      0.998305    0.024662\n",
      "1      0.793524    0.794872\n",
      "2      0.884213    0.047840\n",
      "3  23751.000000  156.000000\n"
     ]
    }
   ],
   "source": [
    "#MLP bagging test1\n",
    "from sklearn.ensemble import BaggingClassifier\n",
    "bag_clf = BaggingClassifier(MLPClassifier(hidden_layer_sizes=(10,), activation='logistic', solver='sgd', alpha=0.01, batch_size=32,learning_rate_init=0.1, max_iter=500),\n",
    "                           n_estimators=500,\n",
    "                           max_samples=100,\n",
    "                           bootstrap=True,\n",
    "                           n_jobs=-1)\n",
    "model = bag_clf.fit(X_train_samp, y_train_samp)\n",
    "y_pred = model.predict(X_test)\n",
    "#성능 평가\n",
    "mlp_accuracy=metrics.accuracy_score(y_test,y_pred)\n",
    "mlp_score=metrics.precision_recall_fscore_support(y_test,y_pred)\n",
    "\n",
    "print(mlp_accuracy)\n",
    "print(pd.DataFrame(mlp_score))"
   ]
  },
  {
   "cell_type": "code",
   "execution_count": 38,
   "id": "333a64b5",
   "metadata": {
    "scrolled": true
   },
   "outputs": [
    {
     "name": "stdout",
     "output_type": "stream",
     "text": [
      "0.762203538712511\n",
      "              0           1\n",
      "0      0.998565    0.022456\n",
      "1      0.761736    0.833333\n",
      "2      0.864219    0.043734\n",
      "3  23751.000000  156.000000\n"
     ]
    }
   ],
   "source": [
    "#MLP bagging test2\n",
    "from sklearn.ensemble import BaggingClassifier\n",
    "bag_clf = BaggingClassifier(MLPClassifier(hidden_layer_sizes=(10,), activation='logistic', solver='sgd', alpha=0.01, batch_size=32,learning_rate_init=0.1, max_iter=500),\n",
    "                           n_estimators=500,\n",
    "                           max_samples=100,\n",
    "                           bootstrap=True,\n",
    "                           n_jobs=-1)\n",
    "model = bag_clf.fit(X_train_samp, y_train_samp)\n",
    "y_pred = model.predict(X_test)\n",
    "#성능 평가\n",
    "mlp_accuracy=metrics.accuracy_score(y_test,y_pred)\n",
    "mlp_score=metrics.precision_recall_fscore_support(y_test,y_pred)\n",
    "\n",
    "print(mlp_accuracy)\n",
    "print(pd.DataFrame(mlp_score))"
   ]
  },
  {
   "cell_type": "code",
   "execution_count": 39,
   "id": "87f4ff67",
   "metadata": {},
   "outputs": [
    {
     "name": "stdout",
     "output_type": "stream",
     "text": [
      "0.762203538712511\n",
      "              0           1\n",
      "0      0.998565    0.022456\n",
      "1      0.761736    0.833333\n",
      "2      0.864219    0.043734\n",
      "3  23751.000000  156.000000\n"
     ]
    }
   ],
   "source": [
    "#AdaBoostClassifier test1\n",
    "from sklearn.ensemble import AdaBoostClassifier\n",
    "ada_clf = AdaBoostClassifier(n_estimators=50,\n",
    "                         learning_rate=1)\n",
    "ada_clf.fit(X_train_samp, y_train_samp)\n",
    "y_pred = bag_clf.predict(X_test)\n",
    "#성능 평가\n",
    "mlp_accuracy=metrics.accuracy_score(y_test,y_pred)\n",
    "mlp_score=metrics.precision_recall_fscore_support(y_test,y_pred)\n",
    "\n",
    "print(mlp_accuracy)\n",
    "print(pd.DataFrame(mlp_score))"
   ]
  },
  {
   "cell_type": "code",
   "execution_count": 40,
   "id": "1871e280",
   "metadata": {},
   "outputs": [
    {
     "name": "stdout",
     "output_type": "stream",
     "text": [
      "0.762203538712511\n",
      "              0           1\n",
      "0      0.998565    0.022456\n",
      "1      0.761736    0.833333\n",
      "2      0.864219    0.043734\n",
      "3  23751.000000  156.000000\n"
     ]
    }
   ],
   "source": [
    "#AdaBoostClassifier test2\n",
    "from sklearn.ensemble import AdaBoostClassifier\n",
    "ada_clf = AdaBoostClassifier(n_estimators=50,\n",
    "                         learning_rate=1)\n",
    "ada_clf.fit(X_train_samp, y_train_samp)\n",
    "y_pred = bag_clf.predict(X_test)\n",
    "#성능 평가\n",
    "mlp_accuracy=metrics.accuracy_score(y_test,y_pred)\n",
    "mlp_score=metrics.precision_recall_fscore_support(y_test,y_pred)\n",
    "\n",
    "print(mlp_accuracy)\n",
    "print(pd.DataFrame(mlp_score))"
   ]
  },
  {
   "cell_type": "code",
   "execution_count": 48,
   "id": "9c4980d8",
   "metadata": {},
   "outputs": [
    {
     "name": "stdout",
     "output_type": "stream",
     "text": [
      "0.7750867946626511\n",
      "              0           1\n",
      "0      0.999131    0.025450\n",
      "1      0.774283    0.897436\n",
      "2      0.872453    0.049496\n",
      "3  23751.000000  156.000000\n"
     ]
    }
   ],
   "source": [
    "#VotingClassifier test1\n",
    "from sklearn.ensemble import VotingClassifier\n",
    "mlp1 = MLPClassifier(hidden_layer_sizes=(10,), activation='logistic', solver='sgd', alpha=0.01, batch_size=32,learning_rate_init=0.1, max_iter=500)\n",
    "mlp2 = MLPClassifier(hidden_layer_sizes=(10,), activation='logistic', solver='sgd', alpha=0.01, batch_size=32,learning_rate_init=0.1, max_iter=500)\n",
    "mlp3 = MLPClassifier(hidden_layer_sizes=(10,), activation='logistic', solver='sgd', alpha=0.01, batch_size=32,learning_rate_init=0.1, max_iter=500)\n",
    "mlp4 = MLPClassifier(hidden_layer_sizes=(10,), activation='logistic', solver='sgd', alpha=0.01, batch_size=32,learning_rate_init=0.1, max_iter=500)\n",
    "\n",
    "vo_clf=VotingClassifier(estimators=[('M1',mlp1),('M2',mlp2), ('M3',mlp3), ('M4',mlp4)],voting='soft')\n",
    "vo_clf.fit(X_train_samp, y_train_samp)\n",
    "y_pred=vo_clf.predict(X_test)\n",
    "#성능 평가\n",
    "mlp_accuracy=metrics.accuracy_score(y_test,y_pred)\n",
    "mlp_score=metrics.precision_recall_fscore_support(y_test,y_pred)\n",
    "\n",
    "print(mlp_accuracy)\n",
    "print(pd.DataFrame(mlp_score))"
   ]
  },
  {
   "cell_type": "code",
   "execution_count": 49,
   "id": "e984ccd7",
   "metadata": {},
   "outputs": [
    {
     "name": "stdout",
     "output_type": "stream",
     "text": [
      "0.7473961601204668\n",
      "              0           1\n",
      "0      0.999211    0.023026\n",
      "1      0.746326    0.910256\n",
      "2      0.854450    0.044915\n",
      "3  23751.000000  156.000000\n"
     ]
    }
   ],
   "source": [
    "#VotingClassifier test2\n",
    "from sklearn.ensemble import VotingClassifier\n",
    "mlp1 = MLPClassifier(hidden_layer_sizes=(10,), activation='logistic', solver='sgd', alpha=0.01, batch_size=32,learning_rate_init=0.1, max_iter=500)\n",
    "mlp2 = MLPClassifier(hidden_layer_sizes=(10,), activation='logistic', solver='sgd', alpha=0.01, batch_size=32,learning_rate_init=0.1, max_iter=500)\n",
    "mlp3 = MLPClassifier(hidden_layer_sizes=(10,), activation='logistic', solver='sgd', alpha=0.01, batch_size=32,learning_rate_init=0.1, max_iter=500)\n",
    "mlp4 = MLPClassifier(hidden_layer_sizes=(10,), activation='logistic', solver='sgd', alpha=0.01, batch_size=32,learning_rate_init=0.1, max_iter=500)\n",
    "\n",
    "vo_clf=VotingClassifier(estimators=[('M1',mlp1),('M2',mlp2),('M3',mlp3),('M4',mlp4)],voting='soft')\n",
    "vo_clf.fit(X_train_samp, y_train_samp)\n",
    "y_pred=vo_clf.predict(X_test)\n",
    "#성능 평가\n",
    "mlp_accuracy=metrics.accuracy_score(y_test,y_pred)\n",
    "mlp_score=metrics.precision_recall_fscore_support(y_test,y_pred)\n",
    "\n",
    "print(mlp_accuracy)\n",
    "print(pd.DataFrame(mlp_score))"
   ]
  },
  {
   "cell_type": "code",
   "execution_count": null,
   "id": "02c59e5a",
   "metadata": {},
   "outputs": [],
   "source": []
  }
 ],
 "metadata": {
  "kernelspec": {
   "display_name": "Python 3",
   "language": "python",
   "name": "python3"
  },
  "language_info": {
   "codemirror_mode": {
    "name": "ipython",
    "version": 3
   },
   "file_extension": ".py",
   "mimetype": "text/x-python",
   "name": "python",
   "nbconvert_exporter": "python",
   "pygments_lexer": "ipython3",
   "version": "3.8.8"
  }
 },
 "nbformat": 4,
 "nbformat_minor": 5
}
