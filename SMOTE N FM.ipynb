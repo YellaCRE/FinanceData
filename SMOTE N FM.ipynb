{
 "cells": [
  {
   "cell_type": "code",
   "execution_count": 3,
   "id": "b84bff8d",
   "metadata": {},
   "outputs": [],
   "source": [
    "#데이터 전처리\n",
    "import pandas as pd\n",
    "data=pd.read_csv('C:/Users/HCJ/Desktop/2021_Summer/Finance_data/bank.csv')\n",
    "Y=data[['TARGET']]\n",
    "X=data.drop(['Unnamed: 0','TARGET'],axis=1)\n",
    "X.iloc[:,[42,43,44,63,64,65,66,67]] = X.iloc[:,[42,43,44,63,64,65,66,67]].astype('category')\n",
    "from sklearn.model_selection import train_test_split\n",
    "X_train, X_test, Y_train, Y_test=train_test_split(X,Y,test_size=0.3,random_state=1004)\n",
    "from imblearn.over_sampling import SMOTEN\n",
    "smoten = SMOTEN()\n",
    "X_smoten, Y_smoten = smoten.fit_resample(X_train, Y_train)"
   ]
  },
  {
   "cell_type": "code",
   "execution_count": 5,
   "id": "25953d1e",
   "metadata": {},
   "outputs": [
    {
     "name": "stdout",
     "output_type": "stream",
     "text": [
      "0.9929449820138869\n",
      "              0      1\n",
      "0      0.992945    0.0\n",
      "1      1.000000    0.0\n",
      "2      0.996460    0.0\n",
      "3  35608.000000  253.0\n"
     ]
    },
    {
     "name": "stderr",
     "output_type": "stream",
     "text": [
      "C:\\Users\\HCJ\\anaconda3\\lib\\site-packages\\sklearn\\metrics\\_classification.py:1248: UndefinedMetricWarning: Precision and F-score are ill-defined and being set to 0.0 in labels with no predicted samples. Use `zero_division` parameter to control this behavior.\n",
      "  _warn_prf(average, modifier, msg_start, len(result))\n"
     ]
    }
   ],
   "source": [
    "#FM, 샘플링 X\n",
    "import xlearn as xl\n",
    "import numpy as np\n",
    "# DMatrix transition, if use field ,use must pass field map(an array) of features\n",
    "xdm_train = xl.DMatrix(X_train, Y_train)\n",
    "xdm_test = xl.DMatrix(X_test, Y_test)\n",
    "# Training task\n",
    "fm_model = xl.create_fm()  # Use factorization machine\n",
    "# we use the same API for train from file\n",
    "# that is, you can also pass xl.DMatrix for this API now\n",
    "fm_model.setTrain(xdm_train)    # Training data\n",
    "fm_model.setValidate(xdm_test)  # Validation data\n",
    "# param:\n",
    "#  0. regression task\n",
    "#  1. learning rate: 0.2\n",
    "#  2. regular lambda: 0.002\n",
    "#  3. evaluation metric: mae\n",
    "param = {'task':'binary', 'lr':0.2,\n",
    "         'lambda':0.002, 'metric':'acc'}\n",
    "# Start to train\n",
    "# The trained model will be stored in model.out\n",
    "fm_model.fit(param, './model_dm.out')\n",
    "# Prediction task\n",
    "# we use the same API for test from file\n",
    "# that is, you can also pass xl.DMatrix for this API now\n",
    "fm_model.setTest(xdm_test)  # Test data\n",
    "fm_model.setSign() # Convert output to 0,1\n",
    "# Start to predict\n",
    "# The output result will be stored in output.txt\n",
    "# if no result out path setted, we return res as numpy.ndarray\n",
    "Y_pred = fm_model.predict(\"./model_dm.out\")\n",
    "#성능 평가\n",
    "from sklearn import metrics\n",
    "fm_accuracy=metrics.accuracy_score(Y_test,Y_pred)\n",
    "fm_score=metrics.precision_recall_fscore_support(Y_test,Y_pred)\n",
    "\n",
    "print(fm_accuracy)\n",
    "print(pd.DataFrame(fm_score))"
   ]
  },
  {
   "cell_type": "code",
   "execution_count": 6,
   "id": "6ab53f00",
   "metadata": {},
   "outputs": [
    {
     "name": "stdout",
     "output_type": "stream",
     "text": [
      "0.8466300437801512\n",
      "              0           1\n",
      "0      0.997587    0.032103\n",
      "1      0.847590    0.711462\n",
      "2      0.916492    0.061433\n",
      "3  35608.000000  253.000000\n"
     ]
    }
   ],
   "source": [
    "#FM, 샘플링 O\n",
    "# DMatrix transition, if use field ,use must pass field map(an array) of features\n",
    "xdm_train1 = xl.DMatrix(X_smoten, Y_smoten)\n",
    "# Training task\n",
    "fm_model1 = xl.create_fm()  # Use factorization machine\n",
    "# we use the same API for train from file\n",
    "# that is, you can also pass xl.DMatrix for this API now\n",
    "fm_model1.setTrain(xdm_train1)    # Training data\n",
    "fm_model1.setValidate(xdm_test)  # Validation data\n",
    "# param:\n",
    "#  0. regression task\n",
    "#  1. learning rate: 0.2\n",
    "#  2. regular lambda: 0.002\n",
    "#  3. evaluation metric: mae\n",
    "param = {'task':'binary', 'lr':0.03,\n",
    "         'lambda':0.0001, 'metric':'acc'}\n",
    "# Start to train\n",
    "# The trained model will be stored in model.out\n",
    "fm_model1.fit(param, './modeldm.out')\n",
    "# Prediction task\n",
    "# we use the same API for test from file\n",
    "# that is, you can also pass xl.DMatrix for this API now\n",
    "fm_model1.setTest(xdm_test)  # Test data\n",
    "fm_model1.setSign() # Convert output to 0,1\n",
    "# Start to predict\n",
    "# The output result will be stored in output.txt\n",
    "# if no result out path setted, we return res as numpy.ndarray\n",
    "Y_pred1 = fm_model.predict(\"./modeldm.out\")\n",
    "#성능 평가\n",
    "from sklearn import metrics\n",
    "fm_smote_accuracy=metrics.accuracy_score(Y_test,Y_pred1)\n",
    "fm_smote_score=metrics.precision_recall_fscore_support(Y_test,Y_pred1)\n",
    "\n",
    "print(fm_smote_accuracy)\n",
    "print(pd.DataFrame(fm_smote_score))"
   ]
  },
  {
   "cell_type": "code",
   "execution_count": null,
   "id": "350f3ff4",
   "metadata": {},
   "outputs": [],
   "source": []
  }
 ],
 "metadata": {
  "kernelspec": {
   "display_name": "Python 3",
   "language": "python",
   "name": "python3"
  },
  "language_info": {
   "codemirror_mode": {
    "name": "ipython",
    "version": 3
   },
   "file_extension": ".py",
   "mimetype": "text/x-python",
   "name": "python",
   "nbconvert_exporter": "python",
   "pygments_lexer": "ipython3",
   "version": "3.8.5"
  }
 },
 "nbformat": 4,
 "nbformat_minor": 5
}
