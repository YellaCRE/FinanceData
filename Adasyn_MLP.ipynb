{
 "cells": [
  {
   "cell_type": "code",
   "execution_count": 2,
   "id": "059fb3ea",
   "metadata": {},
   "outputs": [
    {
     "name": "stderr",
     "output_type": "stream",
     "text": [
      "C:\\Users\\HCJ\\anaconda3\\envs\\HCJ\\lib\\site-packages\\sklearn\\utils\\validation.py:63: DataConversionWarning: A column-vector y was passed when a 1d array was expected. Please change the shape of y to (n_samples, ), for example using ravel().\n",
      "  return f(*args, **kwargs)\n",
      "C:\\Users\\HCJ\\anaconda3\\envs\\HCJ\\lib\\site-packages\\sklearn\\metrics\\_classification.py:1248: UndefinedMetricWarning: Precision and F-score are ill-defined and being set to 0.0 in labels with no predicted samples. Use `zero_division` parameter to control this behavior.\n",
      "  _warn_prf(average, modifier, msg_start, len(result))\n",
      "C:\\Users\\HCJ\\anaconda3\\envs\\HCJ\\lib\\site-packages\\sklearn\\utils\\validation.py:63: DataConversionWarning: A column-vector y was passed when a 1d array was expected. Please change the shape of y to (n_samples, ), for example using ravel().\n",
      "  return f(*args, **kwargs)\n",
      "C:\\Users\\HCJ\\anaconda3\\envs\\HCJ\\lib\\site-packages\\sklearn\\utils\\validation.py:63: DataConversionWarning: A column-vector y was passed when a 1d array was expected. Please change the shape of y to (n_samples, ), for example using ravel().\n",
      "  return f(*args, **kwargs)\n",
      "C:\\Users\\HCJ\\anaconda3\\envs\\HCJ\\lib\\site-packages\\sklearn\\utils\\validation.py:63: DataConversionWarning: A column-vector y was passed when a 1d array was expected. Please change the shape of y to (n_samples, ), for example using ravel().\n",
      "  return f(*args, **kwargs)\n",
      "C:\\Users\\HCJ\\anaconda3\\envs\\HCJ\\lib\\site-packages\\sklearn\\utils\\validation.py:63: DataConversionWarning: A column-vector y was passed when a 1d array was expected. Please change the shape of y to (n_samples, ), for example using ravel().\n",
      "  return f(*args, **kwargs)\n"
     ]
    }
   ],
   "source": [
    "#데이터 전처리\n",
    "import pandas as pd\n",
    "data=pd.read_csv('C:/Users/HCJ/Desktop/2021_Summer/Finance_data/bank.csv')\n",
    "Y=data[['TARGET']]\n",
    "X=data.drop(['Unnamed: 0','TARGET'],axis=1)\n",
    "from sklearn.model_selection import train_test_split\n",
    "X_train, X_test, Y_train, Y_test=train_test_split(X,Y,test_size=0.3,random_state=1004)\n",
    "from imblearn.over_sampling import SMOTEN\n",
    "smoten = SMOTEN()\n",
    "X_train_smote, Y_train_smote = smoten.fit_resample(X_train,Y_train)\n",
    "from imblearn.over_sampling import ADASYN\n",
    "X_ada, Y_ada = ADASYN(random_state=0).fit_resample(X_train,Y_train)\n",
    "from imblearn.under_sampling import RandomUnderSampler\n",
    "X_under, Y_under = RandomUnderSampler(random_state=0).fit_resample(X_train,Y_train)"
   ]
  },
  {
   "cell_type": "code",
   "execution_count": 7,
   "id": "cb03ed26",
   "metadata": {},
   "outputs": [
    {
     "name": "stderr",
     "output_type": "stream",
     "text": [
      "C:\\Users\\HCJ\\anaconda3\\envs\\HCJ\\lib\\site-packages\\sklearn\\utils\\validation.py:63: DataConversionWarning: A column-vector y was passed when a 1d array was expected. Please change the shape of y to (n_samples, ), for example using ravel().\n",
      "  return f(*args, **kwargs)\n"
     ]
    },
    {
     "name": "stdout",
     "output_type": "stream",
     "text": [
      "0.9929449820138869\n",
      "              0      1\n",
      "0      0.992945    0.0\n",
      "1      1.000000    0.0\n",
      "2      0.996460    0.0\n",
      "3  35608.000000  253.0\n"
     ]
    },
    {
     "name": "stderr",
     "output_type": "stream",
     "text": [
      "C:\\Users\\HCJ\\anaconda3\\envs\\HCJ\\lib\\site-packages\\sklearn\\metrics\\_classification.py:1248: UndefinedMetricWarning: Precision and F-score are ill-defined and being set to 0.0 in labels with no predicted samples. Use `zero_division` parameter to control this behavior.\n",
      "  _warn_prf(average, modifier, msg_start, len(result))\n"
     ]
    }
   ],
   "source": [
    "#MLP 샘플링 X\n",
    "from sklearn.neural_network import MLPClassifier\n",
    "mlp = MLPClassifier(hidden_layer_sizes=(10,), activation='logistic', solver='sgd', alpha=0.01, batch_size=32,learning_rate_init=0.1, max_iter=500)  \n",
    "mlp.fit(X_train, Y_train)\n",
    "Y_pred = mlp.predict(X_test)\n",
    "\n",
    "#성능 평가\n",
    "from sklearn import metrics\n",
    "mlp_accuracy=metrics.accuracy_score(Y_test,Y_pred)\n",
    "mlp_score=metrics.precision_recall_fscore_support(Y_test,Y_pred)\n",
    "\n",
    "print(mlp_accuracy)\n",
    "print(pd.DataFrame(mlp_score))"
   ]
  },
  {
   "cell_type": "code",
   "execution_count": 8,
   "id": "485289d9",
   "metadata": {},
   "outputs": [
    {
     "name": "stderr",
     "output_type": "stream",
     "text": [
      "C:\\Users\\HCJ\\anaconda3\\envs\\HCJ\\lib\\site-packages\\sklearn\\utils\\validation.py:63: DataConversionWarning: A column-vector y was passed when a 1d array was expected. Please change the shape of y to (n_samples, ), for example using ravel().\n",
      "  return f(*args, **kwargs)\n"
     ]
    },
    {
     "name": "stdout",
     "output_type": "stream",
     "text": [
      "0.8583977022392013\n",
      "              0           1\n",
      "0      0.998693    0.040564\n",
      "1      0.858515    0.841897\n",
      "2      0.923314    0.077398\n",
      "3  35608.000000  253.000000\n"
     ]
    }
   ],
   "source": [
    "#MLP 샘플링 smoten\n",
    "mlp2 = MLPClassifier(hidden_layer_sizes=(10,), activation='logistic', solver='sgd', alpha=0.01, batch_size=32,learning_rate_init=0.1, max_iter=500)  \n",
    "mlp2.fit(X_train_smote, Y_train_smote)\n",
    "Y_pred2 = mlp2.predict(X_test)\n",
    "#성능 평가\n",
    "smote_mlp_accuracy=metrics.accuracy_score(Y_test,Y_pred2)\n",
    "smote_mlp_score=metrics.precision_recall_fscore_support(Y_test,Y_pred2)\n",
    "\n",
    "print(smote_mlp_accuracy)\n",
    "print(pd.DataFrame(smote_mlp_score))"
   ]
  },
  {
   "cell_type": "code",
   "execution_count": 9,
   "id": "301902b4",
   "metadata": {},
   "outputs": [
    {
     "name": "stderr",
     "output_type": "stream",
     "text": [
      "C:\\Users\\HCJ\\anaconda3\\envs\\HCJ\\lib\\site-packages\\sklearn\\utils\\validation.py:63: DataConversionWarning: A column-vector y was passed when a 1d array was expected. Please change the shape of y to (n_samples, ), for example using ravel().\n",
      "  return f(*args, **kwargs)\n"
     ]
    },
    {
     "name": "stdout",
     "output_type": "stream",
     "text": [
      "0.9909372298597362\n",
      "              0           1\n",
      "0      0.995256    0.350000\n",
      "1      0.995619    0.332016\n",
      "2      0.995437    0.340771\n",
      "3  35608.000000  253.000000\n"
     ]
    }
   ],
   "source": [
    "#MLP 샘플링 smoten, RELU\n",
    "mlp3 = MLPClassifier(activation='relu')  \n",
    "mlp3.fit(X_train_smote, Y_train_smote)\n",
    "Y_pred3 = mlp3.predict(X_test)\n",
    "#성능 평가\n",
    "smote_mlpr_accuracy=metrics.accuracy_score(Y_test,Y_pred3)\n",
    "smote_mlpr_score=metrics.precision_recall_fscore_support(Y_test,Y_pred3)\n",
    "\n",
    "print(smote_mlpr_accuracy)\n",
    "print(pd.DataFrame(smote_mlpr_score))"
   ]
  },
  {
   "cell_type": "code",
   "execution_count": 12,
   "id": "890c8a91",
   "metadata": {},
   "outputs": [
    {
     "name": "stderr",
     "output_type": "stream",
     "text": [
      "C:\\Users\\HCJ\\anaconda3\\envs\\HCJ\\lib\\site-packages\\sklearn\\utils\\validation.py:63: DataConversionWarning: A column-vector y was passed when a 1d array was expected. Please change the shape of y to (n_samples, ), for example using ravel().\n",
      "  return f(*args, **kwargs)\n"
     ]
    },
    {
     "name": "stdout",
     "output_type": "stream",
     "text": [
      "0.7981372521680935\n",
      "              0           1\n",
      "0      0.998629    0.028864\n",
      "1      0.797798    0.845850\n",
      "2      0.886988    0.055824\n",
      "3  35608.000000  253.000000\n"
     ]
    }
   ],
   "source": [
    "#MLP 샘플링 adasyn\n",
    "mlp4 = MLPClassifier(hidden_layer_sizes=(10,), activation='logistic', solver='sgd', alpha=0.01, batch_size=32,learning_rate_init=0.1, max_iter=500)  \n",
    "mlp4.fit(X_ada, Y_ada)\n",
    "Y_pred4 = mlp4.predict(X_test)\n",
    "#성능 평가\n",
    "ada_mlp_accuracy=metrics.accuracy_score(Y_test,Y_pred4)\n",
    "ada_mlp_score=metrics.precision_recall_fscore_support(Y_test,Y_pred4)\n",
    "\n",
    "print(ada_mlp_accuracy)\n",
    "print(pd.DataFrame(ada_mlp_score))"
   ]
  },
  {
   "cell_type": "code",
   "execution_count": 11,
   "id": "53ff51b1",
   "metadata": {},
   "outputs": [
    {
     "name": "stderr",
     "output_type": "stream",
     "text": [
      "C:\\Users\\HCJ\\anaconda3\\envs\\HCJ\\lib\\site-packages\\sklearn\\utils\\validation.py:63: DataConversionWarning: A column-vector y was passed when a 1d array was expected. Please change the shape of y to (n_samples, ), for example using ravel().\n",
      "  return f(*args, **kwargs)\n"
     ]
    },
    {
     "name": "stdout",
     "output_type": "stream",
     "text": [
      "0.9929449820138869\n",
      "              0      1\n",
      "0      0.992945    0.0\n",
      "1      1.000000    0.0\n",
      "2      0.996460    0.0\n",
      "3  35608.000000  253.0\n"
     ]
    },
    {
     "name": "stderr",
     "output_type": "stream",
     "text": [
      "C:\\Users\\HCJ\\anaconda3\\envs\\HCJ\\lib\\site-packages\\sklearn\\metrics\\_classification.py:1248: UndefinedMetricWarning: Precision and F-score are ill-defined and being set to 0.0 in labels with no predicted samples. Use `zero_division` parameter to control this behavior.\n",
      "  _warn_prf(average, modifier, msg_start, len(result))\n"
     ]
    }
   ],
   "source": [
    "#MLP 샘플링 randomundersampling\n",
    "mlp5 = MLPClassifier(hidden_layer_sizes=(10,), activation='logistic', solver='sgd', alpha=0.01, batch_size=32,learning_rate_init=0.1, max_iter=500)  \n",
    "mlp5.fit(X_under, Y_under)\n",
    "Y_pred5 = mlp5.predict(X_test)\n",
    "#성능 평가\n",
    "under_mlp_accuracy=metrics.accuracy_score(Y_test,Y_pred5)\n",
    "under_mlp_score=metrics.precision_recall_fscore_support(Y_test,Y_pred5)\n",
    "\n",
    "print(under_mlp_accuracy)\n",
    "print(pd.DataFrame(under_mlp_score))"
   ]
  },
  {
   "cell_type": "code",
   "execution_count": null,
   "id": "b2713111",
   "metadata": {},
   "outputs": [],
   "source": []
  }
 ],
 "metadata": {
  "kernelspec": {
   "display_name": "Python 3",
   "language": "python",
   "name": "python3"
  },
  "language_info": {
   "codemirror_mode": {
    "name": "ipython",
    "version": 3
   },
   "file_extension": ".py",
   "mimetype": "text/x-python",
   "name": "python",
   "nbconvert_exporter": "python",
   "pygments_lexer": "ipython3",
   "version": "3.8.10"
  }
 },
 "nbformat": 4,
 "nbformat_minor": 5
}
